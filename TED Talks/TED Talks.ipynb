{
 "cells": [
  {
   "cell_type": "code",
   "execution_count": 1,
   "metadata": {},
   "outputs": [],
   "source": [
    "import pandas as pd\n",
    "import numpy as np\n",
    "import matplotlib.pyplot as plt\n",
    "import seaborn as sns"
   ]
  },
  {
   "cell_type": "code",
   "execution_count": 2,
   "metadata": {},
   "outputs": [],
   "source": [
    "df = pd.read_csv(\"data.csv\")"
   ]
  },
  {
   "cell_type": "code",
   "execution_count": 3,
   "metadata": {},
   "outputs": [
    {
     "data": {
      "text/plain": [
       "(5440, 6)"
      ]
     },
     "execution_count": 3,
     "metadata": {},
     "output_type": "execute_result"
    }
   ],
   "source": [
    "df.shape #records: 5440, fields: 6"
   ]
  },
  {
   "cell_type": "code",
   "execution_count": 4,
   "metadata": {},
   "outputs": [
    {
     "data": {
      "text/html": [
       "<div>\n",
       "<style scoped>\n",
       "    .dataframe tbody tr th:only-of-type {\n",
       "        vertical-align: middle;\n",
       "    }\n",
       "\n",
       "    .dataframe tbody tr th {\n",
       "        vertical-align: top;\n",
       "    }\n",
       "\n",
       "    .dataframe thead th {\n",
       "        text-align: right;\n",
       "    }\n",
       "</style>\n",
       "<table border=\"1\" class=\"dataframe\">\n",
       "  <thead>\n",
       "    <tr style=\"text-align: right;\">\n",
       "      <th></th>\n",
       "      <th>title</th>\n",
       "      <th>author</th>\n",
       "      <th>date</th>\n",
       "      <th>views</th>\n",
       "      <th>likes</th>\n",
       "      <th>link</th>\n",
       "    </tr>\n",
       "  </thead>\n",
       "  <tbody>\n",
       "    <tr>\n",
       "      <th>0</th>\n",
       "      <td>Climate action needs new frontline leadership</td>\n",
       "      <td>Ozawa Bineshi Albert</td>\n",
       "      <td>December 2021</td>\n",
       "      <td>404000</td>\n",
       "      <td>12000</td>\n",
       "      <td>https://ted.com/talks/ozawa_bineshi_albert_cli...</td>\n",
       "    </tr>\n",
       "    <tr>\n",
       "      <th>1</th>\n",
       "      <td>The dark history of the overthrow of Hawaii</td>\n",
       "      <td>Sydney Iaukea</td>\n",
       "      <td>February 2022</td>\n",
       "      <td>214000</td>\n",
       "      <td>6400</td>\n",
       "      <td>https://ted.com/talks/sydney_iaukea_the_dark_h...</td>\n",
       "    </tr>\n",
       "    <tr>\n",
       "      <th>2</th>\n",
       "      <td>How play can spark new ideas for your business</td>\n",
       "      <td>Martin Reeves</td>\n",
       "      <td>September 2021</td>\n",
       "      <td>412000</td>\n",
       "      <td>12000</td>\n",
       "      <td>https://ted.com/talks/martin_reeves_how_play_c...</td>\n",
       "    </tr>\n",
       "    <tr>\n",
       "      <th>3</th>\n",
       "      <td>Why is China appointing judges to combat clima...</td>\n",
       "      <td>James K. Thornton</td>\n",
       "      <td>October 2021</td>\n",
       "      <td>427000</td>\n",
       "      <td>12000</td>\n",
       "      <td>https://ted.com/talks/james_k_thornton_why_is_...</td>\n",
       "    </tr>\n",
       "    <tr>\n",
       "      <th>4</th>\n",
       "      <td>Cement's carbon problem — and 2 ways to fix it</td>\n",
       "      <td>Mahendra Singhi</td>\n",
       "      <td>October 2021</td>\n",
       "      <td>2400</td>\n",
       "      <td>72</td>\n",
       "      <td>https://ted.com/talks/mahendra_singhi_cement_s...</td>\n",
       "    </tr>\n",
       "  </tbody>\n",
       "</table>\n",
       "</div>"
      ],
      "text/plain": [
       "                                               title                author  \\\n",
       "0      Climate action needs new frontline leadership  Ozawa Bineshi Albert   \n",
       "1        The dark history of the overthrow of Hawaii         Sydney Iaukea   \n",
       "2     How play can spark new ideas for your business         Martin Reeves   \n",
       "3  Why is China appointing judges to combat clima...     James K. Thornton   \n",
       "4     Cement's carbon problem — and 2 ways to fix it       Mahendra Singhi   \n",
       "\n",
       "             date   views  likes  \\\n",
       "0   December 2021  404000  12000   \n",
       "1   February 2022  214000   6400   \n",
       "2  September 2021  412000  12000   \n",
       "3    October 2021  427000  12000   \n",
       "4    October 2021    2400     72   \n",
       "\n",
       "                                                link  \n",
       "0  https://ted.com/talks/ozawa_bineshi_albert_cli...  \n",
       "1  https://ted.com/talks/sydney_iaukea_the_dark_h...  \n",
       "2  https://ted.com/talks/martin_reeves_how_play_c...  \n",
       "3  https://ted.com/talks/james_k_thornton_why_is_...  \n",
       "4  https://ted.com/talks/mahendra_singhi_cement_s...  "
      ]
     },
     "execution_count": 4,
     "metadata": {},
     "output_type": "execute_result"
    }
   ],
   "source": [
    "df.head() "
   ]
  },
  {
   "cell_type": "code",
   "execution_count": 5,
   "metadata": {},
   "outputs": [],
   "source": [
    "#4 fields are categorical & 2 are numerical\n",
    "#We need to do preprocessing in order to make the categorical data worthy of the analysis"
   ]
  },
  {
   "cell_type": "code",
   "execution_count": 6,
   "metadata": {},
   "outputs": [
    {
     "name": "stdout",
     "output_type": "stream",
     "text": [
      "<class 'pandas.core.frame.DataFrame'>\n",
      "RangeIndex: 5440 entries, 0 to 5439\n",
      "Data columns (total 6 columns):\n",
      " #   Column  Non-Null Count  Dtype \n",
      "---  ------  --------------  ----- \n",
      " 0   title   5440 non-null   object\n",
      " 1   author  5439 non-null   object\n",
      " 2   date    5440 non-null   object\n",
      " 3   views   5440 non-null   int64 \n",
      " 4   likes   5440 non-null   int64 \n",
      " 5   link    5440 non-null   object\n",
      "dtypes: int64(2), object(4)\n",
      "memory usage: 255.1+ KB\n"
     ]
    }
   ],
   "source": [
    "df.info()"
   ]
  },
  {
   "cell_type": "code",
   "execution_count": 7,
   "metadata": {},
   "outputs": [],
   "source": [
    "#There is only one empty record in \"author\" column"
   ]
  },
  {
   "cell_type": "code",
   "execution_count": 8,
   "metadata": {},
   "outputs": [
    {
     "name": "stdout",
     "output_type": "stream",
     "text": [
      "                   title author           date  views  likes  \\\n",
      "3039  Year In Ideas 2015    NaN  December 2015    532     15   \n",
      "\n",
      "                                          link  \n",
      "3039  https://ted.com/talks/year_in_ideas_2015  \n"
     ]
    }
   ],
   "source": [
    "null_data = df[df.isnull().any(axis=1)]\n",
    "print(null_data)"
   ]
  },
  {
   "cell_type": "markdown",
   "metadata": {},
   "source": [
    "### Dealing with missing value "
   ]
  },
  {
   "cell_type": "code",
   "execution_count": 9,
   "metadata": {},
   "outputs": [],
   "source": [
    "#deleting the missing value \n",
    "df = df.dropna(axis=0)"
   ]
  },
  {
   "cell_type": "code",
   "execution_count": 10,
   "metadata": {},
   "outputs": [
    {
     "data": {
      "text/plain": [
       "(5439, 6)"
      ]
     },
     "execution_count": 10,
     "metadata": {},
     "output_type": "execute_result"
    }
   ],
   "source": [
    "df.shape"
   ]
  },
  {
   "cell_type": "code",
   "execution_count": 11,
   "metadata": {},
   "outputs": [
    {
     "data": {
      "text/plain": [
       "Alex Gendler        45\n",
       "Iseult Gillespie    33\n",
       "Matt Walker         18\n",
       "Alex Rosenthal      15\n",
       "Elizabeth Cox       13\n",
       "                    ..\n",
       "Dayo Ogunyemi        1\n",
       "Jon Bowers           1\n",
       "Kevin Briggs         1\n",
       "John Bolton          1\n",
       "Hu Liang             1\n",
       "Name: author, Length: 4443, dtype: int64"
      ]
     },
     "execution_count": 11,
     "metadata": {},
     "output_type": "execute_result"
    }
   ],
   "source": [
    "author_count = df[\"author\"].value_counts()\n",
    "author_count"
   ]
  },
  {
   "cell_type": "code",
   "execution_count": 12,
   "metadata": {},
   "outputs": [],
   "source": [
    "#Author \"Alex Gendler\" is the most popular ted talks speaker in terms of number of talks"
   ]
  },
  {
   "cell_type": "code",
   "execution_count": 84,
   "metadata": {},
   "outputs": [
    {
     "data": {
      "text/plain": [
       "author\n",
       "Alex Gendler        45\n",
       "Iseult Gillespie    33\n",
       "Matt Walker         18\n",
       "Alex Rosenthal      15\n",
       "Elizabeth Cox       13\n",
       "dtype: int64"
      ]
     },
     "execution_count": 84,
     "metadata": {},
     "output_type": "execute_result"
    }
   ],
   "source": [
    "#Alternate way\n",
    "df.groupby(\"author\").size().sort_values(ascending=False).head()"
   ]
  },
  {
   "cell_type": "code",
   "execution_count": 13,
   "metadata": {},
   "outputs": [
    {
     "data": {
      "text/plain": [
       "Why wildfires have gotten worse — and what we can do about it             1\n",
       "Creative problem-solving in the face of extreme limits                    1\n",
       "How quantum mechanics explains global warming                             1\n",
       "Why sneakers are a great investment                                       1\n",
       "Why we need to imagine different futures                                  1\n",
       "                                                                         ..\n",
       "The riddle of experience vs. memory                                       1\n",
       "How we can store digital data in DNA                                      1\n",
       "The world's most painful insect sting                                     1\n",
       "4 lessons I learned from taking a stand against drugs and gun violence    1\n",
       "To create for the ages, let's combine art and engineering                 1\n",
       "Name: title, Length: 5439, dtype: int64"
      ]
     },
     "execution_count": 13,
     "metadata": {},
     "output_type": "execute_result"
    }
   ],
   "source": [
    "title_count = df[\"title\"].value_counts()\n",
    "title_count"
   ]
  },
  {
   "cell_type": "code",
   "execution_count": 14,
   "metadata": {},
   "outputs": [],
   "source": [
    "#There are no repeated titles"
   ]
  },
  {
   "cell_type": "markdown",
   "metadata": {},
   "source": [
    "### Uivariate analysis"
   ]
  },
  {
   "cell_type": "code",
   "execution_count": 15,
   "metadata": {},
   "outputs": [
    {
     "data": {
      "text/plain": [
       "<matplotlib.collections.PathCollection at 0x7f9ed813ed90>"
      ]
     },
     "execution_count": 15,
     "metadata": {},
     "output_type": "execute_result"
    },
    {
     "data": {
      "image/png": "[encoded data removed]",
      "text/plain": [
       "<Figure size 432x288 with 1 Axes>"
      ]
     },
     "metadata": {
      "needs_background": "light"
     },
     "output_type": "display_data"
    }
   ],
   "source": [
    "plt.scatter(df.index, df[\"views\"])"
   ]
  },
  {
   "cell_type": "code",
   "execution_count": 18,
   "metadata": {},
   "outputs": [
    {
     "data": {
      "text/plain": [
       "<AxesSubplot:ylabel='views'>"
      ]
     },
     "execution_count": 18,
     "metadata": {},
     "output_type": "execute_result"
    },
    {
     "data": {
      "image/png": "[encoded data removed]",
      "text/plain": [
       "<Figure size 432x288 with 1 Axes>"
      ]
     },
     "metadata": {
      "needs_background": "light"
     },
     "output_type": "display_data"
    }
   ],
   "source": [
    "#for better understanding, let's look at the distribution of data \"views\"\n",
    "sns.stripplot(y=df[\"views\"])"
   ]
  },
  {
   "cell_type": "code",
   "execution_count": 19,
   "metadata": {},
   "outputs": [
    {
     "name": "stderr",
     "output_type": "stream",
     "text": [
      "/Users/chahakjadon/opt/anaconda3/lib/python3.8/site-packages/seaborn/distributions.py:2551: FutureWarning: `distplot` is a deprecated function and will be removed in a future version. Please adapt your code to use either `displot` (a figure-level function with similar flexibility) or `histplot` (an axes-level function for histograms).\n",
      "  warnings.warn(msg, FutureWarning)\n"
     ]
    },
    {
     "data": {
      "text/plain": [
       "Text(0.5, 1.0, 'Distribution of views')"
      ]
     },
     "execution_count": 19,
     "metadata": {},
     "output_type": "execute_result"
    },
    {
     "data": {
      "image/png": "[encoded data removed]",
      "text/plain": [
       "<Figure size 432x288 with 1 Axes>"
      ]
     },
     "metadata": {
      "needs_background": "light"
     },
     "output_type": "display_data"
    }
   ],
   "source": [
    "sns.distplot(df[\"views\"], kde=False)\n",
    "plt.title(\"Distribution of views\")"
   ]
  },
  {
   "cell_type": "code",
   "execution_count": 20,
   "metadata": {},
   "outputs": [],
   "source": [
    "#The above graphs show that there are some outliers"
   ]
  },
  {
   "cell_type": "code",
   "execution_count": 22,
   "metadata": {},
   "outputs": [
    {
     "name": "stdout",
     "output_type": "stream",
     "text": [
      "5436    72000000\n",
      "4084    64000000\n",
      "2958    60000000\n",
      "4765    57000000\n",
      "4605    56000000\n",
      "3504    49000000\n",
      "2168    43000000\n",
      "3251    43000000\n",
      "3017    41000000\n",
      "3994    38000000\n",
      "Name: views, dtype: int64\n"
     ]
    }
   ],
   "source": [
    "#10 largest data for views field\n",
    "print(df[\"views\"].nlargest(10))"
   ]
  },
  {
   "cell_type": "code",
   "execution_count": 23,
   "metadata": {},
   "outputs": [],
   "source": [
    "count_less_1e7 = np.count_nonzero(df[\"views\"] < 10000000)"
   ]
  },
  {
   "cell_type": "code",
   "execution_count": 24,
   "metadata": {},
   "outputs": [
    {
     "name": "stdout",
     "output_type": "stream",
     "text": [
      "5312\n"
     ]
    }
   ],
   "source": [
    "print(count_less_1e7)"
   ]
  },
  {
   "cell_type": "code",
   "execution_count": 25,
   "metadata": {},
   "outputs": [
    {
     "data": {
      "text/plain": [
       "117"
      ]
     },
     "execution_count": 25,
     "metadata": {},
     "output_type": "execute_result"
    }
   ],
   "source": [
    "np.count_nonzero(df[\"views\"] > 10000000)"
   ]
  },
  {
   "cell_type": "code",
   "execution_count": 26,
   "metadata": {},
   "outputs": [
    {
     "data": {
      "text/plain": [
       "32"
      ]
     },
     "execution_count": 26,
     "metadata": {},
     "output_type": "execute_result"
    }
   ],
   "source": [
    "np.count_nonzero(df[\"views\"] > 20000000)"
   ]
  },
  {
   "cell_type": "code",
   "execution_count": 55,
   "metadata": {},
   "outputs": [
    {
     "data": {
      "text/html": [
       "<div>\n",
       "<style scoped>\n",
       "    .dataframe tbody tr th:only-of-type {\n",
       "        vertical-align: middle;\n",
       "    }\n",
       "\n",
       "    .dataframe tbody tr th {\n",
       "        vertical-align: top;\n",
       "    }\n",
       "\n",
       "    .dataframe thead th {\n",
       "        text-align: right;\n",
       "    }\n",
       "</style>\n",
       "<table border=\"1\" class=\"dataframe\">\n",
       "  <thead>\n",
       "    <tr style=\"text-align: right;\">\n",
       "      <th></th>\n",
       "      <th>title</th>\n",
       "      <th>author</th>\n",
       "      <th>date</th>\n",
       "      <th>views</th>\n",
       "      <th>likes</th>\n",
       "      <th>link</th>\n",
       "    </tr>\n",
       "  </thead>\n",
       "  <tbody>\n",
       "    <tr>\n",
       "      <th>5436</th>\n",
       "      <td>Do schools kill creativity?</td>\n",
       "      <td>Sir Ken Robinson</td>\n",
       "      <td>February 2006</td>\n",
       "      <td>72000000</td>\n",
       "      <td>2100000</td>\n",
       "      <td>https://ted.com/talks/sir_ken_robinson_do_scho...</td>\n",
       "    </tr>\n",
       "  </tbody>\n",
       "</table>\n",
       "</div>"
      ],
      "text/plain": [
       "                            title            author           date     views  \\\n",
       "5436  Do schools kill creativity?  Sir Ken Robinson  February 2006  72000000   \n",
       "\n",
       "        likes                                               link  \n",
       "5436  2100000  https://ted.com/talks/sir_ken_robinson_do_scho...  "
      ]
     },
     "execution_count": 55,
     "metadata": {},
     "output_type": "execute_result"
    }
   ],
   "source": [
    "max_views = df[df[\"views\"]==72000000]\n",
    "max_views"
   ]
  },
  {
   "cell_type": "code",
   "execution_count": 56,
   "metadata": {},
   "outputs": [],
   "source": [
    "#The ted talks with the most views is: Do school kills creativity?"
   ]
  },
  {
   "cell_type": "code",
   "execution_count": 86,
   "metadata": {},
   "outputs": [
    {
     "data": {
      "text/plain": [
       "author\n",
       "Alex Gendler                        187196000\n",
       "Sir Ken Robinson                     95654000\n",
       "Bill Gates                           77800000\n",
       "Simon Sinek                          74800000\n",
       "Brené Brown                          72000000\n",
       "                                      ...    \n",
       "Peggy Chan                               2100\n",
       "Dave Matthews                            1600\n",
       "Qi Wu 吴琪                                 1500\n",
       " Deutsche Philharmonie Merck             1300\n",
       "Findlay Napier and Gillian Frame         1300\n",
       "Name: views, Length: 4443, dtype: int64"
      ]
     },
     "execution_count": 86,
     "metadata": {},
     "output_type": "execute_result"
    }
   ],
   "source": [
    "df.groupby(\"author\").sum()[\"views\"].sort_values(ascending=False)"
   ]
  },
  {
   "cell_type": "code",
   "execution_count": 87,
   "metadata": {},
   "outputs": [],
   "source": [
    "#The author with the most views is Alex Gendler"
   ]
  },
  {
   "cell_type": "code",
   "execution_count": 27,
   "metadata": {},
   "outputs": [
    {
     "data": {
      "text/plain": [
       "<matplotlib.collections.PathCollection at 0x7f9ee81fc190>"
      ]
     },
     "execution_count": 27,
     "metadata": {},
     "output_type": "execute_result"
    },
    {
     "data": {
      "image/png": "[encoded data removed]",
      "text/plain": [
       "<Figure size 432x288 with 1 Axes>"
      ]
     },
     "metadata": {
      "needs_background": "light"
     },
     "output_type": "display_data"
    }
   ],
   "source": [
    "plt.scatter(df.index, df[\"likes\"])"
   ]
  },
  {
   "cell_type": "code",
   "execution_count": 28,
   "metadata": {},
   "outputs": [],
   "source": [
    "#Most of the data of likes is between 0.0-0.5 1e6"
   ]
  },
  {
   "cell_type": "code",
   "execution_count": 32,
   "metadata": {},
   "outputs": [
    {
     "data": {
      "text/plain": [
       "5386"
      ]
     },
     "execution_count": 32,
     "metadata": {},
     "output_type": "execute_result"
    }
   ],
   "source": [
    "np.count_nonzero(df[\"likes\"] < 500000)"
   ]
  },
  {
   "cell_type": "code",
   "execution_count": 33,
   "metadata": {},
   "outputs": [
    {
     "data": {
      "text/plain": [
       "53"
      ]
     },
     "execution_count": 33,
     "metadata": {},
     "output_type": "execute_result"
    }
   ],
   "source": [
    "np.count_nonzero(df[\"likes\"] > 500000)"
   ]
  },
  {
   "cell_type": "code",
   "execution_count": 39,
   "metadata": {},
   "outputs": [],
   "source": [
    "#likes data also have some potential outliers"
   ]
  },
  {
   "cell_type": "code",
   "execution_count": 57,
   "metadata": {},
   "outputs": [
    {
     "data": {
      "text/plain": [
       "0        December 2021\n",
       "1        February 2022\n",
       "2       September 2021\n",
       "3         October 2021\n",
       "4         October 2021\n",
       "             ...      \n",
       "5435     February 2006\n",
       "5436     February 2006\n",
       "5437     February 2006\n",
       "5438     February 2006\n",
       "5439     February 2006\n",
       "Name: date, Length: 5439, dtype: object"
      ]
     },
     "execution_count": 57,
     "metadata": {},
     "output_type": "execute_result"
    }
   ],
   "source": [
    "#date\n",
    "df[\"date\"]"
   ]
  },
  {
   "cell_type": "code",
   "execution_count": 58,
   "metadata": {},
   "outputs": [],
   "source": [
    "#month, year\n",
    "df[\"date_split\"] = df[\"date\"].str.split(\" \")\n",
    "df[\"date_split\"]\n",
    "df[\"month\"] = df[\"date_split\"].str[0]\n",
    "df[\"year\"] = df[\"date_split\"].str[1]"
   ]
  },
  {
   "cell_type": "code",
   "execution_count": 59,
   "metadata": {},
   "outputs": [
    {
     "data": {
      "image/png": "[encoded data removed]",
      "text/plain": [
       "<Figure size 1080x720 with 2 Axes>"
      ]
     },
     "metadata": {
      "needs_background": "light"
     },
     "output_type": "display_data"
    }
   ],
   "source": [
    "figure,ax=plt.subplots(nrows=2,ncols=1,figsize=(15,10))\n",
    "\n",
    "sns.countplot(x='month',data=df,ax=ax[0])\n",
    "ax[0].set_title('Number of data for a particular month')\n",
    "\n",
    "sns.countplot(x='year',data=df,ax=ax[1])\n",
    "ax[1].set_title('Number of data for a particular year')\n",
    "\n",
    "plt.tight_layout()"
   ]
  },
  {
   "cell_type": "code",
   "execution_count": 60,
   "metadata": {},
   "outputs": [],
   "source": [
    "#According to the 2 graphs, most ted talks were released in the month of feburary and in the year of 2019"
   ]
  },
  {
   "cell_type": "markdown",
   "metadata": {},
   "source": [
    "### Bivariate Analysis"
   ]
  },
  {
   "cell_type": "code",
   "execution_count": 61,
   "metadata": {},
   "outputs": [
    {
     "data": {
      "text/plain": [
       "Text(0.5, 1.0, 'The Average views per month')"
      ]
     },
     "execution_count": 61,
     "metadata": {},
     "output_type": "execute_result"
    },
    {
     "data": {
      "image/png": "[encoded data removed]",
      "text/plain": [
       "<Figure size 864x432 with 1 Axes>"
      ]
     },
     "metadata": {
      "needs_background": "light"
     },
     "output_type": "display_data"
    }
   ],
   "source": [
    "sns.catplot(x=\"month\",y=\"views\",kind=\"bar\",data=df,height=6,aspect=2)\n",
    "plt.title('The Average views per month')"
   ]
  },
  {
   "cell_type": "code",
   "execution_count": 62,
   "metadata": {},
   "outputs": [],
   "source": [
    "#most viewed ted talk was in the month of feb"
   ]
  },
  {
   "cell_type": "code",
   "execution_count": 63,
   "metadata": {},
   "outputs": [
    {
     "data": {
      "text/plain": [
       "Text(0.5, 1.0, 'The Average views per year')"
      ]
     },
     "execution_count": 63,
     "metadata": {},
     "output_type": "execute_result"
    },
    {
     "data": {
      "image/png": "[encoded data removed]",
      "text/plain": [
       "<Figure size 864x432 with 1 Axes>"
      ]
     },
     "metadata": {
      "needs_background": "light"
     },
     "output_type": "display_data"
    }
   ],
   "source": [
    "sns.catplot(x=\"year\",y=\"views\",kind=\"bar\",data=df,height=6,aspect=2)\n",
    "plt.title('The Average views per year')"
   ]
  },
  {
   "cell_type": "code",
   "execution_count": 64,
   "metadata": {},
   "outputs": [],
   "source": [
    "#most viewed ted talk was in the year of 2006 even though most released ted talks were in 2019"
   ]
  },
  {
   "cell_type": "code",
   "execution_count": 66,
   "metadata": {},
   "outputs": [
    {
     "data": {
      "text/plain": [
       "Text(0.5, 1.0, 'The Average likes per month')"
      ]
     },
     "execution_count": 66,
     "metadata": {},
     "output_type": "execute_result"
    },
    {
     "data": {
      "image/png": "[encoded data removed]",
      "text/plain": [
       "<Figure size 864x432 with 1 Axes>"
      ]
     },
     "metadata": {
      "needs_background": "light"
     },
     "output_type": "display_data"
    }
   ],
   "source": [
    "sns.catplot(x=\"month\",y=\"likes\",kind=\"bar\",data=df,height=6,aspect=2)\n",
    "plt.title('The Average likes per month')"
   ]
  },
  {
   "cell_type": "code",
   "execution_count": 68,
   "metadata": {},
   "outputs": [],
   "source": [
    "#most liked ted talk was in the month of feb"
   ]
  },
  {
   "cell_type": "code",
   "execution_count": 67,
   "metadata": {},
   "outputs": [
    {
     "data": {
      "text/plain": [
       "Text(0.5, 1.0, 'The Average likes per year')"
      ]
     },
     "execution_count": 67,
     "metadata": {},
     "output_type": "execute_result"
    },
    {
     "data": {
      "image/png": "[encoded data removed]",
      "text/plain": [
       "<Figure size 864x432 with 1 Axes>"
      ]
     },
     "metadata": {
      "needs_background": "light"
     },
     "output_type": "display_data"
    }
   ],
   "source": [
    "sns.catplot(x=\"year\",y=\"likes\",kind=\"bar\",data=df,height=6,aspect=2)\n",
    "plt.title('The Average likes per year')"
   ]
  },
  {
   "cell_type": "code",
   "execution_count": 69,
   "metadata": {},
   "outputs": [],
   "source": [
    "#most liked ted talk was in the year of 2006 even though most released ted talks were in 2019"
   ]
  },
  {
   "cell_type": "code",
   "execution_count": 70,
   "metadata": {},
   "outputs": [],
   "source": [
    "#ted talks with best view to like ratio\n",
    "data = df.values"
   ]
  },
  {
   "cell_type": "code",
   "execution_count": 75,
   "metadata": {},
   "outputs": [
    {
     "data": {
      "text/plain": [
       "'Climate action needs new frontline leadership'"
      ]
     },
     "execution_count": 75,
     "metadata": {},
     "output_type": "execute_result"
    }
   ],
   "source": [
    "data[0][0]"
   ]
  },
  {
   "cell_type": "code",
   "execution_count": 77,
   "metadata": {},
   "outputs": [],
   "source": [
    "ratio = []\n",
    "for i in range(len(data)):\n",
    "    ratio.append(data[i][3]/ data[i][4])\n",
    "df[\"ratio\"] = ratio"
   ]
  },
  {
   "cell_type": "code",
   "execution_count": 78,
   "metadata": {},
   "outputs": [
    {
     "data": {
      "text/plain": [
       "0       33.666667\n",
       "1       33.437500\n",
       "2       34.333333\n",
       "3       35.583333\n",
       "4       33.333333\n",
       "          ...    \n",
       "5435    32.751092\n",
       "5436    34.285714\n",
       "5437    32.954545\n",
       "5438    33.333333\n",
       "5439    33.027523\n",
       "Name: ratio, Length: 5439, dtype: float64"
      ]
     },
     "execution_count": 78,
     "metadata": {},
     "output_type": "execute_result"
    }
   ],
   "source": [
    "df[\"ratio\"]"
   ]
  },
  {
   "cell_type": "code",
   "execution_count": 79,
   "metadata": {},
   "outputs": [
    {
     "data": {
      "text/html": [
       "<div>\n",
       "<style scoped>\n",
       "    .dataframe tbody tr th:only-of-type {\n",
       "        vertical-align: middle;\n",
       "    }\n",
       "\n",
       "    .dataframe tbody tr th {\n",
       "        vertical-align: top;\n",
       "    }\n",
       "\n",
       "    .dataframe thead th {\n",
       "        text-align: right;\n",
       "    }\n",
       "</style>\n",
       "<table border=\"1\" class=\"dataframe\">\n",
       "  <thead>\n",
       "    <tr style=\"text-align: right;\">\n",
       "      <th></th>\n",
       "      <th>title</th>\n",
       "      <th>author</th>\n",
       "      <th>date</th>\n",
       "      <th>views</th>\n",
       "      <th>likes</th>\n",
       "      <th>link</th>\n",
       "      <th>date_split</th>\n",
       "      <th>month</th>\n",
       "      <th>year</th>\n",
       "      <th>ratio</th>\n",
       "    </tr>\n",
       "  </thead>\n",
       "  <tbody>\n",
       "    <tr>\n",
       "      <th>955</th>\n",
       "      <td>A camera that can see around corners</td>\n",
       "      <td>David Lindell</td>\n",
       "      <td>November 2019</td>\n",
       "      <td>364000</td>\n",
       "      <td>10000</td>\n",
       "      <td>https://ted.com/talks/david_lindell_a_camera_t...</td>\n",
       "      <td>[November, 2019]</td>\n",
       "      <td>November</td>\n",
       "      <td>2019</td>\n",
       "      <td>36.4</td>\n",
       "    </tr>\n",
       "    <tr>\n",
       "      <th>905</th>\n",
       "      <td>What's the point(e) of ballet?</td>\n",
       "      <td>Ming Luke</td>\n",
       "      <td>April 2020</td>\n",
       "      <td>364000</td>\n",
       "      <td>10000</td>\n",
       "      <td>https://ted.com/talks/ming_luke_what_s_the_poi...</td>\n",
       "      <td>[April, 2020]</td>\n",
       "      <td>April</td>\n",
       "      <td>2020</td>\n",
       "      <td>36.4</td>\n",
       "    </tr>\n",
       "    <tr>\n",
       "      <th>837</th>\n",
       "      <td>How to see more and care less: The art of Geor...</td>\n",
       "      <td>Iseult Gillespie</td>\n",
       "      <td>June 2020</td>\n",
       "      <td>364000</td>\n",
       "      <td>10000</td>\n",
       "      <td>https://ted.com/talks/iseult_gillespie_how_to_...</td>\n",
       "      <td>[June, 2020]</td>\n",
       "      <td>June</td>\n",
       "      <td>2020</td>\n",
       "      <td>36.4</td>\n",
       "    </tr>\n",
       "    <tr>\n",
       "      <th>26</th>\n",
       "      <td>Can you outsmart the fallacy that divided a na...</td>\n",
       "      <td>Elizabeth Cox</td>\n",
       "      <td>February 2022</td>\n",
       "      <td>363000</td>\n",
       "      <td>10000</td>\n",
       "      <td>https://ted.com/talks/elizabeth_cox_can_you_ou...</td>\n",
       "      <td>[February, 2022]</td>\n",
       "      <td>February</td>\n",
       "      <td>2022</td>\n",
       "      <td>36.3</td>\n",
       "    </tr>\n",
       "    <tr>\n",
       "      <th>1016</th>\n",
       "      <td>The function and fashion of eyeglasses</td>\n",
       "      <td>Debbie Millman</td>\n",
       "      <td>January 2020</td>\n",
       "      <td>363000</td>\n",
       "      <td>10000</td>\n",
       "      <td>https://ted.com/talks/debbie_millman_the_funct...</td>\n",
       "      <td>[January, 2020]</td>\n",
       "      <td>January</td>\n",
       "      <td>2020</td>\n",
       "      <td>36.3</td>\n",
       "    </tr>\n",
       "  </tbody>\n",
       "</table>\n",
       "</div>"
      ],
      "text/plain": [
       "                                                  title            author  \\\n",
       "955                A camera that can see around corners     David Lindell   \n",
       "905                      What's the point(e) of ballet?         Ming Luke   \n",
       "837   How to see more and care less: The art of Geor...  Iseult Gillespie   \n",
       "26    Can you outsmart the fallacy that divided a na...     Elizabeth Cox   \n",
       "1016             The function and fashion of eyeglasses    Debbie Millman   \n",
       "\n",
       "               date   views  likes  \\\n",
       "955   November 2019  364000  10000   \n",
       "905      April 2020  364000  10000   \n",
       "837       June 2020  364000  10000   \n",
       "26    February 2022  363000  10000   \n",
       "1016   January 2020  363000  10000   \n",
       "\n",
       "                                                   link        date_split  \\\n",
       "955   https://ted.com/talks/david_lindell_a_camera_t...  [November, 2019]   \n",
       "905   https://ted.com/talks/ming_luke_what_s_the_poi...     [April, 2020]   \n",
       "837   https://ted.com/talks/iseult_gillespie_how_to_...      [June, 2020]   \n",
       "26    https://ted.com/talks/elizabeth_cox_can_you_ou...  [February, 2022]   \n",
       "1016  https://ted.com/talks/debbie_millman_the_funct...   [January, 2020]   \n",
       "\n",
       "         month  year  ratio  \n",
       "955   November  2019   36.4  \n",
       "905      April  2020   36.4  \n",
       "837       June  2020   36.4  \n",
       "26    February  2022   36.3  \n",
       "1016   January  2020   36.3  "
      ]
     },
     "execution_count": 79,
     "metadata": {},
     "output_type": "execute_result"
    }
   ],
   "source": [
    "df.sort_values(by=\"ratio\", ascending=False).head()"
   ]
  },
  {
   "cell_type": "code",
   "execution_count": 80,
   "metadata": {},
   "outputs": [],
   "source": [
    "#So 'A camera that can see around corners' is the best ted talks according to the views to likes ratio"
   ]
  },
  {
   "cell_type": "code",
   "execution_count": 89,
   "metadata": {},
   "outputs": [
    {
     "name": "stdout",
     "output_type": "stream",
     "text": [
      "How film captures the space between hope and despair https://ted.com/talks/mounia_akl_how_film_captures_the_space_between_hope_and_despair\n",
      "Yes, scientists are actually building an elevator to space https://ted.com/talks/fabio_pacucci_yes_scientists_are_actually_building_an_elevator_to_space\n",
      "Documentary films that explore trauma — and make space for healing https://ted.com/talks/almudena_toral_documentary_films_that_explore_trauma_and_make_space_for_healing\n",
      "What should humans take to space (and leave behind)? https://ted.com/talks/jorge_manes_rubio_what_should_humans_take_to_space_and_leave_behind\n",
      "Playful, wondrous public spaces built for community and possibility https://ted.com/talks/matthew_mazzotta_playful_wondrous_public_spaces_built_for_community_and_possibility\n",
      "A NASA astronaut's lessons on fear, confidence and preparing for spaceflight https://ted.com/talks/megan_mcarthur_a_nasa_astronaut_s_lessons_on_fear_confidence_and_preparing_for_spaceflight\n",
      "The Power of Spaces https://ted.com/talks/ted_radio_hour_the_power_of_spaces\n",
      "A stealthy reimagining of urban public space https://ted.com/talks/elizabeth_diller_a_stealthy_reimagining_of_urban_public_space\n",
      "How a miniaturized atomic clock could revolutionize space exploration https://ted.com/talks/jill_seubert_how_a_miniaturized_atomic_clock_could_revolutionize_space_exploration\n",
      "What it's like to live on the International Space Station https://ted.com/talks/cady_coleman_what_it_s_like_to_live_on_the_international_space_station\n",
      "Small rockets are the next space revolution https://ted.com/talks/peter_beck_small_rockets_are_the_next_space_revolution\n",
      "The scientific now of space food https://ted.com/talks/sarah_kessans_the_scientific_now_of_space_food\n",
      "The world's first crowdsourced space traffic monitoring system https://ted.com/talks/moriba_jah_the_world_s_first_crowdsourced_space_traffic_monitoring_system\n",
      "How centuries of sci-fi sparked spaceflight https://ted.com/talks/alexander_macdonald_how_centuries_of_sci_fi_sparked_spaceflight\n",
      "Why we need to clean up our space debris https://ted.com/talks/moriba_jah_why_we_need_to_clean_up_our_space_debris\n",
      "The importance of space lawyers https://ted.com/talks/frans_von_der_dunk_the_importance_of_space_lawyers\n",
      "Visualizing climate change through space and time https://ted.com/talks/peggy_weil_visualizing_climate_change_through_space_and_time\n",
      "3 ways to create a space that moves you, from a Broadway set designer https://ted.com/talks/david_korins_3_ways_to_create_a_space_that_moves_you_from_a_broadway_set_designer\n",
      "A makerspace for everyone https://ted.com/talks/robin_hooker_a_makerspace_for_everyone\n",
      "How urban spaces can preserve history and build community https://ted.com/talks/walter_hood_how_urban_spaces_can_preserve_history_and_build_community\n",
      "How we can turn the cold of outer space into a renewable resource https://ted.com/talks/aaswath_raman_how_we_can_turn_the_cold_of_outer_space_into_a_renewable_resource\n",
      "SpaceX's plan to fly you across the globe in 30 minutes https://ted.com/talks/gwynne_shotwell_spacex_s_plan_to_fly_you_across_the_globe_in_30_minutes\n",
      "The future of supercomputers? A quantum chip colder than outer space https://ted.com/talks/jerry_chow_the_future_of_supercomputers_a_quantum_chip_colder_than_outer_space\n",
      "6 space technologies we can use to improve life on Earth https://ted.com/talks/danielle_wood_6_space_technologies_we_can_use_to_improve_life_on_earth\n",
      "Success stories from Kenya's first makerspace https://ted.com/talks/kamau_gachigi_success_stories_from_kenya_s_first_makerspace\n",
      "What it feels like to see Earth from space https://ted.com/talks/benjamin_grant_what_it_feels_like_to_see_earth_from_space\n",
      "How do you build a sacred space? https://ted.com/talks/siamak_hariri_how_do_you_build_a_sacred_space\n",
      "Let's clean up the space junk orbiting Earth https://ted.com/talks/natalie_panek_let_s_clean_up_the_space_junk_orbiting_earth\n",
      "\"Space Oddity\" https://ted.com/talks/amanda_palmer_jherek_bischoff_usman_riaz_space_oddity\n",
      "A forgotten Space Age technology could change how we grow food https://ted.com/talks/lisa_dyson_a_forgotten_space_age_technology_could_change_how_we_grow_food\n",
      "How humans could evolve to survive in space https://ted.com/talks/lisa_nip_how_humans_could_evolve_to_survive_in_space\n",
      "How to go to space, without having to go to space https://ted.com/talks/angelo_vermeulen_how_to_go_to_space_without_having_to_go_to_space\n",
      "The sky is not the limit — why investing in space still matters https://ted.com/talks/karin_nilsdotter_the_sky_is_not_the_limit_why_investing_in_space_still_matters\n",
      "The fundamentals of space-time: Part 2 https://ted.com/talks/andrew_pontzen_and_tom_whyntie_the_fundamentals_of_space_time_part_2\n",
      "How public spaces make cities work https://ted.com/talks/amanda_burden_how_public_spaces_make_cities_work\n",
      "What I learned from going blind in space https://ted.com/talks/chris_hadfield_what_i_learned_from_going_blind_in_space\n",
      "Who won the space race? https://ted.com/talks/jeff_steers_who_won_the_space_race\n",
      "Free falling in outer space https://ted.com/talks/dr_matt_j_carlson_free_falling_in_outer_space\n",
      "Is space trying to kill us? https://ted.com/talks/ron_shaneyfelt_is_space_trying_to_kill_us\n",
      "Strategies for fuel-efficient space travel https://ted.com/talks/erika_debenedictis_strategies_for_fuel_efficient_space_travel\n",
      "The mind behind Tesla, SpaceX, SolarCity ... https://ted.com/talks/elon_musk_the_mind_behind_tesla_spacex_solarcity\n",
      "Sculpted space, within and without https://ted.com/talks/antony_gormley_sculpted_space_within_and_without\n",
      "How to air-condition outdoor spaces https://ted.com/talks/wolfgang_kessling_how_to_air_condition_outdoor_spaces\n",
      "Archaeology from space https://ted.com/talks/sarah_parcak_archaeology_from_space\n",
      "Claim your \"manspace\" https://ted.com/talks/sam_martin_claim_your_manspace\n",
      "A leap from the edge of space https://ted.com/talks/steve_truglia_a_leap_from_the_edge_of_space\n",
      "Playing with space and light https://ted.com/talks/olafur_eliasson_playing_with_space_and_light\n",
      "The real future of space exploration https://ted.com/talks/burt_rutan_the_real_future_of_space_exploration\n"
     ]
    }
   ],
   "source": [
    "tag = \"space\"\n",
    "for i in range(len(data)):\n",
    "    if tag in data[i][0].lower():\n",
    "        print(data[i][0], data[i][5])"
   ]
  },
  {
   "cell_type": "markdown",
   "metadata": {},
   "source": [
    "### Data Preprocessing\n"
   ]
  },
  {
   "cell_type": "code",
   "execution_count": 90,
   "metadata": {},
   "outputs": [
    {
     "name": "stderr",
     "output_type": "stream",
     "text": [
      "/Users/chahakjadon/opt/anaconda3/lib/python3.8/site-packages/sklearn/utils/validation.py:63: DataConversionWarning: A column-vector y was passed when a 1d array was expected. Please change the shape of y to (n_samples, ), for example using ravel().\n",
      "  return f(*args, **kwargs)\n"
     ]
    },
    {
     "data": {
      "text/plain": [
       "array([1062, 3541, 1955, ..., 1449, 3172,  839])"
      ]
     },
     "execution_count": 90,
     "metadata": {},
     "output_type": "execute_result"
    }
   ],
   "source": [
    "#Label Encoding\n",
    "from sklearn.preprocessing import LabelEncoder\n",
    "\n",
    "le = LabelEncoder()\n",
    "#Label encoder takes no arguments\n",
    "le_title = le.fit_transform(df[[\"title\"]])\n",
    "le_title"
   ]
  },
  {
   "cell_type": "code",
   "execution_count": 91,
   "metadata": {},
   "outputs": [
    {
     "data": {
      "text/plain": [
       "0       1062\n",
       "1       3541\n",
       "2       1955\n",
       "3       5156\n",
       "4       1045\n",
       "        ... \n",
       "5435    3435\n",
       "5436    1217\n",
       "5437    1449\n",
       "5438    3172\n",
       "5439     839\n",
       "Name: title, Length: 5439, dtype: int64"
      ]
     },
     "execution_count": 91,
     "metadata": {},
     "output_type": "execute_result"
    }
   ],
   "source": [
    "df1_title = df[\"title\"] \n",
    "df1_title\n",
    "df[\"title\"] = le_title\n",
    "df[\"title\"]"
   ]
  },
  {
   "cell_type": "code",
   "execution_count": 92,
   "metadata": {},
   "outputs": [
    {
     "data": {
      "text/plain": [
       "array([3249, 4057, 2805, ..., 2693, 1087,  111])"
      ]
     },
     "execution_count": 92,
     "metadata": {},
     "output_type": "execute_result"
    }
   ],
   "source": [
    "#Label Encoding for author column\n",
    "le = LabelEncoder()\n",
    "le_author = le.fit_transform(df[\"author\"])\n",
    "le_author"
   ]
  },
  {
   "cell_type": "code",
   "execution_count": 93,
   "metadata": {},
   "outputs": [
    {
     "data": {
      "text/plain": [
       "0       3249\n",
       "1       4057\n",
       "2       2805\n",
       "3       1851\n",
       "4       2686\n",
       "        ... \n",
       "5435    1655\n",
       "5436    3902\n",
       "5437    2693\n",
       "5438    1087\n",
       "5439     111\n",
       "Name: author, Length: 5439, dtype: int64"
      ]
     },
     "execution_count": 93,
     "metadata": {},
     "output_type": "execute_result"
    }
   ],
   "source": [
    "df1_author = df[\"author\"]\n",
    "df1_author\n",
    "df[\"author\"] = le_author\n",
    "df[\"author\"]"
   ]
  },
  {
   "cell_type": "code",
   "execution_count": null,
   "metadata": {},
   "outputs": [],
   "source": []
  }
 ],
 "metadata": {
  "kernelspec": {
   "display_name": "Python 3",
   "language": "python",
   "name": "python3"
  },
  "language_info": {
   "codemirror_mode": {
    "name": "ipython",
    "version": 3
   },
   "file_extension": ".py",
   "mimetype": "text/x-python",
   "name": "python",
   "nbconvert_exporter": "python",
   "pygments_lexer": "ipython3",
   "version": "3.8.5"
  }
 },
 "nbformat": 4,
 "nbformat_minor": 4
}
