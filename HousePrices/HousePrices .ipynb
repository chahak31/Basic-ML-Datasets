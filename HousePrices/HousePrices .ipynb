{
 "cells": [
  {
   "cell_type": "code",
   "execution_count": 1,
   "metadata": {},
   "outputs": [],
   "source": [
    "import pandas as pd\n",
    "import numpy as np\n",
    "import seaborn as sns\n",
    "import matplotlib.pyplot as plt"
   ]
  },
  {
   "cell_type": "code",
   "execution_count": 2,
   "metadata": {},
   "outputs": [],
   "source": [
    "df = pd.read_csv(\"HousePrices.csv\")"
   ]
  },
  {
   "cell_type": "code",
   "execution_count": 3,
   "metadata": {},
   "outputs": [
    {
     "data": {
      "text/html": [
       "<div>\n",
       "<style scoped>\n",
       "    .dataframe tbody tr th:only-of-type {\n",
       "        vertical-align: middle;\n",
       "    }\n",
       "\n",
       "    .dataframe tbody tr th {\n",
       "        vertical-align: top;\n",
       "    }\n",
       "\n",
       "    .dataframe thead th {\n",
       "        text-align: right;\n",
       "    }\n",
       "</style>\n",
       "<table border=\"1\" class=\"dataframe\">\n",
       "  <thead>\n",
       "    <tr style=\"text-align: right;\">\n",
       "      <th></th>\n",
       "      <th>Id</th>\n",
       "      <th>Dwell_Type</th>\n",
       "      <th>Zone_Class</th>\n",
       "      <th>LotFrontage</th>\n",
       "      <th>LotArea</th>\n",
       "      <th>Road_Type</th>\n",
       "      <th>Alley</th>\n",
       "      <th>Property_Shape</th>\n",
       "      <th>LandContour</th>\n",
       "      <th>Utilities</th>\n",
       "      <th>...</th>\n",
       "      <th>PoolArea</th>\n",
       "      <th>PoolQC</th>\n",
       "      <th>Fence</th>\n",
       "      <th>MiscFeature</th>\n",
       "      <th>MiscVal</th>\n",
       "      <th>MoSold</th>\n",
       "      <th>YrSold</th>\n",
       "      <th>SaleType</th>\n",
       "      <th>SaleCondition</th>\n",
       "      <th>Property_Sale_Price</th>\n",
       "    </tr>\n",
       "  </thead>\n",
       "  <tbody>\n",
       "    <tr>\n",
       "      <th>0</th>\n",
       "      <td>1</td>\n",
       "      <td>60</td>\n",
       "      <td>RL</td>\n",
       "      <td>65.0</td>\n",
       "      <td>8450</td>\n",
       "      <td>Pave</td>\n",
       "      <td>NaN</td>\n",
       "      <td>Reg</td>\n",
       "      <td>Lvl</td>\n",
       "      <td>AllPub</td>\n",
       "      <td>...</td>\n",
       "      <td>0</td>\n",
       "      <td>NaN</td>\n",
       "      <td>NaN</td>\n",
       "      <td>NaN</td>\n",
       "      <td>0</td>\n",
       "      <td>2</td>\n",
       "      <td>2008</td>\n",
       "      <td>WD</td>\n",
       "      <td>Normal</td>\n",
       "      <td>208500</td>\n",
       "    </tr>\n",
       "    <tr>\n",
       "      <th>1</th>\n",
       "      <td>2</td>\n",
       "      <td>20</td>\n",
       "      <td>RL</td>\n",
       "      <td>80.0</td>\n",
       "      <td>9600</td>\n",
       "      <td>Pave</td>\n",
       "      <td>NaN</td>\n",
       "      <td>Reg</td>\n",
       "      <td>Lvl</td>\n",
       "      <td>AllPub</td>\n",
       "      <td>...</td>\n",
       "      <td>0</td>\n",
       "      <td>NaN</td>\n",
       "      <td>NaN</td>\n",
       "      <td>NaN</td>\n",
       "      <td>0</td>\n",
       "      <td>5</td>\n",
       "      <td>2007</td>\n",
       "      <td>WD</td>\n",
       "      <td>Normal</td>\n",
       "      <td>181500</td>\n",
       "    </tr>\n",
       "  </tbody>\n",
       "</table>\n",
       "<p>2 rows × 81 columns</p>\n",
       "</div>"
      ],
      "text/plain": [
       "   Id  Dwell_Type Zone_Class  LotFrontage  LotArea Road_Type Alley  \\\n",
       "0   1          60         RL         65.0     8450      Pave   NaN   \n",
       "1   2          20         RL         80.0     9600      Pave   NaN   \n",
       "\n",
       "  Property_Shape LandContour Utilities  ... PoolArea PoolQC Fence MiscFeature  \\\n",
       "0            Reg         Lvl    AllPub  ...        0    NaN   NaN         NaN   \n",
       "1            Reg         Lvl    AllPub  ...        0    NaN   NaN         NaN   \n",
       "\n",
       "  MiscVal MoSold YrSold  SaleType  SaleCondition  Property_Sale_Price  \n",
       "0       0      2   2008        WD         Normal               208500  \n",
       "1       0      5   2007        WD         Normal               181500  \n",
       "\n",
       "[2 rows x 81 columns]"
      ]
     },
     "execution_count": 3,
     "metadata": {},
     "output_type": "execute_result"
    }
   ],
   "source": [
    "df.head(2)"
   ]
  },
  {
   "cell_type": "code",
   "execution_count": 4,
   "metadata": {},
   "outputs": [
    {
     "data": {
      "text/plain": [
       "(2073, 81)"
      ]
     },
     "execution_count": 4,
     "metadata": {},
     "output_type": "execute_result"
    }
   ],
   "source": [
    "df.shape"
   ]
  },
  {
   "cell_type": "code",
   "execution_count": 5,
   "metadata": {},
   "outputs": [
    {
     "data": {
      "text/plain": [
       "Id                       0\n",
       "Dwell_Type               0\n",
       "Zone_Class               0\n",
       "LotFrontage            320\n",
       "LotArea                  0\n",
       "                      ... \n",
       "MoSold                   0\n",
       "YrSold                   0\n",
       "SaleType                 0\n",
       "SaleCondition            0\n",
       "Property_Sale_Price      0\n",
       "Length: 81, dtype: int64"
      ]
     },
     "execution_count": 5,
     "metadata": {},
     "output_type": "execute_result"
    }
   ],
   "source": [
    "# Check for missing values\n",
    "df.isnull().sum()"
   ]
  },
  {
   "cell_type": "code",
   "execution_count": 6,
   "metadata": {},
   "outputs": [],
   "source": [
    "missingdata = df.isnull()"
   ]
  },
  {
   "cell_type": "code",
   "execution_count": 7,
   "metadata": {},
   "outputs": [
    {
     "name": "stdout",
     "output_type": "stream",
     "text": [
      "Id\n",
      "False    2073\n",
      "Name: Id, dtype: int64\n",
      "\n",
      "Dwell_Type\n",
      "False    2073\n",
      "Name: Dwell_Type, dtype: int64\n",
      "\n",
      "Zone_Class\n",
      "False    2073\n",
      "Name: Zone_Class, dtype: int64\n",
      "\n",
      "LotFrontage\n",
      "False    1753\n",
      "True      320\n",
      "Name: LotFrontage, dtype: int64\n",
      "\n",
      "LotArea\n",
      "False    2073\n",
      "Name: LotArea, dtype: int64\n",
      "\n",
      "Road_Type\n",
      "False    2073\n",
      "Name: Road_Type, dtype: int64\n",
      "\n",
      "Alley\n",
      "True     1944\n",
      "False     129\n",
      "Name: Alley, dtype: int64\n",
      "\n",
      "Property_Shape\n",
      "False    2073\n",
      "Name: Property_Shape, dtype: int64\n",
      "\n",
      "LandContour\n",
      "False    2073\n",
      "Name: LandContour, dtype: int64\n",
      "\n",
      "Utilities\n",
      "False    2073\n",
      "Name: Utilities, dtype: int64\n",
      "\n",
      "LotConfig\n",
      "False    2073\n",
      "Name: LotConfig, dtype: int64\n",
      "\n",
      "LandSlope\n",
      "False    2073\n",
      "Name: LandSlope, dtype: int64\n",
      "\n",
      "Neighborhood\n",
      "False    2073\n",
      "Name: Neighborhood, dtype: int64\n",
      "\n",
      "Condition1\n",
      "False    2073\n",
      "Name: Condition1, dtype: int64\n",
      "\n",
      "Condition2\n",
      "False    2073\n",
      "Name: Condition2, dtype: int64\n",
      "\n",
      "Dwelling_Type\n",
      "False    2073\n",
      "Name: Dwelling_Type, dtype: int64\n",
      "\n",
      "HouseStyle\n",
      "False    2073\n",
      "Name: HouseStyle, dtype: int64\n",
      "\n",
      "OverallQual\n",
      "False    2073\n",
      "Name: OverallQual, dtype: int64\n",
      "\n",
      "OverallCond\n",
      "False    2073\n",
      "Name: OverallCond, dtype: int64\n",
      "\n",
      "YearBuilt\n",
      "False    2073\n",
      "Name: YearBuilt, dtype: int64\n",
      "\n",
      "YearRemodAdd\n",
      "False    2073\n",
      "Name: YearRemodAdd, dtype: int64\n",
      "\n",
      "RoofStyle\n",
      "False    2073\n",
      "Name: RoofStyle, dtype: int64\n",
      "\n",
      "RoofMatl\n",
      "False    2073\n",
      "Name: RoofMatl, dtype: int64\n",
      "\n",
      "Exterior1st\n",
      "False    2073\n",
      "Name: Exterior1st, dtype: int64\n",
      "\n",
      "Exterior2nd\n",
      "False    2073\n",
      "Name: Exterior2nd, dtype: int64\n",
      "\n",
      "MasVnrType\n",
      "False    2059\n",
      "True       14\n",
      "Name: MasVnrType, dtype: int64\n",
      "\n",
      "MasVnrArea\n",
      "False    2059\n",
      "True       14\n",
      "Name: MasVnrArea, dtype: int64\n",
      "\n",
      "ExterQual\n",
      "False    2073\n",
      "Name: ExterQual, dtype: int64\n",
      "\n",
      "ExterCond\n",
      "False    2073\n",
      "Name: ExterCond, dtype: int64\n",
      "\n",
      "Foundation\n",
      "False    2073\n",
      "Name: Foundation, dtype: int64\n",
      "\n",
      "BsmtQual\n",
      "False    2014\n",
      "True       59\n",
      "Name: BsmtQual, dtype: int64\n",
      "\n",
      "BsmtCond\n",
      "False    2014\n",
      "True       59\n",
      "Name: BsmtCond, dtype: int64\n",
      "\n",
      "BsmtExposure\n",
      "False    2012\n",
      "True       61\n",
      "Name: BsmtExposure, dtype: int64\n",
      "\n",
      "BsmtFinType1\n",
      "False    2014\n",
      "True       59\n",
      "Name: BsmtFinType1, dtype: int64\n",
      "\n",
      "BsmtFinSF1\n",
      "False    2073\n",
      "Name: BsmtFinSF1, dtype: int64\n",
      "\n",
      "BsmtFinType2\n",
      "False    2013\n",
      "True       60\n",
      "Name: BsmtFinType2, dtype: int64\n",
      "\n",
      "BsmtFinSF2\n",
      "False    2073\n",
      "Name: BsmtFinSF2, dtype: int64\n",
      "\n",
      "BsmtUnfSF\n",
      "False    2073\n",
      "Name: BsmtUnfSF, dtype: int64\n",
      "\n",
      "TotalBsmtSF\n",
      "False    2073\n",
      "Name: TotalBsmtSF, dtype: int64\n",
      "\n",
      "Heating\n",
      "False    2073\n",
      "Name: Heating, dtype: int64\n",
      "\n",
      "HeatingQC\n",
      "False    2073\n",
      "Name: HeatingQC, dtype: int64\n",
      "\n",
      "CentralAir\n",
      "False    2073\n",
      "Name: CentralAir, dtype: int64\n",
      "\n",
      "Electrical\n",
      "False    2072\n",
      "True        1\n",
      "Name: Electrical, dtype: int64\n",
      "\n",
      "1stFlrSF\n",
      "False    2073\n",
      "Name: 1stFlrSF, dtype: int64\n",
      "\n",
      "2ndFlrSF\n",
      "False    2073\n",
      "Name: 2ndFlrSF, dtype: int64\n",
      "\n",
      "LowQualFinSF\n",
      "False    2073\n",
      "Name: LowQualFinSF, dtype: int64\n",
      "\n",
      "GrLivArea\n",
      "False    2073\n",
      "Name: GrLivArea, dtype: int64\n",
      "\n",
      "BsmtFullBath\n",
      "False    2073\n",
      "Name: BsmtFullBath, dtype: int64\n",
      "\n",
      "BsmtHalfBath\n",
      "False    2073\n",
      "Name: BsmtHalfBath, dtype: int64\n",
      "\n",
      "FullBath\n",
      "False    2073\n",
      "Name: FullBath, dtype: int64\n",
      "\n",
      "HalfBath\n",
      "False    2073\n",
      "Name: HalfBath, dtype: int64\n",
      "\n",
      "BedroomAbvGr\n",
      "False    2073\n",
      "Name: BedroomAbvGr, dtype: int64\n",
      "\n",
      "KitchenAbvGr\n",
      "False    2073\n",
      "Name: KitchenAbvGr, dtype: int64\n",
      "\n",
      "KitchenQual\n",
      "False    2073\n",
      "Name: KitchenQual, dtype: int64\n",
      "\n",
      "TotRmsAbvGrd\n",
      "False    2073\n",
      "Name: TotRmsAbvGrd, dtype: int64\n",
      "\n",
      "Functional\n",
      "False    2073\n",
      "Name: Functional, dtype: int64\n",
      "\n",
      "Fireplaces\n",
      "False    2073\n",
      "Name: Fireplaces, dtype: int64\n",
      "\n",
      "FireplaceQu\n",
      "False    1085\n",
      "True      988\n",
      "Name: FireplaceQu, dtype: int64\n",
      "\n",
      "GarageType\n",
      "False    1960\n",
      "True      113\n",
      "Name: GarageType, dtype: int64\n",
      "\n",
      "GarageYrBlt\n",
      "False    1960\n",
      "True      113\n",
      "Name: GarageYrBlt, dtype: int64\n",
      "\n",
      "GarageFinish\n",
      "False    1960\n",
      "True      113\n",
      "Name: GarageFinish, dtype: int64\n",
      "\n",
      "GarageCars\n",
      "False    2073\n",
      "Name: GarageCars, dtype: int64\n",
      "\n",
      "GarageArea\n",
      "False    2073\n",
      "Name: GarageArea, dtype: int64\n",
      "\n",
      "GarageQual\n",
      "False    1960\n",
      "True      113\n",
      "Name: GarageQual, dtype: int64\n",
      "\n",
      "GarageCond\n",
      "False    1960\n",
      "True      113\n",
      "Name: GarageCond, dtype: int64\n",
      "\n",
      "PavedDrive\n",
      "False    2073\n",
      "Name: PavedDrive, dtype: int64\n",
      "\n",
      "WoodDeckSF\n",
      "False    2073\n",
      "Name: WoodDeckSF, dtype: int64\n",
      "\n",
      "OpenPorchSF\n",
      "False    2073\n",
      "Name: OpenPorchSF, dtype: int64\n",
      "\n",
      "EnclosedPorch\n",
      "False    2073\n",
      "Name: EnclosedPorch, dtype: int64\n",
      "\n",
      "3SsnPorch\n",
      "False    2073\n",
      "Name: 3SsnPorch, dtype: int64\n",
      "\n",
      "ScreenPorch\n",
      "False    2073\n",
      "Name: ScreenPorch, dtype: int64\n",
      "\n",
      "PoolArea\n",
      "False    2073\n",
      "Name: PoolArea, dtype: int64\n",
      "\n",
      "PoolQC\n",
      "True     2065\n",
      "False       8\n",
      "Name: PoolQC, dtype: int64\n",
      "\n",
      "Fence\n",
      "True     1669\n",
      "False     404\n",
      "Name: Fence, dtype: int64\n",
      "\n",
      "MiscFeature\n",
      "True     1993\n",
      "False      80\n",
      "Name: MiscFeature, dtype: int64\n",
      "\n",
      "MiscVal\n",
      "False    2073\n",
      "Name: MiscVal, dtype: int64\n",
      "\n",
      "MoSold\n",
      "False    2073\n",
      "Name: MoSold, dtype: int64\n",
      "\n",
      "YrSold\n",
      "False    2073\n",
      "Name: YrSold, dtype: int64\n",
      "\n",
      "SaleType\n",
      "False    2073\n",
      "Name: SaleType, dtype: int64\n",
      "\n",
      "SaleCondition\n",
      "False    2073\n",
      "Name: SaleCondition, dtype: int64\n",
      "\n",
      "Property_Sale_Price\n",
      "False    2073\n",
      "Name: Property_Sale_Price, dtype: int64\n",
      "\n"
     ]
    }
   ],
   "source": [
    "for column in missingdata.columns.values.tolist():\n",
    "    print(column)\n",
    "    print(missingdata[column].value_counts())\n",
    "    print(\"\")"
   ]
  },
  {
   "cell_type": "code",
   "execution_count": 8,
   "metadata": {},
   "outputs": [],
   "source": [
    "# LotFrontage(320), Alley(1944), MasVnrType(14), MasVnrArea(14), BsmtQual(59), BsmtCond(59), BsmtExposure(61),\n",
    "# BsmtFinType1(59), BsmtFinType2(60), Electrical(1), FireplaceQu(988), GarageType(113), GarageYrBlt(113), \n",
    "# GarageFinish(113), GarageQual(113), GarageCond(113), PoolQC(2065), Fence(1669), MiscFeature(1993)"
   ]
  },
  {
   "cell_type": "code",
   "execution_count": 9,
   "metadata": {},
   "outputs": [],
   "source": [
    "# Dropping columns with more than 1035 missing values\n",
    "df.drop([\"Alley\", \"PoolQC\", \"Fence\", \"MiscFeature\"], axis=1, inplace=True)"
   ]
  },
  {
   "cell_type": "code",
   "execution_count": 10,
   "metadata": {},
   "outputs": [
    {
     "data": {
      "text/plain": [
       "(2073, 77)"
      ]
     },
     "execution_count": 10,
     "metadata": {},
     "output_type": "execute_result"
    }
   ],
   "source": [
    "df.shape"
   ]
  },
  {
   "cell_type": "code",
   "execution_count": 11,
   "metadata": {},
   "outputs": [],
   "source": [
    "df.reset_index(drop=True, inplace=True)"
   ]
  },
  {
   "cell_type": "code",
   "execution_count": 12,
   "metadata": {},
   "outputs": [],
   "source": [
    "# Replacing null values with the mean\n",
    "mean_lf = df[\"LotFrontage\"].astype(\"float\").mean()\n",
    "df[\"LotFrontage\"].replace(np.NaN, mean_lf, inplace=True)\n",
    "\n",
    "mean_mva = df[\"MasVnrArea\"].astype(\"float\").mean()\n",
    "df[\"MasVnrArea\"].replace(np.NaN, mean_mva, inplace=True)"
   ]
  },
  {
   "cell_type": "code",
   "execution_count": 13,
   "metadata": {},
   "outputs": [],
   "source": [
    "# Replacing null values with mode\n",
    "mode_mvt = df[\"MasVnrType\"].value_counts().idxmax()\n",
    "df[\"MasVnrType\"].replace(np.NaN, mode_mvt, inplace=True)\n",
    "\n",
    "mode_bq = df[\"BsmtQual\"].value_counts().idxmax()\n",
    "df[\"BsmtQual\"].replace(np.NaN, mode_bq, inplace=True)\n",
    "\n",
    "mode_bc = df[\"BsmtCond\"].value_counts().idxmax()\n",
    "df[\"BsmtCond\"].replace(np.NaN, mode_bc, inplace=True)\n",
    "\n",
    "mode_be = df[\"BsmtExposure\"].value_counts().idxmax()\n",
    "df[\"BsmtExposure\"].replace(np.NaN, mode_be, inplace=True)\n",
    "\n",
    "mode_bft1 = df[\"BsmtFinType1\"].value_counts().idxmax()\n",
    "df[\"BsmtFinType1\"].replace(np.NaN, mode_bft1, inplace=True)\n",
    "\n",
    "mode_bft2 = df[\"BsmtFinType2\"].value_counts().idxmax()\n",
    "df[\"BsmtFinType2\"].replace(np.NaN, mode_bft2, inplace=True)\n",
    "\n",
    "mode_elc = df[\"Electrical\"].value_counts().idxmax()\n",
    "df[\"Electrical\"].replace(np.NaN, mode_elc, inplace=True)\n",
    "\n",
    "mode_fpq = df[\"FireplaceQu\"].value_counts().idxmax()\n",
    "df[\"FireplaceQu\"].replace(np.NaN, mode_fpq, inplace=True)\n",
    "\n",
    "mode_gt = df[\"GarageType\"].value_counts().idxmax()\n",
    "df[\"GarageType\"].replace(np.NaN, mode_gt, inplace=True)\n",
    "\n",
    "mode_gyb = df[\"GarageYrBlt\"].value_counts().idxmax()\n",
    "df[\"GarageYrBlt\"].replace(np.NaN, mode_gyb, inplace=True)\n",
    "\n",
    "mode_gf = df[\"GarageFinish\"].value_counts().idxmax()\n",
    "df[\"GarageFinish\"].replace(np.NaN, mode_gf, inplace=True)\n",
    "\n",
    "mode_gq = df[\"GarageQual\"].value_counts().idxmax()\n",
    "df[\"GarageQual\"].replace(np.NaN, mode_gq, inplace=True)\n",
    "\n",
    "mode_gcon = df[\"GarageCond\"].value_counts().idxmax()\n",
    "df[\"GarageCond\"].replace(np.NaN, mode_gcon, inplace=True)"
   ]
  },
  {
   "cell_type": "code",
   "execution_count": 14,
   "metadata": {},
   "outputs": [
    {
     "name": "stdout",
     "output_type": "stream",
     "text": [
      "<class 'pandas.core.frame.DataFrame'>\n",
      "RangeIndex: 2073 entries, 0 to 2072\n",
      "Data columns (total 77 columns):\n",
      " #   Column               Non-Null Count  Dtype  \n",
      "---  ------               --------------  -----  \n",
      " 0   Id                   2073 non-null   int64  \n",
      " 1   Dwell_Type           2073 non-null   int64  \n",
      " 2   Zone_Class           2073 non-null   object \n",
      " 3   LotFrontage          2073 non-null   float64\n",
      " 4   LotArea              2073 non-null   int64  \n",
      " 5   Road_Type            2073 non-null   object \n",
      " 6   Property_Shape       2073 non-null   object \n",
      " 7   LandContour          2073 non-null   object \n",
      " 8   Utilities            2073 non-null   object \n",
      " 9   LotConfig            2073 non-null   object \n",
      " 10  LandSlope            2073 non-null   object \n",
      " 11  Neighborhood         2073 non-null   object \n",
      " 12  Condition1           2073 non-null   object \n",
      " 13  Condition2           2073 non-null   object \n",
      " 14  Dwelling_Type        2073 non-null   object \n",
      " 15  HouseStyle           2073 non-null   object \n",
      " 16  OverallQual          2073 non-null   int64  \n",
      " 17  OverallCond          2073 non-null   int64  \n",
      " 18  YearBuilt            2073 non-null   int64  \n",
      " 19  YearRemodAdd         2073 non-null   int64  \n",
      " 20  RoofStyle            2073 non-null   object \n",
      " 21  RoofMatl             2073 non-null   object \n",
      " 22  Exterior1st          2073 non-null   object \n",
      " 23  Exterior2nd          2073 non-null   object \n",
      " 24  MasVnrType           2073 non-null   object \n",
      " 25  MasVnrArea           2073 non-null   float64\n",
      " 26  ExterQual            2073 non-null   object \n",
      " 27  ExterCond            2073 non-null   object \n",
      " 28  Foundation           2073 non-null   object \n",
      " 29  BsmtQual             2073 non-null   object \n",
      " 30  BsmtCond             2073 non-null   object \n",
      " 31  BsmtExposure         2073 non-null   object \n",
      " 32  BsmtFinType1         2073 non-null   object \n",
      " 33  BsmtFinSF1           2073 non-null   int64  \n",
      " 34  BsmtFinType2         2073 non-null   object \n",
      " 35  BsmtFinSF2           2073 non-null   int64  \n",
      " 36  BsmtUnfSF            2073 non-null   int64  \n",
      " 37  TotalBsmtSF          2073 non-null   int64  \n",
      " 38  Heating              2073 non-null   object \n",
      " 39  HeatingQC            2073 non-null   object \n",
      " 40  CentralAir           2073 non-null   object \n",
      " 41  Electrical           2073 non-null   object \n",
      " 42  1stFlrSF             2073 non-null   int64  \n",
      " 43  2ndFlrSF             2073 non-null   int64  \n",
      " 44  LowQualFinSF         2073 non-null   int64  \n",
      " 45  GrLivArea            2073 non-null   int64  \n",
      " 46  BsmtFullBath         2073 non-null   int64  \n",
      " 47  BsmtHalfBath         2073 non-null   int64  \n",
      " 48  FullBath             2073 non-null   int64  \n",
      " 49  HalfBath             2073 non-null   int64  \n",
      " 50  BedroomAbvGr         2073 non-null   int64  \n",
      " 51  KitchenAbvGr         2073 non-null   int64  \n",
      " 52  KitchenQual          2073 non-null   object \n",
      " 53  TotRmsAbvGrd         2073 non-null   int64  \n",
      " 54  Functional           2073 non-null   object \n",
      " 55  Fireplaces           2073 non-null   int64  \n",
      " 56  FireplaceQu          2073 non-null   object \n",
      " 57  GarageType           2073 non-null   object \n",
      " 58  GarageYrBlt          2073 non-null   float64\n",
      " 59  GarageFinish         2073 non-null   object \n",
      " 60  GarageCars           2073 non-null   int64  \n",
      " 61  GarageArea           2073 non-null   int64  \n",
      " 62  GarageQual           2073 non-null   object \n",
      " 63  GarageCond           2073 non-null   object \n",
      " 64  PavedDrive           2073 non-null   object \n",
      " 65  WoodDeckSF           2073 non-null   int64  \n",
      " 66  OpenPorchSF          2073 non-null   int64  \n",
      " 67  EnclosedPorch        2073 non-null   int64  \n",
      " 68  3SsnPorch            2073 non-null   int64  \n",
      " 69  ScreenPorch          2073 non-null   int64  \n",
      " 70  PoolArea             2073 non-null   int64  \n",
      " 71  MiscVal              2073 non-null   int64  \n",
      " 72  MoSold               2073 non-null   int64  \n",
      " 73  YrSold               2073 non-null   int64  \n",
      " 74  SaleType             2073 non-null   object \n",
      " 75  SaleCondition        2073 non-null   object \n",
      " 76  Property_Sale_Price  2073 non-null   int64  \n",
      "dtypes: float64(3), int64(35), object(39)\n",
      "memory usage: 1.2+ MB\n"
     ]
    }
   ],
   "source": [
    "# Check for the dtypes\n",
    "df.info()"
   ]
  },
  {
   "cell_type": "code",
   "execution_count": 15,
   "metadata": {},
   "outputs": [
    {
     "data": {
      "text/html": [
       "<div>\n",
       "<style scoped>\n",
       "    .dataframe tbody tr th:only-of-type {\n",
       "        vertical-align: middle;\n",
       "    }\n",
       "\n",
       "    .dataframe tbody tr th {\n",
       "        vertical-align: top;\n",
       "    }\n",
       "\n",
       "    .dataframe thead th {\n",
       "        text-align: right;\n",
       "    }\n",
       "</style>\n",
       "<table border=\"1\" class=\"dataframe\">\n",
       "  <thead>\n",
       "    <tr style=\"text-align: right;\">\n",
       "      <th></th>\n",
       "      <th>Id</th>\n",
       "      <th>Dwell_Type</th>\n",
       "      <th>LotFrontage</th>\n",
       "      <th>LotArea</th>\n",
       "      <th>OverallQual</th>\n",
       "      <th>OverallCond</th>\n",
       "      <th>YearBuilt</th>\n",
       "      <th>YearRemodAdd</th>\n",
       "      <th>MasVnrArea</th>\n",
       "      <th>BsmtFinSF1</th>\n",
       "      <th>...</th>\n",
       "      <th>WoodDeckSF</th>\n",
       "      <th>OpenPorchSF</th>\n",
       "      <th>EnclosedPorch</th>\n",
       "      <th>3SsnPorch</th>\n",
       "      <th>ScreenPorch</th>\n",
       "      <th>PoolArea</th>\n",
       "      <th>MiscVal</th>\n",
       "      <th>MoSold</th>\n",
       "      <th>YrSold</th>\n",
       "      <th>Property_Sale_Price</th>\n",
       "    </tr>\n",
       "  </thead>\n",
       "  <tbody>\n",
       "    <tr>\n",
       "      <th>Id</th>\n",
       "      <td>1.000000</td>\n",
       "      <td>0.043264</td>\n",
       "      <td>0.062592</td>\n",
       "      <td>0.004201</td>\n",
       "      <td>0.083367</td>\n",
       "      <td>0.195635</td>\n",
       "      <td>-0.080204</td>\n",
       "      <td>0.087397</td>\n",
       "      <td>-0.027102</td>\n",
       "      <td>-0.016424</td>\n",
       "      <td>...</td>\n",
       "      <td>0.006044</td>\n",
       "      <td>-0.004948</td>\n",
       "      <td>0.001317</td>\n",
       "      <td>-0.045446</td>\n",
       "      <td>-0.004690</td>\n",
       "      <td>0.031303</td>\n",
       "      <td>-0.007318</td>\n",
       "      <td>0.000234</td>\n",
       "      <td>0.043219</td>\n",
       "      <td>-0.002491</td>\n",
       "    </tr>\n",
       "    <tr>\n",
       "      <th>Dwell_Type</th>\n",
       "      <td>0.043264</td>\n",
       "      <td>1.000000</td>\n",
       "      <td>-0.075289</td>\n",
       "      <td>-0.033609</td>\n",
       "      <td>0.046278</td>\n",
       "      <td>0.033023</td>\n",
       "      <td>0.027194</td>\n",
       "      <td>0.042864</td>\n",
       "      <td>-0.004831</td>\n",
       "      <td>-0.034072</td>\n",
       "      <td>...</td>\n",
       "      <td>0.004620</td>\n",
       "      <td>0.002153</td>\n",
       "      <td>-0.006529</td>\n",
       "      <td>-0.011966</td>\n",
       "      <td>-0.012021</td>\n",
       "      <td>0.001625</td>\n",
       "      <td>-0.003942</td>\n",
       "      <td>-0.020589</td>\n",
       "      <td>0.018891</td>\n",
       "      <td>-0.017399</td>\n",
       "    </tr>\n",
       "    <tr>\n",
       "      <th>LotFrontage</th>\n",
       "      <td>0.062592</td>\n",
       "      <td>-0.075289</td>\n",
       "      <td>1.000000</td>\n",
       "      <td>0.240528</td>\n",
       "      <td>0.101230</td>\n",
       "      <td>-0.010357</td>\n",
       "      <td>0.088630</td>\n",
       "      <td>0.094559</td>\n",
       "      <td>0.121076</td>\n",
       "      <td>0.129897</td>\n",
       "      <td>...</td>\n",
       "      <td>0.073800</td>\n",
       "      <td>0.097186</td>\n",
       "      <td>-0.002113</td>\n",
       "      <td>0.037639</td>\n",
       "      <td>0.019810</td>\n",
       "      <td>0.111869</td>\n",
       "      <td>-0.002122</td>\n",
       "      <td>0.023024</td>\n",
       "      <td>0.023630</td>\n",
       "      <td>0.268354</td>\n",
       "    </tr>\n",
       "    <tr>\n",
       "      <th>LotArea</th>\n",
       "      <td>0.004201</td>\n",
       "      <td>-0.033609</td>\n",
       "      <td>0.240528</td>\n",
       "      <td>1.000000</td>\n",
       "      <td>0.078232</td>\n",
       "      <td>0.014209</td>\n",
       "      <td>-0.010551</td>\n",
       "      <td>0.017766</td>\n",
       "      <td>0.063975</td>\n",
       "      <td>0.164989</td>\n",
       "      <td>...</td>\n",
       "      <td>0.121530</td>\n",
       "      <td>0.064376</td>\n",
       "      <td>-0.023199</td>\n",
       "      <td>0.010594</td>\n",
       "      <td>0.035370</td>\n",
       "      <td>0.062458</td>\n",
       "      <td>0.030949</td>\n",
       "      <td>-0.001707</td>\n",
       "      <td>-0.006478</td>\n",
       "      <td>0.211572</td>\n",
       "    </tr>\n",
       "    <tr>\n",
       "      <th>OverallQual</th>\n",
       "      <td>0.083367</td>\n",
       "      <td>0.046278</td>\n",
       "      <td>0.101230</td>\n",
       "      <td>0.078232</td>\n",
       "      <td>1.000000</td>\n",
       "      <td>-0.010092</td>\n",
       "      <td>0.335326</td>\n",
       "      <td>0.379579</td>\n",
       "      <td>0.282833</td>\n",
       "      <td>0.163501</td>\n",
       "      <td>...</td>\n",
       "      <td>0.155307</td>\n",
       "      <td>0.217044</td>\n",
       "      <td>-0.080219</td>\n",
       "      <td>0.000451</td>\n",
       "      <td>0.021561</td>\n",
       "      <td>0.045138</td>\n",
       "      <td>-0.034206</td>\n",
       "      <td>0.033685</td>\n",
       "      <td>-0.021130</td>\n",
       "      <td>0.523553</td>\n",
       "    </tr>\n",
       "    <tr>\n",
       "      <th>OverallCond</th>\n",
       "      <td>0.195635</td>\n",
       "      <td>0.033023</td>\n",
       "      <td>-0.010357</td>\n",
       "      <td>0.014209</td>\n",
       "      <td>-0.010092</td>\n",
       "      <td>1.000000</td>\n",
       "      <td>-0.245303</td>\n",
       "      <td>0.084102</td>\n",
       "      <td>-0.082965</td>\n",
       "      <td>-0.035849</td>\n",
       "      <td>...</td>\n",
       "      <td>0.013854</td>\n",
       "      <td>-0.042208</td>\n",
       "      <td>0.044501</td>\n",
       "      <td>0.017358</td>\n",
       "      <td>0.012021</td>\n",
       "      <td>-0.016993</td>\n",
       "      <td>0.041833</td>\n",
       "      <td>-0.025281</td>\n",
       "      <td>0.035050</td>\n",
       "      <td>-0.049926</td>\n",
       "    </tr>\n",
       "    <tr>\n",
       "      <th>YearBuilt</th>\n",
       "      <td>-0.080204</td>\n",
       "      <td>0.027194</td>\n",
       "      <td>0.088630</td>\n",
       "      <td>-0.010551</td>\n",
       "      <td>0.335326</td>\n",
       "      <td>-0.245303</td>\n",
       "      <td>1.000000</td>\n",
       "      <td>0.536129</td>\n",
       "      <td>0.262509</td>\n",
       "      <td>0.207941</td>\n",
       "      <td>...</td>\n",
       "      <td>0.180472</td>\n",
       "      <td>0.179935</td>\n",
       "      <td>-0.322195</td>\n",
       "      <td>0.034056</td>\n",
       "      <td>-0.049156</td>\n",
       "      <td>0.005788</td>\n",
       "      <td>-0.038620</td>\n",
       "      <td>0.027765</td>\n",
       "      <td>-0.006211</td>\n",
       "      <td>0.437662</td>\n",
       "    </tr>\n",
       "    <tr>\n",
       "      <th>YearRemodAdd</th>\n",
       "      <td>0.087397</td>\n",
       "      <td>0.042864</td>\n",
       "      <td>0.094559</td>\n",
       "      <td>0.017766</td>\n",
       "      <td>0.379579</td>\n",
       "      <td>0.084102</td>\n",
       "      <td>0.536129</td>\n",
       "      <td>1.000000</td>\n",
       "      <td>0.166082</td>\n",
       "      <td>0.101401</td>\n",
       "      <td>...</td>\n",
       "      <td>0.182932</td>\n",
       "      <td>0.221604</td>\n",
       "      <td>-0.177739</td>\n",
       "      <td>0.039945</td>\n",
       "      <td>-0.036832</td>\n",
       "      <td>-0.009607</td>\n",
       "      <td>-0.011749</td>\n",
       "      <td>0.033514</td>\n",
       "      <td>0.058932</td>\n",
       "      <td>0.475565</td>\n",
       "    </tr>\n",
       "    <tr>\n",
       "      <th>MasVnrArea</th>\n",
       "      <td>-0.027102</td>\n",
       "      <td>-0.004831</td>\n",
       "      <td>0.121076</td>\n",
       "      <td>0.063975</td>\n",
       "      <td>0.282833</td>\n",
       "      <td>-0.082965</td>\n",
       "      <td>0.262509</td>\n",
       "      <td>0.166082</td>\n",
       "      <td>1.000000</td>\n",
       "      <td>0.237311</td>\n",
       "      <td>...</td>\n",
       "      <td>0.123055</td>\n",
       "      <td>0.140592</td>\n",
       "      <td>-0.097400</td>\n",
       "      <td>0.029772</td>\n",
       "      <td>0.063592</td>\n",
       "      <td>0.002936</td>\n",
       "      <td>-0.035351</td>\n",
       "      <td>-0.017675</td>\n",
       "      <td>0.019987</td>\n",
       "      <td>0.480394</td>\n",
       "    </tr>\n",
       "    <tr>\n",
       "      <th>BsmtFinSF1</th>\n",
       "      <td>-0.016424</td>\n",
       "      <td>-0.034072</td>\n",
       "      <td>0.129897</td>\n",
       "      <td>0.164989</td>\n",
       "      <td>0.163501</td>\n",
       "      <td>-0.035849</td>\n",
       "      <td>0.207941</td>\n",
       "      <td>0.101401</td>\n",
       "      <td>0.237311</td>\n",
       "      <td>1.000000</td>\n",
       "      <td>...</td>\n",
       "      <td>0.207229</td>\n",
       "      <td>0.107593</td>\n",
       "      <td>-0.089326</td>\n",
       "      <td>0.045092</td>\n",
       "      <td>0.046826</td>\n",
       "      <td>0.099504</td>\n",
       "      <td>-0.001520</td>\n",
       "      <td>-0.019242</td>\n",
       "      <td>0.030208</td>\n",
       "      <td>0.373276</td>\n",
       "    </tr>\n",
       "    <tr>\n",
       "      <th>BsmtFinSF2</th>\n",
       "      <td>0.004953</td>\n",
       "      <td>-0.025699</td>\n",
       "      <td>0.056490</td>\n",
       "      <td>0.075875</td>\n",
       "      <td>-0.058146</td>\n",
       "      <td>0.027023</td>\n",
       "      <td>-0.027220</td>\n",
       "      <td>-0.073927</td>\n",
       "      <td>-0.079713</td>\n",
       "      <td>-0.060739</td>\n",
       "      <td>...</td>\n",
       "      <td>0.073748</td>\n",
       "      <td>-0.001699</td>\n",
       "      <td>0.058107</td>\n",
       "      <td>-0.030341</td>\n",
       "      <td>0.099569</td>\n",
       "      <td>0.027055</td>\n",
       "      <td>-0.002205</td>\n",
       "      <td>-0.016562</td>\n",
       "      <td>0.025510</td>\n",
       "      <td>-0.029042</td>\n",
       "    </tr>\n",
       "    <tr>\n",
       "      <th>BsmtUnfSF</th>\n",
       "      <td>-0.007132</td>\n",
       "      <td>-0.022296</td>\n",
       "      <td>0.104903</td>\n",
       "      <td>0.000127</td>\n",
       "      <td>0.197844</td>\n",
       "      <td>-0.098924</td>\n",
       "      <td>0.118779</td>\n",
       "      <td>0.198201</td>\n",
       "      <td>0.123720</td>\n",
       "      <td>-0.508612</td>\n",
       "      <td>...</td>\n",
       "      <td>-0.004537</td>\n",
       "      <td>0.147045</td>\n",
       "      <td>-0.011615</td>\n",
       "      <td>0.009322</td>\n",
       "      <td>-0.007265</td>\n",
       "      <td>-0.023034</td>\n",
       "      <td>-0.019873</td>\n",
       "      <td>0.040603</td>\n",
       "      <td>-0.052313</td>\n",
       "      <td>0.231903</td>\n",
       "    </tr>\n",
       "    <tr>\n",
       "      <th>TotalBsmtSF</th>\n",
       "      <td>-0.022610</td>\n",
       "      <td>-0.068557</td>\n",
       "      <td>0.266189</td>\n",
       "      <td>0.200794</td>\n",
       "      <td>0.354046</td>\n",
       "      <td>-0.130098</td>\n",
       "      <td>0.329629</td>\n",
       "      <td>0.283802</td>\n",
       "      <td>0.345144</td>\n",
       "      <td>0.485476</td>\n",
       "      <td>...</td>\n",
       "      <td>0.239018</td>\n",
       "      <td>0.264615</td>\n",
       "      <td>-0.082646</td>\n",
       "      <td>0.044941</td>\n",
       "      <td>0.079355</td>\n",
       "      <td>0.089796</td>\n",
       "      <td>-0.023162</td>\n",
       "      <td>0.015998</td>\n",
       "      <td>-0.013380</td>\n",
       "      <td>0.618828</td>\n",
       "    </tr>\n",
       "    <tr>\n",
       "      <th>1stFlrSF</th>\n",
       "      <td>0.007956</td>\n",
       "      <td>-0.078372</td>\n",
       "      <td>0.327318</td>\n",
       "      <td>0.244940</td>\n",
       "      <td>0.308402</td>\n",
       "      <td>-0.087931</td>\n",
       "      <td>0.235759</td>\n",
       "      <td>0.224185</td>\n",
       "      <td>0.319825</td>\n",
       "      <td>0.399249</td>\n",
       "      <td>...</td>\n",
       "      <td>0.239534</td>\n",
       "      <td>0.219455</td>\n",
       "      <td>-0.054362</td>\n",
       "      <td>0.061056</td>\n",
       "      <td>0.083158</td>\n",
       "      <td>0.111846</td>\n",
       "      <td>-0.028477</td>\n",
       "      <td>0.035728</td>\n",
       "      <td>0.004051</td>\n",
       "      <td>0.600125</td>\n",
       "    </tr>\n",
       "    <tr>\n",
       "      <th>2ndFlrSF</th>\n",
       "      <td>0.002781</td>\n",
       "      <td>0.101374</td>\n",
       "      <td>0.064048</td>\n",
       "      <td>0.036583</td>\n",
       "      <td>0.209623</td>\n",
       "      <td>0.013921</td>\n",
       "      <td>0.014821</td>\n",
       "      <td>0.136079</td>\n",
       "      <td>0.190583</td>\n",
       "      <td>-0.127193</td>\n",
       "      <td>...</td>\n",
       "      <td>0.088539</td>\n",
       "      <td>0.201342</td>\n",
       "      <td>0.069589</td>\n",
       "      <td>-0.020827</td>\n",
       "      <td>0.059846</td>\n",
       "      <td>0.067664</td>\n",
       "      <td>0.023551</td>\n",
       "      <td>0.044053</td>\n",
       "      <td>-0.004625</td>\n",
       "      <td>0.327721</td>\n",
       "    </tr>\n",
       "    <tr>\n",
       "      <th>LowQualFinSF</th>\n",
       "      <td>-0.023803</td>\n",
       "      <td>0.004985</td>\n",
       "      <td>0.022564</td>\n",
       "      <td>-0.001199</td>\n",
       "      <td>-0.013395</td>\n",
       "      <td>-0.009863</td>\n",
       "      <td>-0.180458</td>\n",
       "      <td>-0.085126</td>\n",
       "      <td>-0.071053</td>\n",
       "      <td>-0.071539</td>\n",
       "      <td>...</td>\n",
       "      <td>-0.020211</td>\n",
       "      <td>0.004981</td>\n",
       "      <td>0.070810</td>\n",
       "      <td>-0.006514</td>\n",
       "      <td>0.008720</td>\n",
       "      <td>0.044597</td>\n",
       "      <td>0.003659</td>\n",
       "      <td>0.000636</td>\n",
       "      <td>-0.036017</td>\n",
       "      <td>-0.046975</td>\n",
       "    </tr>\n",
       "    <tr>\n",
       "      <th>GrLivArea</th>\n",
       "      <td>0.005877</td>\n",
       "      <td>0.029368</td>\n",
       "      <td>0.295061</td>\n",
       "      <td>0.209442</td>\n",
       "      <td>0.401340</td>\n",
       "      <td>-0.053220</td>\n",
       "      <td>0.167113</td>\n",
       "      <td>0.270691</td>\n",
       "      <td>0.387988</td>\n",
       "      <td>0.176213</td>\n",
       "      <td>...</td>\n",
       "      <td>0.247763</td>\n",
       "      <td>0.331248</td>\n",
       "      <td>0.026206</td>\n",
       "      <td>0.026204</td>\n",
       "      <td>0.112218</td>\n",
       "      <td>0.143198</td>\n",
       "      <td>-0.000422</td>\n",
       "      <td>0.063477</td>\n",
       "      <td>-0.004422</td>\n",
       "      <td>0.710938</td>\n",
       "    </tr>\n",
       "    <tr>\n",
       "      <th>BsmtFullBath</th>\n",
       "      <td>0.021117</td>\n",
       "      <td>-0.016284</td>\n",
       "      <td>0.080491</td>\n",
       "      <td>0.126283</td>\n",
       "      <td>0.084128</td>\n",
       "      <td>-0.029309</td>\n",
       "      <td>0.141150</td>\n",
       "      <td>0.101714</td>\n",
       "      <td>0.075071</td>\n",
       "      <td>0.638649</td>\n",
       "      <td>...</td>\n",
       "      <td>0.179107</td>\n",
       "      <td>0.066205</td>\n",
       "      <td>-0.036085</td>\n",
       "      <td>0.021195</td>\n",
       "      <td>0.005316</td>\n",
       "      <td>0.042553</td>\n",
       "      <td>-0.026891</td>\n",
       "      <td>-0.040124</td>\n",
       "      <td>0.074872</td>\n",
       "      <td>0.219441</td>\n",
       "    </tr>\n",
       "    <tr>\n",
       "      <th>BsmtHalfBath</th>\n",
       "      <td>-0.030925</td>\n",
       "      <td>-0.004521</td>\n",
       "      <td>-0.033959</td>\n",
       "      <td>0.031688</td>\n",
       "      <td>-0.047402</td>\n",
       "      <td>0.048357</td>\n",
       "      <td>-0.017865</td>\n",
       "      <td>-0.012083</td>\n",
       "      <td>0.026702</td>\n",
       "      <td>0.079832</td>\n",
       "      <td>...</td>\n",
       "      <td>0.027991</td>\n",
       "      <td>-0.023208</td>\n",
       "      <td>-0.022373</td>\n",
       "      <td>0.022508</td>\n",
       "      <td>0.050526</td>\n",
       "      <td>0.013227</td>\n",
       "      <td>-0.008855</td>\n",
       "      <td>0.015413</td>\n",
       "      <td>-0.036252</td>\n",
       "      <td>-0.026010</td>\n",
       "    </tr>\n",
       "    <tr>\n",
       "      <th>FullBath</th>\n",
       "      <td>0.023712</td>\n",
       "      <td>0.056762</td>\n",
       "      <td>0.162205</td>\n",
       "      <td>0.097835</td>\n",
       "      <td>0.382428</td>\n",
       "      <td>-0.116006</td>\n",
       "      <td>0.399802</td>\n",
       "      <td>0.422568</td>\n",
       "      <td>0.280588</td>\n",
       "      <td>0.040933</td>\n",
       "      <td>...</td>\n",
       "      <td>0.156844</td>\n",
       "      <td>0.267832</td>\n",
       "      <td>-0.095187</td>\n",
       "      <td>0.037960</td>\n",
       "      <td>-0.024290</td>\n",
       "      <td>0.044697</td>\n",
       "      <td>-0.013220</td>\n",
       "      <td>0.052349</td>\n",
       "      <td>0.005646</td>\n",
       "      <td>0.549288</td>\n",
       "    </tr>\n",
       "    <tr>\n",
       "      <th>HalfBath</th>\n",
       "      <td>0.000216</td>\n",
       "      <td>0.066188</td>\n",
       "      <td>0.044215</td>\n",
       "      <td>0.003932</td>\n",
       "      <td>0.190106</td>\n",
       "      <td>-0.040809</td>\n",
       "      <td>0.194491</td>\n",
       "      <td>0.180755</td>\n",
       "      <td>0.203930</td>\n",
       "      <td>0.014429</td>\n",
       "      <td>...</td>\n",
       "      <td>0.109410</td>\n",
       "      <td>0.196472</td>\n",
       "      <td>-0.095942</td>\n",
       "      <td>-0.007334</td>\n",
       "      <td>0.084797</td>\n",
       "      <td>0.010251</td>\n",
       "      <td>-0.005915</td>\n",
       "      <td>0.022362</td>\n",
       "      <td>-0.008529</td>\n",
       "      <td>0.299332</td>\n",
       "    </tr>\n",
       "    <tr>\n",
       "      <th>BedroomAbvGr</th>\n",
       "      <td>0.011009</td>\n",
       "      <td>-0.005343</td>\n",
       "      <td>0.208551</td>\n",
       "      <td>0.107307</td>\n",
       "      <td>0.059223</td>\n",
       "      <td>-0.010460</td>\n",
       "      <td>-0.057069</td>\n",
       "      <td>-0.037185</td>\n",
       "      <td>0.101668</td>\n",
       "      <td>-0.130357</td>\n",
       "      <td>...</td>\n",
       "      <td>0.025840</td>\n",
       "      <td>0.082850</td>\n",
       "      <td>0.038803</td>\n",
       "      <td>-0.030329</td>\n",
       "      <td>0.047550</td>\n",
       "      <td>0.066089</td>\n",
       "      <td>0.017772</td>\n",
       "      <td>0.041555</td>\n",
       "      <td>-0.038092</td>\n",
       "      <td>0.160748</td>\n",
       "    </tr>\n",
       "    <tr>\n",
       "      <th>KitchenAbvGr</th>\n",
       "      <td>0.007471</td>\n",
       "      <td>0.074835</td>\n",
       "      <td>0.006330</td>\n",
       "      <td>-0.008350</td>\n",
       "      <td>-0.111588</td>\n",
       "      <td>-0.019415</td>\n",
       "      <td>-0.143619</td>\n",
       "      <td>-0.128308</td>\n",
       "      <td>-0.054006</td>\n",
       "      <td>-0.090372</td>\n",
       "      <td>...</td>\n",
       "      <td>-0.096716</td>\n",
       "      <td>-0.093712</td>\n",
       "      <td>0.045217</td>\n",
       "      <td>-0.024566</td>\n",
       "      <td>-0.052056</td>\n",
       "      <td>-0.013589</td>\n",
       "      <td>0.040443</td>\n",
       "      <td>0.021614</td>\n",
       "      <td>0.041410</td>\n",
       "      <td>-0.144456</td>\n",
       "    </tr>\n",
       "    <tr>\n",
       "      <th>TotRmsAbvGrd</th>\n",
       "      <td>0.009598</td>\n",
       "      <td>0.019444</td>\n",
       "      <td>0.270708</td>\n",
       "      <td>0.155519</td>\n",
       "      <td>0.272410</td>\n",
       "      <td>-0.034231</td>\n",
       "      <td>0.080751</td>\n",
       "      <td>0.173802</td>\n",
       "      <td>0.274542</td>\n",
       "      <td>0.010932</td>\n",
       "      <td>...</td>\n",
       "      <td>0.150217</td>\n",
       "      <td>0.222059</td>\n",
       "      <td>0.024194</td>\n",
       "      <td>-0.006601</td>\n",
       "      <td>0.063557</td>\n",
       "      <td>0.070984</td>\n",
       "      <td>0.024912</td>\n",
       "      <td>0.026090</td>\n",
       "      <td>-0.000698</td>\n",
       "      <td>0.523762</td>\n",
       "    </tr>\n",
       "    <tr>\n",
       "      <th>Fireplaces</th>\n",
       "      <td>-0.010996</td>\n",
       "      <td>-0.031639</td>\n",
       "      <td>0.204724</td>\n",
       "      <td>0.211193</td>\n",
       "      <td>0.255236</td>\n",
       "      <td>-0.031404</td>\n",
       "      <td>0.135165</td>\n",
       "      <td>0.106243</td>\n",
       "      <td>0.274723</td>\n",
       "      <td>0.220218</td>\n",
       "      <td>...</td>\n",
       "      <td>0.183915</td>\n",
       "      <td>0.178262</td>\n",
       "      <td>0.000162</td>\n",
       "      <td>0.023901</td>\n",
       "      <td>0.179534</td>\n",
       "      <td>0.079991</td>\n",
       "      <td>0.010926</td>\n",
       "      <td>0.029487</td>\n",
       "      <td>0.005624</td>\n",
       "      <td>0.469688</td>\n",
       "    </tr>\n",
       "    <tr>\n",
       "      <th>GarageYrBlt</th>\n",
       "      <td>0.068043</td>\n",
       "      <td>0.047387</td>\n",
       "      <td>0.042397</td>\n",
       "      <td>-0.036769</td>\n",
       "      <td>0.309880</td>\n",
       "      <td>-0.137678</td>\n",
       "      <td>0.628404</td>\n",
       "      <td>0.590663</td>\n",
       "      <td>0.203487</td>\n",
       "      <td>0.111942</td>\n",
       "      <td>...</td>\n",
       "      <td>0.167220</td>\n",
       "      <td>0.211428</td>\n",
       "      <td>-0.244917</td>\n",
       "      <td>0.019151</td>\n",
       "      <td>-0.097115</td>\n",
       "      <td>-0.024109</td>\n",
       "      <td>-0.035390</td>\n",
       "      <td>0.004518</td>\n",
       "      <td>0.009377</td>\n",
       "      <td>0.387326</td>\n",
       "    </tr>\n",
       "    <tr>\n",
       "      <th>GarageCars</th>\n",
       "      <td>0.028359</td>\n",
       "      <td>-0.001193</td>\n",
       "      <td>0.222799</td>\n",
       "      <td>0.128792</td>\n",
       "      <td>0.399407</td>\n",
       "      <td>-0.113676</td>\n",
       "      <td>0.456665</td>\n",
       "      <td>0.393252</td>\n",
       "      <td>0.356316</td>\n",
       "      <td>0.195292</td>\n",
       "      <td>...</td>\n",
       "      <td>0.221368</td>\n",
       "      <td>0.238643</td>\n",
       "      <td>-0.143153</td>\n",
       "      <td>0.040588</td>\n",
       "      <td>0.044929</td>\n",
       "      <td>0.018223</td>\n",
       "      <td>-0.045843</td>\n",
       "      <td>0.046592</td>\n",
       "      <td>-0.027816</td>\n",
       "      <td>0.633951</td>\n",
       "    </tr>\n",
       "    <tr>\n",
       "      <th>GarageArea</th>\n",
       "      <td>0.016845</td>\n",
       "      <td>-0.013785</td>\n",
       "      <td>0.254447</td>\n",
       "      <td>0.144898</td>\n",
       "      <td>0.373203</td>\n",
       "      <td>-0.084758</td>\n",
       "      <td>0.406962</td>\n",
       "      <td>0.336030</td>\n",
       "      <td>0.360821</td>\n",
       "      <td>0.258896</td>\n",
       "      <td>...</td>\n",
       "      <td>0.219083</td>\n",
       "      <td>0.261912</td>\n",
       "      <td>-0.114769</td>\n",
       "      <td>0.032727</td>\n",
       "      <td>0.050547</td>\n",
       "      <td>0.044164</td>\n",
       "      <td>-0.027948</td>\n",
       "      <td>0.029315</td>\n",
       "      <td>-0.015966</td>\n",
       "      <td>0.621049</td>\n",
       "    </tr>\n",
       "    <tr>\n",
       "      <th>WoodDeckSF</th>\n",
       "      <td>0.006044</td>\n",
       "      <td>0.004620</td>\n",
       "      <td>0.073800</td>\n",
       "      <td>0.121530</td>\n",
       "      <td>0.155307</td>\n",
       "      <td>0.013854</td>\n",
       "      <td>0.180472</td>\n",
       "      <td>0.182932</td>\n",
       "      <td>0.123055</td>\n",
       "      <td>0.207229</td>\n",
       "      <td>...</td>\n",
       "      <td>1.000000</td>\n",
       "      <td>0.075100</td>\n",
       "      <td>-0.113605</td>\n",
       "      <td>-0.029874</td>\n",
       "      <td>-0.075788</td>\n",
       "      <td>0.090194</td>\n",
       "      <td>-0.009777</td>\n",
       "      <td>0.036640</td>\n",
       "      <td>0.020592</td>\n",
       "      <td>0.325386</td>\n",
       "    </tr>\n",
       "    <tr>\n",
       "      <th>OpenPorchSF</th>\n",
       "      <td>-0.004948</td>\n",
       "      <td>0.002153</td>\n",
       "      <td>0.097186</td>\n",
       "      <td>0.064376</td>\n",
       "      <td>0.217044</td>\n",
       "      <td>-0.042208</td>\n",
       "      <td>0.179935</td>\n",
       "      <td>0.221604</td>\n",
       "      <td>0.140592</td>\n",
       "      <td>0.107593</td>\n",
       "      <td>...</td>\n",
       "      <td>0.075100</td>\n",
       "      <td>1.000000</td>\n",
       "      <td>-0.082930</td>\n",
       "      <td>-0.011261</td>\n",
       "      <td>0.055917</td>\n",
       "      <td>0.075429</td>\n",
       "      <td>-0.019967</td>\n",
       "      <td>0.074082</td>\n",
       "      <td>-0.061060</td>\n",
       "      <td>0.344035</td>\n",
       "    </tr>\n",
       "    <tr>\n",
       "      <th>EnclosedPorch</th>\n",
       "      <td>0.001317</td>\n",
       "      <td>-0.006529</td>\n",
       "      <td>-0.002113</td>\n",
       "      <td>-0.023199</td>\n",
       "      <td>-0.080219</td>\n",
       "      <td>0.044501</td>\n",
       "      <td>-0.322195</td>\n",
       "      <td>-0.177739</td>\n",
       "      <td>-0.097400</td>\n",
       "      <td>-0.089326</td>\n",
       "      <td>...</td>\n",
       "      <td>-0.113605</td>\n",
       "      <td>-0.082930</td>\n",
       "      <td>1.000000</td>\n",
       "      <td>-0.032133</td>\n",
       "      <td>-0.079499</td>\n",
       "      <td>0.039500</td>\n",
       "      <td>0.023253</td>\n",
       "      <td>-0.028394</td>\n",
       "      <td>0.018390</td>\n",
       "      <td>-0.108530</td>\n",
       "    </tr>\n",
       "    <tr>\n",
       "      <th>3SsnPorch</th>\n",
       "      <td>-0.045446</td>\n",
       "      <td>-0.011966</td>\n",
       "      <td>0.037639</td>\n",
       "      <td>0.010594</td>\n",
       "      <td>0.000451</td>\n",
       "      <td>0.017358</td>\n",
       "      <td>0.034056</td>\n",
       "      <td>0.039945</td>\n",
       "      <td>0.029772</td>\n",
       "      <td>0.045092</td>\n",
       "      <td>...</td>\n",
       "      <td>-0.029874</td>\n",
       "      <td>-0.011261</td>\n",
       "      <td>-0.032133</td>\n",
       "      <td>1.000000</td>\n",
       "      <td>-0.029898</td>\n",
       "      <td>-0.006831</td>\n",
       "      <td>-0.000897</td>\n",
       "      <td>0.040510</td>\n",
       "      <td>0.022259</td>\n",
       "      <td>0.052394</td>\n",
       "    </tr>\n",
       "    <tr>\n",
       "      <th>ScreenPorch</th>\n",
       "      <td>-0.004690</td>\n",
       "      <td>-0.012021</td>\n",
       "      <td>0.019810</td>\n",
       "      <td>0.035370</td>\n",
       "      <td>0.021561</td>\n",
       "      <td>0.012021</td>\n",
       "      <td>-0.049156</td>\n",
       "      <td>-0.036832</td>\n",
       "      <td>0.063592</td>\n",
       "      <td>0.046826</td>\n",
       "      <td>...</td>\n",
       "      <td>-0.075788</td>\n",
       "      <td>0.055917</td>\n",
       "      <td>-0.079499</td>\n",
       "      <td>-0.029898</td>\n",
       "      <td>1.000000</td>\n",
       "      <td>0.037916</td>\n",
       "      <td>0.024816</td>\n",
       "      <td>0.007972</td>\n",
       "      <td>0.020460</td>\n",
       "      <td>0.115157</td>\n",
       "    </tr>\n",
       "    <tr>\n",
       "      <th>PoolArea</th>\n",
       "      <td>0.031303</td>\n",
       "      <td>0.001625</td>\n",
       "      <td>0.111869</td>\n",
       "      <td>0.062458</td>\n",
       "      <td>0.045138</td>\n",
       "      <td>-0.016993</td>\n",
       "      <td>0.005788</td>\n",
       "      <td>-0.009607</td>\n",
       "      <td>0.002936</td>\n",
       "      <td>0.099504</td>\n",
       "      <td>...</td>\n",
       "      <td>0.090194</td>\n",
       "      <td>0.075429</td>\n",
       "      <td>0.039500</td>\n",
       "      <td>-0.006831</td>\n",
       "      <td>0.037916</td>\n",
       "      <td>1.000000</td>\n",
       "      <td>0.025470</td>\n",
       "      <td>-0.018915</td>\n",
       "      <td>-0.059756</td>\n",
       "      <td>0.081913</td>\n",
       "    </tr>\n",
       "    <tr>\n",
       "      <th>MiscVal</th>\n",
       "      <td>-0.007318</td>\n",
       "      <td>-0.003942</td>\n",
       "      <td>-0.002122</td>\n",
       "      <td>0.030949</td>\n",
       "      <td>-0.034206</td>\n",
       "      <td>0.041833</td>\n",
       "      <td>-0.038620</td>\n",
       "      <td>-0.011749</td>\n",
       "      <td>-0.035351</td>\n",
       "      <td>-0.001520</td>\n",
       "      <td>...</td>\n",
       "      <td>-0.009777</td>\n",
       "      <td>-0.019967</td>\n",
       "      <td>0.023253</td>\n",
       "      <td>-0.000897</td>\n",
       "      <td>0.024816</td>\n",
       "      <td>0.025470</td>\n",
       "      <td>1.000000</td>\n",
       "      <td>-0.004530</td>\n",
       "      <td>0.013357</td>\n",
       "      <td>-0.020430</td>\n",
       "    </tr>\n",
       "    <tr>\n",
       "      <th>MoSold</th>\n",
       "      <td>0.000234</td>\n",
       "      <td>-0.020589</td>\n",
       "      <td>0.023024</td>\n",
       "      <td>-0.001707</td>\n",
       "      <td>0.033685</td>\n",
       "      <td>-0.025281</td>\n",
       "      <td>0.027765</td>\n",
       "      <td>0.033514</td>\n",
       "      <td>-0.017675</td>\n",
       "      <td>-0.019242</td>\n",
       "      <td>...</td>\n",
       "      <td>0.036640</td>\n",
       "      <td>0.074082</td>\n",
       "      <td>-0.028394</td>\n",
       "      <td>0.040510</td>\n",
       "      <td>0.007972</td>\n",
       "      <td>-0.018915</td>\n",
       "      <td>-0.004530</td>\n",
       "      <td>1.000000</td>\n",
       "      <td>-0.173069</td>\n",
       "      <td>0.041053</td>\n",
       "    </tr>\n",
       "    <tr>\n",
       "      <th>YrSold</th>\n",
       "      <td>0.043219</td>\n",
       "      <td>0.018891</td>\n",
       "      <td>0.023630</td>\n",
       "      <td>-0.006478</td>\n",
       "      <td>-0.021130</td>\n",
       "      <td>0.035050</td>\n",
       "      <td>-0.006211</td>\n",
       "      <td>0.058932</td>\n",
       "      <td>0.019987</td>\n",
       "      <td>0.030208</td>\n",
       "      <td>...</td>\n",
       "      <td>0.020592</td>\n",
       "      <td>-0.061060</td>\n",
       "      <td>0.018390</td>\n",
       "      <td>0.022259</td>\n",
       "      <td>0.020460</td>\n",
       "      <td>-0.059756</td>\n",
       "      <td>0.013357</td>\n",
       "      <td>-0.173069</td>\n",
       "      <td>1.000000</td>\n",
       "      <td>0.001740</td>\n",
       "    </tr>\n",
       "    <tr>\n",
       "      <th>Property_Sale_Price</th>\n",
       "      <td>-0.002491</td>\n",
       "      <td>-0.017399</td>\n",
       "      <td>0.268354</td>\n",
       "      <td>0.211572</td>\n",
       "      <td>0.523553</td>\n",
       "      <td>-0.049926</td>\n",
       "      <td>0.437662</td>\n",
       "      <td>0.475565</td>\n",
       "      <td>0.480394</td>\n",
       "      <td>0.373276</td>\n",
       "      <td>...</td>\n",
       "      <td>0.325386</td>\n",
       "      <td>0.344035</td>\n",
       "      <td>-0.108530</td>\n",
       "      <td>0.052394</td>\n",
       "      <td>0.115157</td>\n",
       "      <td>0.081913</td>\n",
       "      <td>-0.020430</td>\n",
       "      <td>0.041053</td>\n",
       "      <td>0.001740</td>\n",
       "      <td>1.000000</td>\n",
       "    </tr>\n",
       "  </tbody>\n",
       "</table>\n",
       "<p>38 rows × 38 columns</p>\n",
       "</div>"
      ],
      "text/plain": [
       "                           Id  Dwell_Type  LotFrontage   LotArea  OverallQual  \\\n",
       "Id                   1.000000    0.043264     0.062592  0.004201     0.083367   \n",
       "Dwell_Type           0.043264    1.000000    -0.075289 -0.033609     0.046278   \n",
       "LotFrontage          0.062592   -0.075289     1.000000  0.240528     0.101230   \n",
       "LotArea              0.004201   -0.033609     0.240528  1.000000     0.078232   \n",
       "OverallQual          0.083367    0.046278     0.101230  0.078232     1.000000   \n",
       "OverallCond          0.195635    0.033023    -0.010357  0.014209    -0.010092   \n",
       "YearBuilt           -0.080204    0.027194     0.088630 -0.010551     0.335326   \n",
       "YearRemodAdd         0.087397    0.042864     0.094559  0.017766     0.379579   \n",
       "MasVnrArea          -0.027102   -0.004831     0.121076  0.063975     0.282833   \n",
       "BsmtFinSF1          -0.016424   -0.034072     0.129897  0.164989     0.163501   \n",
       "BsmtFinSF2           0.004953   -0.025699     0.056490  0.075875    -0.058146   \n",
       "BsmtUnfSF           -0.007132   -0.022296     0.104903  0.000127     0.197844   \n",
       "TotalBsmtSF         -0.022610   -0.068557     0.266189  0.200794     0.354046   \n",
       "1stFlrSF             0.007956   -0.078372     0.327318  0.244940     0.308402   \n",
       "2ndFlrSF             0.002781    0.101374     0.064048  0.036583     0.209623   \n",
       "LowQualFinSF        -0.023803    0.004985     0.022564 -0.001199    -0.013395   \n",
       "GrLivArea            0.005877    0.029368     0.295061  0.209442     0.401340   \n",
       "BsmtFullBath         0.021117   -0.016284     0.080491  0.126283     0.084128   \n",
       "BsmtHalfBath        -0.030925   -0.004521    -0.033959  0.031688    -0.047402   \n",
       "FullBath             0.023712    0.056762     0.162205  0.097835     0.382428   \n",
       "HalfBath             0.000216    0.066188     0.044215  0.003932     0.190106   \n",
       "BedroomAbvGr         0.011009   -0.005343     0.208551  0.107307     0.059223   \n",
       "KitchenAbvGr         0.007471    0.074835     0.006330 -0.008350    -0.111588   \n",
       "TotRmsAbvGrd         0.009598    0.019444     0.270708  0.155519     0.272410   \n",
       "Fireplaces          -0.010996   -0.031639     0.204724  0.211193     0.255236   \n",
       "GarageYrBlt          0.068043    0.047387     0.042397 -0.036769     0.309880   \n",
       "GarageCars           0.028359   -0.001193     0.222799  0.128792     0.399407   \n",
       "GarageArea           0.016845   -0.013785     0.254447  0.144898     0.373203   \n",
       "WoodDeckSF           0.006044    0.004620     0.073800  0.121530     0.155307   \n",
       "OpenPorchSF         -0.004948    0.002153     0.097186  0.064376     0.217044   \n",
       "EnclosedPorch        0.001317   -0.006529    -0.002113 -0.023199    -0.080219   \n",
       "3SsnPorch           -0.045446   -0.011966     0.037639  0.010594     0.000451   \n",
       "ScreenPorch         -0.004690   -0.012021     0.019810  0.035370     0.021561   \n",
       "PoolArea             0.031303    0.001625     0.111869  0.062458     0.045138   \n",
       "MiscVal             -0.007318   -0.003942    -0.002122  0.030949    -0.034206   \n",
       "MoSold               0.000234   -0.020589     0.023024 -0.001707     0.033685   \n",
       "YrSold               0.043219    0.018891     0.023630 -0.006478    -0.021130   \n",
       "Property_Sale_Price -0.002491   -0.017399     0.268354  0.211572     0.523553   \n",
       "\n",
       "                     OverallCond  YearBuilt  YearRemodAdd  MasVnrArea  \\\n",
       "Id                      0.195635  -0.080204      0.087397   -0.027102   \n",
       "Dwell_Type              0.033023   0.027194      0.042864   -0.004831   \n",
       "LotFrontage            -0.010357   0.088630      0.094559    0.121076   \n",
       "LotArea                 0.014209  -0.010551      0.017766    0.063975   \n",
       "OverallQual            -0.010092   0.335326      0.379579    0.282833   \n",
       "OverallCond             1.000000  -0.245303      0.084102   -0.082965   \n",
       "YearBuilt              -0.245303   1.000000      0.536129    0.262509   \n",
       "YearRemodAdd            0.084102   0.536129      1.000000    0.166082   \n",
       "MasVnrArea             -0.082965   0.262509      0.166082    1.000000   \n",
       "BsmtFinSF1             -0.035849   0.207941      0.101401    0.237311   \n",
       "BsmtFinSF2              0.027023  -0.027220     -0.073927   -0.079713   \n",
       "BsmtUnfSF              -0.098924   0.118779      0.198201    0.123720   \n",
       "TotalBsmtSF            -0.130098   0.329629      0.283802    0.345144   \n",
       "1stFlrSF               -0.087931   0.235759      0.224185    0.319825   \n",
       "2ndFlrSF                0.013921   0.014821      0.136079    0.190583   \n",
       "LowQualFinSF           -0.009863  -0.180458     -0.085126   -0.071053   \n",
       "GrLivArea              -0.053220   0.167113      0.270691    0.387988   \n",
       "BsmtFullBath           -0.029309   0.141150      0.101714    0.075071   \n",
       "BsmtHalfBath            0.048357  -0.017865     -0.012083    0.026702   \n",
       "FullBath               -0.116006   0.399802      0.422568    0.280588   \n",
       "HalfBath               -0.040809   0.194491      0.180755    0.203930   \n",
       "BedroomAbvGr           -0.010460  -0.057069     -0.037185    0.101668   \n",
       "KitchenAbvGr           -0.019415  -0.143619     -0.128308   -0.054006   \n",
       "TotRmsAbvGrd           -0.034231   0.080751      0.173802    0.274542   \n",
       "Fireplaces             -0.031404   0.135165      0.106243    0.274723   \n",
       "GarageYrBlt            -0.137678   0.628404      0.590663    0.203487   \n",
       "GarageCars             -0.113676   0.456665      0.393252    0.356316   \n",
       "GarageArea             -0.084758   0.406962      0.336030    0.360821   \n",
       "WoodDeckSF              0.013854   0.180472      0.182932    0.123055   \n",
       "OpenPorchSF            -0.042208   0.179935      0.221604    0.140592   \n",
       "EnclosedPorch           0.044501  -0.322195     -0.177739   -0.097400   \n",
       "3SsnPorch               0.017358   0.034056      0.039945    0.029772   \n",
       "ScreenPorch             0.012021  -0.049156     -0.036832    0.063592   \n",
       "PoolArea               -0.016993   0.005788     -0.009607    0.002936   \n",
       "MiscVal                 0.041833  -0.038620     -0.011749   -0.035351   \n",
       "MoSold                 -0.025281   0.027765      0.033514   -0.017675   \n",
       "YrSold                  0.035050  -0.006211      0.058932    0.019987   \n",
       "Property_Sale_Price    -0.049926   0.437662      0.475565    0.480394   \n",
       "\n",
       "                     BsmtFinSF1  ...  WoodDeckSF  OpenPorchSF  EnclosedPorch  \\\n",
       "Id                    -0.016424  ...    0.006044    -0.004948       0.001317   \n",
       "Dwell_Type            -0.034072  ...    0.004620     0.002153      -0.006529   \n",
       "LotFrontage            0.129897  ...    0.073800     0.097186      -0.002113   \n",
       "LotArea                0.164989  ...    0.121530     0.064376      -0.023199   \n",
       "OverallQual            0.163501  ...    0.155307     0.217044      -0.080219   \n",
       "OverallCond           -0.035849  ...    0.013854    -0.042208       0.044501   \n",
       "YearBuilt              0.207941  ...    0.180472     0.179935      -0.322195   \n",
       "YearRemodAdd           0.101401  ...    0.182932     0.221604      -0.177739   \n",
       "MasVnrArea             0.237311  ...    0.123055     0.140592      -0.097400   \n",
       "BsmtFinSF1             1.000000  ...    0.207229     0.107593      -0.089326   \n",
       "BsmtFinSF2            -0.060739  ...    0.073748    -0.001699       0.058107   \n",
       "BsmtUnfSF             -0.508612  ...   -0.004537     0.147045      -0.011615   \n",
       "TotalBsmtSF            0.485476  ...    0.239018     0.264615      -0.082646   \n",
       "1stFlrSF               0.399249  ...    0.239534     0.219455      -0.054362   \n",
       "2ndFlrSF              -0.127193  ...    0.088539     0.201342       0.069589   \n",
       "LowQualFinSF          -0.071539  ...   -0.020211     0.004981       0.070810   \n",
       "GrLivArea              0.176213  ...    0.247763     0.331248       0.026206   \n",
       "BsmtFullBath           0.638649  ...    0.179107     0.066205      -0.036085   \n",
       "BsmtHalfBath           0.079832  ...    0.027991    -0.023208      -0.022373   \n",
       "FullBath               0.040933  ...    0.156844     0.267832      -0.095187   \n",
       "HalfBath               0.014429  ...    0.109410     0.196472      -0.095942   \n",
       "BedroomAbvGr          -0.130357  ...    0.025840     0.082850       0.038803   \n",
       "KitchenAbvGr          -0.090372  ...   -0.096716    -0.093712       0.045217   \n",
       "TotRmsAbvGrd           0.010932  ...    0.150217     0.222059       0.024194   \n",
       "Fireplaces             0.220218  ...    0.183915     0.178262       0.000162   \n",
       "GarageYrBlt            0.111942  ...    0.167220     0.211428      -0.244917   \n",
       "GarageCars             0.195292  ...    0.221368     0.238643      -0.143153   \n",
       "GarageArea             0.258896  ...    0.219083     0.261912      -0.114769   \n",
       "WoodDeckSF             0.207229  ...    1.000000     0.075100      -0.113605   \n",
       "OpenPorchSF            0.107593  ...    0.075100     1.000000      -0.082930   \n",
       "EnclosedPorch         -0.089326  ...   -0.113605    -0.082930       1.000000   \n",
       "3SsnPorch              0.045092  ...   -0.029874    -0.011261      -0.032133   \n",
       "ScreenPorch            0.046826  ...   -0.075788     0.055917      -0.079499   \n",
       "PoolArea               0.099504  ...    0.090194     0.075429       0.039500   \n",
       "MiscVal               -0.001520  ...   -0.009777    -0.019967       0.023253   \n",
       "MoSold                -0.019242  ...    0.036640     0.074082      -0.028394   \n",
       "YrSold                 0.030208  ...    0.020592    -0.061060       0.018390   \n",
       "Property_Sale_Price    0.373276  ...    0.325386     0.344035      -0.108530   \n",
       "\n",
       "                     3SsnPorch  ScreenPorch  PoolArea   MiscVal    MoSold  \\\n",
       "Id                   -0.045446    -0.004690  0.031303 -0.007318  0.000234   \n",
       "Dwell_Type           -0.011966    -0.012021  0.001625 -0.003942 -0.020589   \n",
       "LotFrontage           0.037639     0.019810  0.111869 -0.002122  0.023024   \n",
       "LotArea               0.010594     0.035370  0.062458  0.030949 -0.001707   \n",
       "OverallQual           0.000451     0.021561  0.045138 -0.034206  0.033685   \n",
       "OverallCond           0.017358     0.012021 -0.016993  0.041833 -0.025281   \n",
       "YearBuilt             0.034056    -0.049156  0.005788 -0.038620  0.027765   \n",
       "YearRemodAdd          0.039945    -0.036832 -0.009607 -0.011749  0.033514   \n",
       "MasVnrArea            0.029772     0.063592  0.002936 -0.035351 -0.017675   \n",
       "BsmtFinSF1            0.045092     0.046826  0.099504 -0.001520 -0.019242   \n",
       "BsmtFinSF2           -0.030341     0.099569  0.027055 -0.002205 -0.016562   \n",
       "BsmtUnfSF             0.009322    -0.007265 -0.023034 -0.019873  0.040603   \n",
       "TotalBsmtSF           0.044941     0.079355  0.089796 -0.023162  0.015998   \n",
       "1stFlrSF              0.061056     0.083158  0.111846 -0.028477  0.035728   \n",
       "2ndFlrSF             -0.020827     0.059846  0.067664  0.023551  0.044053   \n",
       "LowQualFinSF         -0.006514     0.008720  0.044597  0.003659  0.000636   \n",
       "GrLivArea             0.026204     0.112218  0.143198 -0.000422  0.063477   \n",
       "BsmtFullBath          0.021195     0.005316  0.042553 -0.026891 -0.040124   \n",
       "BsmtHalfBath          0.022508     0.050526  0.013227 -0.008855  0.015413   \n",
       "FullBath              0.037960    -0.024290  0.044697 -0.013220  0.052349   \n",
       "HalfBath             -0.007334     0.084797  0.010251 -0.005915  0.022362   \n",
       "BedroomAbvGr         -0.030329     0.047550  0.066089  0.017772  0.041555   \n",
       "KitchenAbvGr         -0.024566    -0.052056 -0.013589  0.040443  0.021614   \n",
       "TotRmsAbvGrd         -0.006601     0.063557  0.070984  0.024912  0.026090   \n",
       "Fireplaces            0.023901     0.179534  0.079991  0.010926  0.029487   \n",
       "GarageYrBlt           0.019151    -0.097115 -0.024109 -0.035390  0.004518   \n",
       "GarageCars            0.040588     0.044929  0.018223 -0.045843  0.046592   \n",
       "GarageArea            0.032727     0.050547  0.044164 -0.027948  0.029315   \n",
       "WoodDeckSF           -0.029874    -0.075788  0.090194 -0.009777  0.036640   \n",
       "OpenPorchSF          -0.011261     0.055917  0.075429 -0.019967  0.074082   \n",
       "EnclosedPorch        -0.032133    -0.079499  0.039500  0.023253 -0.028394   \n",
       "3SsnPorch             1.000000    -0.029898 -0.006831 -0.000897  0.040510   \n",
       "ScreenPorch          -0.029898     1.000000  0.037916  0.024816  0.007972   \n",
       "PoolArea             -0.006831     0.037916  1.000000  0.025470 -0.018915   \n",
       "MiscVal              -0.000897     0.024816  0.025470  1.000000 -0.004530   \n",
       "MoSold                0.040510     0.007972 -0.018915 -0.004530  1.000000   \n",
       "YrSold                0.022259     0.020460 -0.059756  0.013357 -0.173069   \n",
       "Property_Sale_Price   0.052394     0.115157  0.081913 -0.020430  0.041053   \n",
       "\n",
       "                       YrSold  Property_Sale_Price  \n",
       "Id                   0.043219            -0.002491  \n",
       "Dwell_Type           0.018891            -0.017399  \n",
       "LotFrontage          0.023630             0.268354  \n",
       "LotArea             -0.006478             0.211572  \n",
       "OverallQual         -0.021130             0.523553  \n",
       "OverallCond          0.035050            -0.049926  \n",
       "YearBuilt           -0.006211             0.437662  \n",
       "YearRemodAdd         0.058932             0.475565  \n",
       "MasVnrArea           0.019987             0.480394  \n",
       "BsmtFinSF1           0.030208             0.373276  \n",
       "BsmtFinSF2           0.025510            -0.029042  \n",
       "BsmtUnfSF           -0.052313             0.231903  \n",
       "TotalBsmtSF         -0.013380             0.618828  \n",
       "1stFlrSF             0.004051             0.600125  \n",
       "2ndFlrSF            -0.004625             0.327721  \n",
       "LowQualFinSF        -0.036017            -0.046975  \n",
       "GrLivArea           -0.004422             0.710938  \n",
       "BsmtFullBath         0.074872             0.219441  \n",
       "BsmtHalfBath        -0.036252            -0.026010  \n",
       "FullBath             0.005646             0.549288  \n",
       "HalfBath            -0.008529             0.299332  \n",
       "BedroomAbvGr        -0.038092             0.160748  \n",
       "KitchenAbvGr         0.041410            -0.144456  \n",
       "TotRmsAbvGrd        -0.000698             0.523762  \n",
       "Fireplaces           0.005624             0.469688  \n",
       "GarageYrBlt          0.009377             0.387326  \n",
       "GarageCars          -0.027816             0.633951  \n",
       "GarageArea          -0.015966             0.621049  \n",
       "WoodDeckSF           0.020592             0.325386  \n",
       "OpenPorchSF         -0.061060             0.344035  \n",
       "EnclosedPorch        0.018390            -0.108530  \n",
       "3SsnPorch            0.022259             0.052394  \n",
       "ScreenPorch          0.020460             0.115157  \n",
       "PoolArea            -0.059756             0.081913  \n",
       "MiscVal              0.013357            -0.020430  \n",
       "MoSold              -0.173069             0.041053  \n",
       "YrSold               1.000000             0.001740  \n",
       "Property_Sale_Price  0.001740             1.000000  \n",
       "\n",
       "[38 rows x 38 columns]"
      ]
     },
     "execution_count": 15,
     "metadata": {},
     "output_type": "execute_result"
    }
   ],
   "source": [
    "# Correlation\n",
    "df.corr()"
   ]
  },
  {
   "cell_type": "code",
   "execution_count": 16,
   "metadata": {},
   "outputs": [],
   "source": [
    "# OverallQual(0.523553), TotalBsmtSF(0.618828), GarageCars(0.633951), GarageArea(0.621049), GrLivArea(0.710938),\n",
    "# TotRmsAbvGrd(0.523762), FullBath(0.549288), 1stFlrSF(0.600125)"
   ]
  },
  {
   "cell_type": "code",
   "execution_count": 17,
   "metadata": {},
   "outputs": [
    {
     "data": {
      "text/plain": [
       "<AxesSubplot:>"
      ]
     },
     "execution_count": 17,
     "metadata": {},
     "output_type": "execute_result"
    },
    {
     "data": {
      "image/png": "[encoded data removed]",
      "text/plain": [
       "<Figure size 720x720 with 2 Axes>"
      ]
     },
     "metadata": {
      "needs_background": "light"
     },
     "output_type": "display_data"
    }
   ],
   "source": [
    "plt.figure(figsize=(10,10))\n",
    "sns.heatmap(df.iloc[:,65:77].corr(), annot = True, fmt =\".0%\")"
   ]
  },
  {
   "cell_type": "code",
   "execution_count": 18,
   "metadata": {
    "scrolled": true
   },
   "outputs": [
    {
     "data": {
      "image/png": "[encoded data removed]",
      "text/plain": [
       "<Figure size 432x288 with 1 Axes>"
      ]
     },
     "metadata": {
      "needs_background": "light"
     },
     "output_type": "display_data"
    }
   ],
   "source": [
    "# GrLivArea as potential predictor\n",
    "sns.regplot(x=\"GrLivArea\", y=\"Property_Sale_Price\", data=df)\n",
    "# As the GrLivArea increases the target variable, price increases\n",
    "plt.rcParams['figure.figsize']=(5,5)"
   ]
  },
  {
   "cell_type": "code",
   "execution_count": 19,
   "metadata": {},
   "outputs": [
    {
     "data": {
      "image/png": "[encoded data removed]",
      "text/plain": [
       "<Figure size 360x360 with 1 Axes>"
      ]
     },
     "metadata": {
      "needs_background": "light"
     },
     "output_type": "display_data"
    }
   ],
   "source": [
    "# GarageArea as potential predictor\n",
    "sns.regplot(x=\"GarageArea\", y=\"Property_Sale_Price\", data=df)\n",
    "plt.rcParams['figure.figsize']=(5,5)\n",
    "# good predictor"
   ]
  },
  {
   "cell_type": "code",
   "execution_count": 20,
   "metadata": {},
   "outputs": [
    {
     "data": {
      "image/png": "[encoded data removed]",
      "text/plain": [
       "<Figure size 360x360 with 1 Axes>"
      ]
     },
     "metadata": {
      "needs_background": "light"
     },
     "output_type": "display_data"
    }
   ],
   "source": [
    "# GarageCars as potential predictor\n",
    "sns.boxplot(x=\"GarageCars\", y=\"Property_Sale_Price\", data=df)\n",
    "# GarageCars with 3 cars capacity has the highest price; the distribution of the predictor is distinct enough so it is a good\n",
    "# predictor\n",
    "plt.rcParams['figure.figsize']=(5,5)"
   ]
  },
  {
   "cell_type": "code",
   "execution_count": 21,
   "metadata": {},
   "outputs": [
    {
     "data": {
      "text/plain": [
       "<AxesSubplot:xlabel='OverallQual', ylabel='Property_Sale_Price'>"
      ]
     },
     "execution_count": 21,
     "metadata": {},
     "output_type": "execute_result"
    },
    {
     "data": {
      "image/png": "[encoded data removed]",
      "text/plain": [
       "<Figure size 360x360 with 1 Axes>"
      ]
     },
     "metadata": {
      "needs_background": "light"
     },
     "output_type": "display_data"
    }
   ],
   "source": [
    "# OverallQual as potential predictor\n",
    "sns.boxplot(x=\"OverallQual\", y=\"Property_Sale_Price\", data=df)\n",
    "# OverallQual with 10 has the highest price; the distribution of the predictor is not distinct enough so it is not a\n",
    "# good predictor"
   ]
  },
  {
   "cell_type": "code",
   "execution_count": 22,
   "metadata": {},
   "outputs": [
    {
     "data": {
      "image/png": "[encoded data removed]",
      "text/plain": [
       "<Figure size 360x360 with 1 Axes>"
      ]
     },
     "metadata": {
      "needs_background": "light"
     },
     "output_type": "display_data"
    }
   ],
   "source": [
    "# TotalBsmtSF as potential predictor\n",
    "sns.regplot(x=\"TotalBsmtSF\", y=\"Property_Sale_Price\", data=df)\n",
    "# As the TotalBsmtSF increases the target variable, price increases\n",
    "plt.rcParams['figure.figsize']=(10,10)"
   ]
  },
  {
   "cell_type": "code",
   "execution_count": 23,
   "metadata": {},
   "outputs": [
    {
     "data": {
      "text/plain": [
       "<AxesSubplot:xlabel='TotRmsAbvGrd', ylabel='Property_Sale_Price'>"
      ]
     },
     "execution_count": 23,
     "metadata": {},
     "output_type": "execute_result"
    },
    {
     "data": {
      "image/png": "[encoded data removed]",
      "text/plain": [
       "<Figure size 720x720 with 1 Axes>"
      ]
     },
     "metadata": {
      "needs_background": "light"
     },
     "output_type": "display_data"
    }
   ],
   "source": [
    "sns.boxplot(x=\"TotRmsAbvGrd\", y=\"Property_Sale_Price\", data=df)\n",
    "# There is significant overlap so it is not a good predictor"
   ]
  },
  {
   "cell_type": "code",
   "execution_count": 24,
   "metadata": {},
   "outputs": [
    {
     "data": {
      "text/plain": [
       "<AxesSubplot:xlabel='FullBath', ylabel='Property_Sale_Price'>"
      ]
     },
     "execution_count": 24,
     "metadata": {},
     "output_type": "execute_result"
    },
    {
     "data": {
      "image/png": "[encoded data removed]",
      "text/plain": [
       "<Figure size 720x720 with 1 Axes>"
      ]
     },
     "metadata": {
      "needs_background": "light"
     },
     "output_type": "display_data"
    }
   ],
   "source": [
    "sns.boxplot(x=\"FullBath\", y=\"Property_Sale_Price\", data=df)\n",
    "# The plot is distinct enough, so we'll consider it a good predictor"
   ]
  },
  {
   "cell_type": "code",
   "execution_count": 25,
   "metadata": {},
   "outputs": [
    {
     "data": {
      "image/png": "[encoded data removed]",
      "text/plain": [
       "<Figure size 720x720 with 1 Axes>"
      ]
     },
     "metadata": {
      "needs_background": "light"
     },
     "output_type": "display_data"
    }
   ],
   "source": [
    "# 1stFlrSF as potential predictor\n",
    "sns.regplot(x=\"1stFlrSF\", y=\"Property_Sale_Price\", data=df)\n",
    "# As the 1stFlrSF increases the target variable, price increases\n",
    "plt.rcParams['figure.figsize']=(5,5)"
   ]
  },
  {
   "cell_type": "code",
   "execution_count": 26,
   "metadata": {},
   "outputs": [
    {
     "data": {
      "text/html": [
       "<div>\n",
       "<style scoped>\n",
       "    .dataframe tbody tr th:only-of-type {\n",
       "        vertical-align: middle;\n",
       "    }\n",
       "\n",
       "    .dataframe tbody tr th {\n",
       "        vertical-align: top;\n",
       "    }\n",
       "\n",
       "    .dataframe thead th {\n",
       "        text-align: right;\n",
       "    }\n",
       "</style>\n",
       "<table border=\"1\" class=\"dataframe\">\n",
       "  <thead>\n",
       "    <tr style=\"text-align: right;\">\n",
       "      <th></th>\n",
       "      <th>value-counts</th>\n",
       "    </tr>\n",
       "    <tr>\n",
       "      <th>OverallCond</th>\n",
       "      <th></th>\n",
       "    </tr>\n",
       "  </thead>\n",
       "  <tbody>\n",
       "    <tr>\n",
       "      <th>5</th>\n",
       "      <td>943</td>\n",
       "    </tr>\n",
       "    <tr>\n",
       "      <th>6</th>\n",
       "      <td>351</td>\n",
       "    </tr>\n",
       "    <tr>\n",
       "      <th>7</th>\n",
       "      <td>315</td>\n",
       "    </tr>\n",
       "    <tr>\n",
       "      <th>8</th>\n",
       "      <td>172</td>\n",
       "    </tr>\n",
       "    <tr>\n",
       "      <th>4</th>\n",
       "      <td>147</td>\n",
       "    </tr>\n",
       "    <tr>\n",
       "      <th>9</th>\n",
       "      <td>113</td>\n",
       "    </tr>\n",
       "    <tr>\n",
       "      <th>3</th>\n",
       "      <td>26</td>\n",
       "    </tr>\n",
       "    <tr>\n",
       "      <th>2</th>\n",
       "      <td>5</td>\n",
       "    </tr>\n",
       "    <tr>\n",
       "      <th>1</th>\n",
       "      <td>1</td>\n",
       "    </tr>\n",
       "  </tbody>\n",
       "</table>\n",
       "</div>"
      ],
      "text/plain": [
       "             value-counts\n",
       "OverallCond              \n",
       "5                     943\n",
       "6                     351\n",
       "7                     315\n",
       "8                     172\n",
       "4                     147\n",
       "9                     113\n",
       "3                      26\n",
       "2                       5\n",
       "1                       1"
      ]
     },
     "execution_count": 26,
     "metadata": {},
     "output_type": "execute_result"
    }
   ],
   "source": [
    "OverallCond_count = df[\"OverallCond\"].value_counts().to_frame()\n",
    "OverallCond_count.rename(columns={'OverallCond':'value-counts'},inplace=True)\n",
    "OverallCond_count.index.name='OverallCond'\n",
    "OverallCond_count"
   ]
  },
  {
   "cell_type": "code",
   "execution_count": 27,
   "metadata": {
    "scrolled": true
   },
   "outputs": [
    {
     "data": {
      "text/plain": [
       "<AxesSubplot:xlabel='OverallCond', ylabel='Property_Sale_Price'>"
      ]
     },
     "execution_count": 27,
     "metadata": {},
     "output_type": "execute_result"
    },
    {
     "data": {
      "image/png": "[encoded data removed]",
      "text/plain": [
       "<Figure size 360x360 with 1 Axes>"
      ]
     },
     "metadata": {
      "needs_background": "light"
     },
     "output_type": "display_data"
    }
   ],
   "source": [
    "sns.barplot(x=\"OverallCond\", y=\"Property_Sale_Price\", data=df)"
   ]
  },
  {
   "cell_type": "code",
   "execution_count": 28,
   "metadata": {},
   "outputs": [
    {
     "data": {
      "text/plain": [
       "<AxesSubplot:xlabel='ScreenPorch', ylabel='Property_Sale_Price'>"
      ]
     },
     "execution_count": 28,
     "metadata": {},
     "output_type": "execute_result"
    },
    {
     "data": {
      "image/png": "[encoded data removed]",
      "text/plain": [
       "<Figure size 360x360 with 1 Axes>"
      ]
     },
     "metadata": {
      "needs_background": "light"
     },
     "output_type": "display_data"
    }
   ],
   "source": [
    "sns.lineplot(x = df['ScreenPorch'], y=df['Property_Sale_Price'], data=df)"
   ]
  },
  {
   "cell_type": "code",
   "execution_count": 29,
   "metadata": {
    "scrolled": true
   },
   "outputs": [
    {
     "data": {
      "text/html": [
       "<div>\n",
       "<style scoped>\n",
       "    .dataframe tbody tr th:only-of-type {\n",
       "        vertical-align: middle;\n",
       "    }\n",
       "\n",
       "    .dataframe tbody tr th {\n",
       "        vertical-align: top;\n",
       "    }\n",
       "\n",
       "    .dataframe thead th {\n",
       "        text-align: right;\n",
       "    }\n",
       "</style>\n",
       "<table border=\"1\" class=\"dataframe\">\n",
       "  <thead>\n",
       "    <tr style=\"text-align: right;\">\n",
       "      <th></th>\n",
       "      <th>Id</th>\n",
       "      <th>Dwell_Type</th>\n",
       "      <th>LotFrontage</th>\n",
       "      <th>LotArea</th>\n",
       "      <th>OverallQual</th>\n",
       "      <th>OverallCond</th>\n",
       "      <th>YearBuilt</th>\n",
       "      <th>YearRemodAdd</th>\n",
       "      <th>MasVnrArea</th>\n",
       "      <th>BsmtFinSF1</th>\n",
       "      <th>...</th>\n",
       "      <th>WoodDeckSF</th>\n",
       "      <th>OpenPorchSF</th>\n",
       "      <th>EnclosedPorch</th>\n",
       "      <th>3SsnPorch</th>\n",
       "      <th>ScreenPorch</th>\n",
       "      <th>PoolArea</th>\n",
       "      <th>MiscVal</th>\n",
       "      <th>MoSold</th>\n",
       "      <th>YrSold</th>\n",
       "      <th>Property_Sale_Price</th>\n",
       "    </tr>\n",
       "  </thead>\n",
       "  <tbody>\n",
       "    <tr>\n",
       "      <th>count</th>\n",
       "      <td>2073.000000</td>\n",
       "      <td>2073.000000</td>\n",
       "      <td>2073.000000</td>\n",
       "      <td>2073.000000</td>\n",
       "      <td>2073.000000</td>\n",
       "      <td>2073.000000</td>\n",
       "      <td>2073.000000</td>\n",
       "      <td>2073.000000</td>\n",
       "      <td>2073.000000</td>\n",
       "      <td>2073.000000</td>\n",
       "      <td>...</td>\n",
       "      <td>2073.000000</td>\n",
       "      <td>2073.000000</td>\n",
       "      <td>2073.000000</td>\n",
       "      <td>2073.000000</td>\n",
       "      <td>2073.000000</td>\n",
       "      <td>2073.000000</td>\n",
       "      <td>2073.000000</td>\n",
       "      <td>2073.000000</td>\n",
       "      <td>2073.000000</td>\n",
       "      <td>2073.000000</td>\n",
       "    </tr>\n",
       "    <tr>\n",
       "      <th>mean</th>\n",
       "      <td>916.132176</td>\n",
       "      <td>60.556199</td>\n",
       "      <td>72.056475</td>\n",
       "      <td>10717.853353</td>\n",
       "      <td>6.233478</td>\n",
       "      <td>5.835022</td>\n",
       "      <td>1969.445731</td>\n",
       "      <td>1986.617463</td>\n",
       "      <td>101.875668</td>\n",
       "      <td>437.949349</td>\n",
       "      <td>...</td>\n",
       "      <td>94.168837</td>\n",
       "      <td>46.035697</td>\n",
       "      <td>21.029908</td>\n",
       "      <td>2.979257</td>\n",
       "      <td>14.552340</td>\n",
       "      <td>2.299083</td>\n",
       "      <td>39.736614</td>\n",
       "      <td>6.287506</td>\n",
       "      <td>2007.851905</td>\n",
       "      <td>180967.284129</td>\n",
       "    </tr>\n",
       "    <tr>\n",
       "      <th>std</th>\n",
       "      <td>493.014670</td>\n",
       "      <td>159.924810</td>\n",
       "      <td>25.735694</td>\n",
       "      <td>9215.982306</td>\n",
       "      <td>1.517115</td>\n",
       "      <td>1.360214</td>\n",
       "      <td>30.222647</td>\n",
       "      <td>20.432694</td>\n",
       "      <td>178.562890</td>\n",
       "      <td>448.051119</td>\n",
       "      <td>...</td>\n",
       "      <td>129.072113</td>\n",
       "      <td>64.768713</td>\n",
       "      <td>59.569928</td>\n",
       "      <td>26.817218</td>\n",
       "      <td>54.099626</td>\n",
       "      <td>37.411031</td>\n",
       "      <td>429.819512</td>\n",
       "      <td>2.690130</td>\n",
       "      <td>1.329705</td>\n",
       "      <td>78666.411112</td>\n",
       "    </tr>\n",
       "    <tr>\n",
       "      <th>min</th>\n",
       "      <td>1.000000</td>\n",
       "      <td>20.000000</td>\n",
       "      <td>21.000000</td>\n",
       "      <td>1300.000000</td>\n",
       "      <td>1.000000</td>\n",
       "      <td>1.000000</td>\n",
       "      <td>1872.000000</td>\n",
       "      <td>1950.000000</td>\n",
       "      <td>0.000000</td>\n",
       "      <td>0.000000</td>\n",
       "      <td>...</td>\n",
       "      <td>0.000000</td>\n",
       "      <td>0.000000</td>\n",
       "      <td>0.000000</td>\n",
       "      <td>0.000000</td>\n",
       "      <td>0.000000</td>\n",
       "      <td>0.000000</td>\n",
       "      <td>0.000000</td>\n",
       "      <td>1.000000</td>\n",
       "      <td>2006.000000</td>\n",
       "      <td>34900.000000</td>\n",
       "    </tr>\n",
       "    <tr>\n",
       "      <th>25%</th>\n",
       "      <td>519.000000</td>\n",
       "      <td>20.000000</td>\n",
       "      <td>60.000000</td>\n",
       "      <td>7620.000000</td>\n",
       "      <td>5.000000</td>\n",
       "      <td>5.000000</td>\n",
       "      <td>1950.000000</td>\n",
       "      <td>1970.000000</td>\n",
       "      <td>0.000000</td>\n",
       "      <td>0.000000</td>\n",
       "      <td>...</td>\n",
       "      <td>0.000000</td>\n",
       "      <td>0.000000</td>\n",
       "      <td>0.000000</td>\n",
       "      <td>0.000000</td>\n",
       "      <td>0.000000</td>\n",
       "      <td>0.000000</td>\n",
       "      <td>0.000000</td>\n",
       "      <td>5.000000</td>\n",
       "      <td>2007.000000</td>\n",
       "      <td>130000.000000</td>\n",
       "    </tr>\n",
       "    <tr>\n",
       "      <th>50%</th>\n",
       "      <td>932.000000</td>\n",
       "      <td>50.000000</td>\n",
       "      <td>72.056475</td>\n",
       "      <td>9492.000000</td>\n",
       "      <td>6.000000</td>\n",
       "      <td>5.000000</td>\n",
       "      <td>1971.000000</td>\n",
       "      <td>1995.000000</td>\n",
       "      <td>0.000000</td>\n",
       "      <td>381.000000</td>\n",
       "      <td>...</td>\n",
       "      <td>0.000000</td>\n",
       "      <td>24.000000</td>\n",
       "      <td>0.000000</td>\n",
       "      <td>0.000000</td>\n",
       "      <td>0.000000</td>\n",
       "      <td>0.000000</td>\n",
       "      <td>0.000000</td>\n",
       "      <td>6.000000</td>\n",
       "      <td>2008.000000</td>\n",
       "      <td>163990.000000</td>\n",
       "    </tr>\n",
       "    <tr>\n",
       "      <th>75%</th>\n",
       "      <td>1302.000000</td>\n",
       "      <td>70.000000</td>\n",
       "      <td>80.000000</td>\n",
       "      <td>11601.000000</td>\n",
       "      <td>7.000000</td>\n",
       "      <td>7.000000</td>\n",
       "      <td>1999.000000</td>\n",
       "      <td>2004.000000</td>\n",
       "      <td>160.000000</td>\n",
       "      <td>708.000000</td>\n",
       "      <td>...</td>\n",
       "      <td>168.000000</td>\n",
       "      <td>67.000000</td>\n",
       "      <td>0.000000</td>\n",
       "      <td>0.000000</td>\n",
       "      <td>0.000000</td>\n",
       "      <td>0.000000</td>\n",
       "      <td>0.000000</td>\n",
       "      <td>8.000000</td>\n",
       "      <td>2009.000000</td>\n",
       "      <td>214000.000000</td>\n",
       "    </tr>\n",
       "    <tr>\n",
       "      <th>max</th>\n",
       "      <td>1820.000000</td>\n",
       "      <td>7080.000000</td>\n",
       "      <td>313.000000</td>\n",
       "      <td>215245.000000</td>\n",
       "      <td>10.000000</td>\n",
       "      <td>9.000000</td>\n",
       "      <td>2010.000000</td>\n",
       "      <td>2023.000000</td>\n",
       "      <td>1600.000000</td>\n",
       "      <td>5644.000000</td>\n",
       "      <td>...</td>\n",
       "      <td>857.000000</td>\n",
       "      <td>547.000000</td>\n",
       "      <td>552.000000</td>\n",
       "      <td>508.000000</td>\n",
       "      <td>480.000000</td>\n",
       "      <td>738.000000</td>\n",
       "      <td>15500.000000</td>\n",
       "      <td>12.000000</td>\n",
       "      <td>2010.000000</td>\n",
       "      <td>755000.000000</td>\n",
       "    </tr>\n",
       "  </tbody>\n",
       "</table>\n",
       "<p>8 rows × 38 columns</p>\n",
       "</div>"
      ],
      "text/plain": [
       "                Id   Dwell_Type  LotFrontage        LotArea  OverallQual  \\\n",
       "count  2073.000000  2073.000000  2073.000000    2073.000000  2073.000000   \n",
       "mean    916.132176    60.556199    72.056475   10717.853353     6.233478   \n",
       "std     493.014670   159.924810    25.735694    9215.982306     1.517115   \n",
       "min       1.000000    20.000000    21.000000    1300.000000     1.000000   \n",
       "25%     519.000000    20.000000    60.000000    7620.000000     5.000000   \n",
       "50%     932.000000    50.000000    72.056475    9492.000000     6.000000   \n",
       "75%    1302.000000    70.000000    80.000000   11601.000000     7.000000   \n",
       "max    1820.000000  7080.000000   313.000000  215245.000000    10.000000   \n",
       "\n",
       "       OverallCond    YearBuilt  YearRemodAdd   MasVnrArea   BsmtFinSF1  ...  \\\n",
       "count  2073.000000  2073.000000   2073.000000  2073.000000  2073.000000  ...   \n",
       "mean      5.835022  1969.445731   1986.617463   101.875668   437.949349  ...   \n",
       "std       1.360214    30.222647     20.432694   178.562890   448.051119  ...   \n",
       "min       1.000000  1872.000000   1950.000000     0.000000     0.000000  ...   \n",
       "25%       5.000000  1950.000000   1970.000000     0.000000     0.000000  ...   \n",
       "50%       5.000000  1971.000000   1995.000000     0.000000   381.000000  ...   \n",
       "75%       7.000000  1999.000000   2004.000000   160.000000   708.000000  ...   \n",
       "max       9.000000  2010.000000   2023.000000  1600.000000  5644.000000  ...   \n",
       "\n",
       "        WoodDeckSF  OpenPorchSF  EnclosedPorch    3SsnPorch  ScreenPorch  \\\n",
       "count  2073.000000  2073.000000    2073.000000  2073.000000  2073.000000   \n",
       "mean     94.168837    46.035697      21.029908     2.979257    14.552340   \n",
       "std     129.072113    64.768713      59.569928    26.817218    54.099626   \n",
       "min       0.000000     0.000000       0.000000     0.000000     0.000000   \n",
       "25%       0.000000     0.000000       0.000000     0.000000     0.000000   \n",
       "50%       0.000000    24.000000       0.000000     0.000000     0.000000   \n",
       "75%     168.000000    67.000000       0.000000     0.000000     0.000000   \n",
       "max     857.000000   547.000000     552.000000   508.000000   480.000000   \n",
       "\n",
       "          PoolArea       MiscVal       MoSold       YrSold  \\\n",
       "count  2073.000000   2073.000000  2073.000000  2073.000000   \n",
       "mean      2.299083     39.736614     6.287506  2007.851905   \n",
       "std      37.411031    429.819512     2.690130     1.329705   \n",
       "min       0.000000      0.000000     1.000000  2006.000000   \n",
       "25%       0.000000      0.000000     5.000000  2007.000000   \n",
       "50%       0.000000      0.000000     6.000000  2008.000000   \n",
       "75%       0.000000      0.000000     8.000000  2009.000000   \n",
       "max     738.000000  15500.000000    12.000000  2010.000000   \n",
       "\n",
       "       Property_Sale_Price  \n",
       "count          2073.000000  \n",
       "mean         180967.284129  \n",
       "std           78666.411112  \n",
       "min           34900.000000  \n",
       "25%          130000.000000  \n",
       "50%          163990.000000  \n",
       "75%          214000.000000  \n",
       "max          755000.000000  \n",
       "\n",
       "[8 rows x 38 columns]"
      ]
     },
     "execution_count": 29,
     "metadata": {},
     "output_type": "execute_result"
    }
   ],
   "source": [
    "df.describe()"
   ]
  },
  {
   "cell_type": "code",
   "execution_count": 30,
   "metadata": {},
   "outputs": [],
   "source": [
    "# The distribution of data is symmetric in LotFrontage as Mean = Median, for Dwell_Type the data is right skewed or \n",
    "# positively skewed as Mean > Median, for MoSold the data is left skewed i.e. negatively skewed as Median > Mean"
   ]
  },
  {
   "cell_type": "code",
   "execution_count": 31,
   "metadata": {},
   "outputs": [
    {
     "name": "stdout",
     "output_type": "stream",
     "text": [
      "Skewness: 1.842123\n",
      "Kurtosis: 6.262967\n"
     ]
    }
   ],
   "source": [
    "print(\"Skewness: %f\" % df['Property_Sale_Price'].skew())\n",
    "# The value determines skewed distribution\n",
    "print(\"Kurtosis: %f\" % df['Property_Sale_Price'].kurt())\n",
    "# As the value > 1, the distribution is too peaked"
   ]
  },
  {
   "cell_type": "code",
   "execution_count": 32,
   "metadata": {},
   "outputs": [
    {
     "data": {
      "text/plain": [
       "<AxesSubplot:xlabel='KitchenAbvGr', ylabel='Property_Sale_Price'>"
      ]
     },
     "execution_count": 32,
     "metadata": {},
     "output_type": "execute_result"
    },
    {
     "data": {
      "image/png": "[encoded data removed]",
      "text/plain": [
       "<Figure size 360x360 with 1 Axes>"
      ]
     },
     "metadata": {
      "needs_background": "light"
     },
     "output_type": "display_data"
    }
   ],
   "source": [
    "sns.boxplot(x=\"KitchenAbvGr\", y=\"Property_Sale_Price\", data=df)\n",
    "# Considered a good predictor"
   ]
  },
  {
   "cell_type": "code",
   "execution_count": 33,
   "metadata": {},
   "outputs": [
    {
     "data": {
      "text/plain": [
       "1    1965\n",
       "2     101\n",
       "3       5\n",
       "0       2\n",
       "Name: KitchenAbvGr, dtype: int64"
      ]
     },
     "execution_count": 33,
     "metadata": {},
     "output_type": "execute_result"
    }
   ],
   "source": [
    "df[\"KitchenAbvGr\"].value_counts()"
   ]
  },
  {
   "cell_type": "code",
   "execution_count": 34,
   "metadata": {},
   "outputs": [],
   "source": [
    "df[\"OverallCond\"] = df[\"OverallCond\"].astype(\"object\")"
   ]
  },
  {
   "cell_type": "code",
   "execution_count": 35,
   "metadata": {
    "scrolled": true
   },
   "outputs": [
    {
     "data": {
      "text/plain": [
       "<seaborn.axisgrid.PairGrid at 0x7fbed86bff10>"
      ]
     },
     "execution_count": 35,
     "metadata": {},
     "output_type": "execute_result"
    },
    {
     "data": {
      "image/png": "[encoded data removed]",
      "text/plain": [
       "<Figure size 900x900 with 30 Axes>"
      ]
     },
     "metadata": {
      "needs_background": "light"
     },
     "output_type": "display_data"
    }
   ],
   "source": [
    "# Create a pairplot\n",
    "sns.pairplot(df.iloc[:,1:18])"
   ]
  },
  {
   "cell_type": "code",
   "execution_count": 36,
   "metadata": {},
   "outputs": [
    {
     "data": {
      "text/plain": [
       "<AxesSubplot:xlabel='PoolArea', ylabel='Property_Sale_Price'>"
      ]
     },
     "execution_count": 36,
     "metadata": {},
     "output_type": "execute_result"
    },
    {
     "data": {
      "image/png": "[encoded data removed]",
      "text/plain": [
       "<Figure size 360x360 with 1 Axes>"
      ]
     },
     "metadata": {
      "needs_background": "light"
     },
     "output_type": "display_data"
    }
   ],
   "source": [
    "sns.lineplot(x = df['PoolArea'], y=df['Property_Sale_Price'], data=df)"
   ]
  },
  {
   "cell_type": "code",
   "execution_count": 37,
   "metadata": {},
   "outputs": [
    {
     "data": {
      "text/html": [
       "<div>\n",
       "<style scoped>\n",
       "    .dataframe tbody tr th:only-of-type {\n",
       "        vertical-align: middle;\n",
       "    }\n",
       "\n",
       "    .dataframe tbody tr th {\n",
       "        vertical-align: top;\n",
       "    }\n",
       "\n",
       "    .dataframe thead th {\n",
       "        text-align: right;\n",
       "    }\n",
       "</style>\n",
       "<table border=\"1\" class=\"dataframe\">\n",
       "  <thead>\n",
       "    <tr style=\"text-align: right;\">\n",
       "      <th></th>\n",
       "      <th>Zone_Class</th>\n",
       "      <th>Property_Sale_Price</th>\n",
       "    </tr>\n",
       "  </thead>\n",
       "  <tbody>\n",
       "    <tr>\n",
       "      <th>0</th>\n",
       "      <td>C (all)</td>\n",
       "      <td>70135.857143</td>\n",
       "    </tr>\n",
       "    <tr>\n",
       "      <th>1</th>\n",
       "      <td>FV</td>\n",
       "      <td>215926.049020</td>\n",
       "    </tr>\n",
       "    <tr>\n",
       "      <th>2</th>\n",
       "      <td>RH</td>\n",
       "      <td>134719.727273</td>\n",
       "    </tr>\n",
       "    <tr>\n",
       "      <th>3</th>\n",
       "      <td>RL</td>\n",
       "      <td>190561.576040</td>\n",
       "    </tr>\n",
       "    <tr>\n",
       "      <th>4</th>\n",
       "      <td>RM</td>\n",
       "      <td>130186.074074</td>\n",
       "    </tr>\n",
       "  </tbody>\n",
       "</table>\n",
       "</div>"
      ],
      "text/plain": [
       "  Zone_Class  Property_Sale_Price\n",
       "0    C (all)         70135.857143\n",
       "1         FV        215926.049020\n",
       "2         RH        134719.727273\n",
       "3         RL        190561.576040\n",
       "4         RM        130186.074074"
      ]
     },
     "execution_count": 37,
     "metadata": {},
     "output_type": "execute_result"
    }
   ],
   "source": [
    "group_one = df[[\"Zone_Class\", \"Property_Sale_Price\"]]\n",
    "group_one = group_one.groupby([\"Zone_Class\"], as_index=False).mean()\n",
    "group_one\n",
    "# from the below data, the FV zone class, on average are the most expensive & C is the least expensive"
   ]
  },
  {
   "cell_type": "code",
   "execution_count": 38,
   "metadata": {},
   "outputs": [
    {
     "data": {
      "text/plain": [
       "Pave    2063\n",
       "Grvl      10\n",
       "Name: Road_Type, dtype: int64"
      ]
     },
     "execution_count": 38,
     "metadata": {},
     "output_type": "execute_result"
    }
   ],
   "source": [
    "df[\"Road_Type\"].value_counts()"
   ]
  },
  {
   "cell_type": "code",
   "execution_count": 39,
   "metadata": {
    "scrolled": true
   },
   "outputs": [
    {
     "data": {
      "text/plain": [
       "<AxesSubplot:xlabel='Road_Type', ylabel='Property_Sale_Price'>"
      ]
     },
     "execution_count": 39,
     "metadata": {},
     "output_type": "execute_result"
    },
    {
     "data": {
      "image/png": "[encoded data removed]",
      "text/plain": [
       "<Figure size 360x360 with 1 Axes>"
      ]
     },
     "metadata": {
      "needs_background": "light"
     },
     "output_type": "display_data"
    }
   ],
   "source": [
    "sns.boxplot(x=\"Road_Type\", y=\"Property_Sale_Price\", data=df)\n",
    "# The data is skewed that's why this is not a good predictor"
   ]
  },
  {
   "cell_type": "code",
   "execution_count": 40,
   "metadata": {},
   "outputs": [
    {
     "data": {
      "text/plain": [
       "Y    1935\n",
       "N     138\n",
       "Name: CentralAir, dtype: int64"
      ]
     },
     "execution_count": 40,
     "metadata": {},
     "output_type": "execute_result"
    },
    {
     "data": {
      "image/png": "[encoded data removed]",
      "text/plain": [
       "<Figure size 360x360 with 1 Axes>"
      ]
     },
     "metadata": {
      "needs_background": "light"
     },
     "output_type": "display_data"
    }
   ],
   "source": [
    "sns.boxplot(x=\"CentralAir\", y=\"Property_Sale_Price\", data=df)\n",
    "# CentralAir is not a good predictor (skewed)\n",
    "df[\"CentralAir\"].value_counts()"
   ]
  },
  {
   "cell_type": "code",
   "execution_count": 41,
   "metadata": {},
   "outputs": [
    {
     "name": "stderr",
     "output_type": "stream",
     "text": [
      "/opt/anaconda3/lib/python3.8/site-packages/seaborn/_decorators.py:36: FutureWarning: Pass the following variables as keyword args: x, y. From version 0.12, the only valid positional argument will be `data`, and passing other arguments without an explicit keyword will result in an error or misinterpretation.\n",
      "  warnings.warn(\n"
     ]
    },
    {
     "data": {
      "image/png": "[encoded data removed]",
      "text/plain": [
       "<Figure size 360x360 with 1 Axes>"
      ]
     },
     "metadata": {},
     "output_type": "display_data"
    }
   ],
   "source": [
    "count = df['LandContour'].value_counts()\n",
    "sns.set(style=\"darkgrid\")\n",
    "sns.barplot(count.index, count.values, alpha=0.9)\n",
    "plt.title('Frequency Distribution of LandContour')\n",
    "plt.ylabel('Number of Occurrences', fontsize=12)\n",
    "plt.xlabel('LandContour', fontsize=12)\n",
    "plt.show()\n",
    "# Near Flat/Level has the highest number of occurences"
   ]
  },
  {
   "cell_type": "code",
   "execution_count": 42,
   "metadata": {},
   "outputs": [
    {
     "data": {
      "text/plain": [
       "<AxesSubplot:xlabel='LandContour', ylabel='Property_Sale_Price'>"
      ]
     },
     "execution_count": 42,
     "metadata": {},
     "output_type": "execute_result"
    },
    {
     "data": {
      "image/png": "[encoded data removed]",
      "text/plain": [
       "<Figure size 360x360 with 1 Axes>"
      ]
     },
     "metadata": {},
     "output_type": "display_data"
    }
   ],
   "source": [
    "sns.boxplot(x=\"LandContour\", y=\"Property_Sale_Price\", data=df)\n",
    "# LandContour is a good predictor"
   ]
  },
  {
   "cell_type": "code",
   "execution_count": 43,
   "metadata": {},
   "outputs": [
    {
     "data": {
      "text/plain": [
       "<AxesSubplot:xlabel='Utilities', ylabel='Property_Sale_Price'>"
      ]
     },
     "execution_count": 43,
     "metadata": {},
     "output_type": "execute_result"
    },
    {
     "data": {
      "image/png": "[encoded data removed]",
      "text/plain": [
       "<Figure size 360x360 with 1 Axes>"
      ]
     },
     "metadata": {},
     "output_type": "display_data"
    }
   ],
   "source": [
    "sns.boxplot(x=\"Utilities\", y=\"Property_Sale_Price\", data=df)"
   ]
  },
  {
   "cell_type": "code",
   "execution_count": 44,
   "metadata": {},
   "outputs": [
    {
     "data": {
      "text/plain": [
       "AllPub    2070\n",
       "NoSeWa       3\n",
       "Name: Utilities, dtype: int64"
      ]
     },
     "execution_count": 44,
     "metadata": {},
     "output_type": "execute_result"
    }
   ],
   "source": [
    "df[\"Utilities\"].value_counts()\n",
    "# The data is skewed that's why this is not a good predictor"
   ]
  },
  {
   "cell_type": "code",
   "execution_count": 45,
   "metadata": {},
   "outputs": [
    {
     "data": {
      "text/html": [
       "<div>\n",
       "<style scoped>\n",
       "    .dataframe tbody tr th:only-of-type {\n",
       "        vertical-align: middle;\n",
       "    }\n",
       "\n",
       "    .dataframe tbody tr th {\n",
       "        vertical-align: top;\n",
       "    }\n",
       "\n",
       "    .dataframe thead th {\n",
       "        text-align: right;\n",
       "    }\n",
       "</style>\n",
       "<table border=\"1\" class=\"dataframe\">\n",
       "  <thead>\n",
       "    <tr style=\"text-align: right;\">\n",
       "      <th></th>\n",
       "      <th>Zone_Class</th>\n",
       "      <th>LotConfig</th>\n",
       "      <th>Property_Sale_Price</th>\n",
       "    </tr>\n",
       "  </thead>\n",
       "  <tbody>\n",
       "    <tr>\n",
       "      <th>0</th>\n",
       "      <td>C (all)</td>\n",
       "      <td>Corner</td>\n",
       "      <td>101300.000000</td>\n",
       "    </tr>\n",
       "    <tr>\n",
       "      <th>1</th>\n",
       "      <td>C (all)</td>\n",
       "      <td>Inside</td>\n",
       "      <td>61636.545455</td>\n",
       "    </tr>\n",
       "    <tr>\n",
       "      <th>2</th>\n",
       "      <td>FV</td>\n",
       "      <td>Corner</td>\n",
       "      <td>194892.857143</td>\n",
       "    </tr>\n",
       "    <tr>\n",
       "      <th>3</th>\n",
       "      <td>FV</td>\n",
       "      <td>CulDSac</td>\n",
       "      <td>328900.000000</td>\n",
       "    </tr>\n",
       "    <tr>\n",
       "      <th>4</th>\n",
       "      <td>FV</td>\n",
       "      <td>FR2</td>\n",
       "      <td>158966.666667</td>\n",
       "    </tr>\n",
       "    <tr>\n",
       "      <th>5</th>\n",
       "      <td>FV</td>\n",
       "      <td>FR3</td>\n",
       "      <td>183900.000000</td>\n",
       "    </tr>\n",
       "    <tr>\n",
       "      <th>6</th>\n",
       "      <td>FV</td>\n",
       "      <td>Inside</td>\n",
       "      <td>221524.772152</td>\n",
       "    </tr>\n",
       "    <tr>\n",
       "      <th>7</th>\n",
       "      <td>RH</td>\n",
       "      <td>Corner</td>\n",
       "      <td>105266.666667</td>\n",
       "    </tr>\n",
       "    <tr>\n",
       "      <th>8</th>\n",
       "      <td>RH</td>\n",
       "      <td>Inside</td>\n",
       "      <td>139370.210526</td>\n",
       "    </tr>\n",
       "    <tr>\n",
       "      <th>9</th>\n",
       "      <td>RL</td>\n",
       "      <td>Corner</td>\n",
       "      <td>193450.046823</td>\n",
       "    </tr>\n",
       "    <tr>\n",
       "      <th>10</th>\n",
       "      <td>RL</td>\n",
       "      <td>CulDSac</td>\n",
       "      <td>214506.895522</td>\n",
       "    </tr>\n",
       "    <tr>\n",
       "      <th>11</th>\n",
       "      <td>RL</td>\n",
       "      <td>FR2</td>\n",
       "      <td>188702.142857</td>\n",
       "    </tr>\n",
       "    <tr>\n",
       "      <th>12</th>\n",
       "      <td>RL</td>\n",
       "      <td>FR3</td>\n",
       "      <td>315000.000000</td>\n",
       "    </tr>\n",
       "    <tr>\n",
       "      <th>13</th>\n",
       "      <td>RL</td>\n",
       "      <td>Inside</td>\n",
       "      <td>186921.813830</td>\n",
       "    </tr>\n",
       "    <tr>\n",
       "      <th>14</th>\n",
       "      <td>RM</td>\n",
       "      <td>Corner</td>\n",
       "      <td>134600.865672</td>\n",
       "    </tr>\n",
       "    <tr>\n",
       "      <th>15</th>\n",
       "      <td>RM</td>\n",
       "      <td>CulDSac</td>\n",
       "      <td>240000.000000</td>\n",
       "    </tr>\n",
       "    <tr>\n",
       "      <th>16</th>\n",
       "      <td>RM</td>\n",
       "      <td>FR2</td>\n",
       "      <td>167511.700000</td>\n",
       "    </tr>\n",
       "    <tr>\n",
       "      <th>17</th>\n",
       "      <td>RM</td>\n",
       "      <td>FR3</td>\n",
       "      <td>167500.000000</td>\n",
       "    </tr>\n",
       "    <tr>\n",
       "      <th>18</th>\n",
       "      <td>RM</td>\n",
       "      <td>Inside</td>\n",
       "      <td>126688.168033</td>\n",
       "    </tr>\n",
       "  </tbody>\n",
       "</table>\n",
       "</div>"
      ],
      "text/plain": [
       "   Zone_Class LotConfig  Property_Sale_Price\n",
       "0     C (all)    Corner        101300.000000\n",
       "1     C (all)    Inside         61636.545455\n",
       "2          FV    Corner        194892.857143\n",
       "3          FV   CulDSac        328900.000000\n",
       "4          FV       FR2        158966.666667\n",
       "5          FV       FR3        183900.000000\n",
       "6          FV    Inside        221524.772152\n",
       "7          RH    Corner        105266.666667\n",
       "8          RH    Inside        139370.210526\n",
       "9          RL    Corner        193450.046823\n",
       "10         RL   CulDSac        214506.895522\n",
       "11         RL       FR2        188702.142857\n",
       "12         RL       FR3        315000.000000\n",
       "13         RL    Inside        186921.813830\n",
       "14         RM    Corner        134600.865672\n",
       "15         RM   CulDSac        240000.000000\n",
       "16         RM       FR2        167511.700000\n",
       "17         RM       FR3        167500.000000\n",
       "18         RM    Inside        126688.168033"
      ]
     },
     "execution_count": 45,
     "metadata": {},
     "output_type": "execute_result"
    }
   ],
   "source": [
    "group_two = df[[\"Zone_Class\", \"LotConfig\", \"Property_Sale_Price\"]]\n",
    "group_two = group_two.groupby([\"Zone_Class\",\"LotConfig\"], as_index=False).mean()\n",
    "group_two"
   ]
  },
  {
   "cell_type": "code",
   "execution_count": 46,
   "metadata": {},
   "outputs": [
    {
     "data": {
      "text/html": [
       "<div>\n",
       "<style scoped>\n",
       "    .dataframe tbody tr th:only-of-type {\n",
       "        vertical-align: middle;\n",
       "    }\n",
       "\n",
       "    .dataframe tbody tr th {\n",
       "        vertical-align: top;\n",
       "    }\n",
       "\n",
       "    .dataframe thead tr th {\n",
       "        text-align: left;\n",
       "    }\n",
       "\n",
       "    .dataframe thead tr:last-of-type th {\n",
       "        text-align: right;\n",
       "    }\n",
       "</style>\n",
       "<table border=\"1\" class=\"dataframe\">\n",
       "  <thead>\n",
       "    <tr>\n",
       "      <th></th>\n",
       "      <th colspan=\"5\" halign=\"left\">Property_Sale_Price</th>\n",
       "    </tr>\n",
       "    <tr>\n",
       "      <th>LotConfig</th>\n",
       "      <th>Corner</th>\n",
       "      <th>CulDSac</th>\n",
       "      <th>FR2</th>\n",
       "      <th>FR3</th>\n",
       "      <th>Inside</th>\n",
       "    </tr>\n",
       "    <tr>\n",
       "      <th>Zone_Class</th>\n",
       "      <th></th>\n",
       "      <th></th>\n",
       "      <th></th>\n",
       "      <th></th>\n",
       "      <th></th>\n",
       "    </tr>\n",
       "  </thead>\n",
       "  <tbody>\n",
       "    <tr>\n",
       "      <th>C (all)</th>\n",
       "      <td>101300.000000</td>\n",
       "      <td>NaN</td>\n",
       "      <td>NaN</td>\n",
       "      <td>NaN</td>\n",
       "      <td>61636.545455</td>\n",
       "    </tr>\n",
       "    <tr>\n",
       "      <th>FV</th>\n",
       "      <td>194892.857143</td>\n",
       "      <td>328900.000000</td>\n",
       "      <td>158966.666667</td>\n",
       "      <td>183900.0</td>\n",
       "      <td>221524.772152</td>\n",
       "    </tr>\n",
       "    <tr>\n",
       "      <th>RH</th>\n",
       "      <td>105266.666667</td>\n",
       "      <td>NaN</td>\n",
       "      <td>NaN</td>\n",
       "      <td>NaN</td>\n",
       "      <td>139370.210526</td>\n",
       "    </tr>\n",
       "    <tr>\n",
       "      <th>RL</th>\n",
       "      <td>193450.046823</td>\n",
       "      <td>214506.895522</td>\n",
       "      <td>188702.142857</td>\n",
       "      <td>315000.0</td>\n",
       "      <td>186921.813830</td>\n",
       "    </tr>\n",
       "    <tr>\n",
       "      <th>RM</th>\n",
       "      <td>134600.865672</td>\n",
       "      <td>240000.000000</td>\n",
       "      <td>167511.700000</td>\n",
       "      <td>167500.0</td>\n",
       "      <td>126688.168033</td>\n",
       "    </tr>\n",
       "  </tbody>\n",
       "</table>\n",
       "</div>"
      ],
      "text/plain": [
       "           Property_Sale_Price                                          \\\n",
       "LotConfig               Corner        CulDSac            FR2       FR3   \n",
       "Zone_Class                                                               \n",
       "C (all)          101300.000000            NaN            NaN       NaN   \n",
       "FV               194892.857143  328900.000000  158966.666667  183900.0   \n",
       "RH               105266.666667            NaN            NaN       NaN   \n",
       "RL               193450.046823  214506.895522  188702.142857  315000.0   \n",
       "RM               134600.865672  240000.000000  167511.700000  167500.0   \n",
       "\n",
       "                           \n",
       "LotConfig          Inside  \n",
       "Zone_Class                 \n",
       "C (all)      61636.545455  \n",
       "FV          221524.772152  \n",
       "RH          139370.210526  \n",
       "RL          186921.813830  \n",
       "RM          126688.168033  "
      ]
     },
     "execution_count": 46,
     "metadata": {},
     "output_type": "execute_result"
    }
   ],
   "source": [
    "grouped_pivot = group_two.pivot(index=\"Zone_Class\", columns=\"LotConfig\")\n",
    "grouped_pivot"
   ]
  },
  {
   "cell_type": "code",
   "execution_count": 47,
   "metadata": {},
   "outputs": [
    {
     "data": {
      "text/html": [
       "<div>\n",
       "<style scoped>\n",
       "    .dataframe tbody tr th:only-of-type {\n",
       "        vertical-align: middle;\n",
       "    }\n",
       "\n",
       "    .dataframe tbody tr th {\n",
       "        vertical-align: top;\n",
       "    }\n",
       "\n",
       "    .dataframe thead tr th {\n",
       "        text-align: left;\n",
       "    }\n",
       "\n",
       "    .dataframe thead tr:last-of-type th {\n",
       "        text-align: right;\n",
       "    }\n",
       "</style>\n",
       "<table border=\"1\" class=\"dataframe\">\n",
       "  <thead>\n",
       "    <tr>\n",
       "      <th></th>\n",
       "      <th colspan=\"5\" halign=\"left\">Property_Sale_Price</th>\n",
       "    </tr>\n",
       "    <tr>\n",
       "      <th>LotConfig</th>\n",
       "      <th>Corner</th>\n",
       "      <th>CulDSac</th>\n",
       "      <th>FR2</th>\n",
       "      <th>FR3</th>\n",
       "      <th>Inside</th>\n",
       "    </tr>\n",
       "    <tr>\n",
       "      <th>Zone_Class</th>\n",
       "      <th></th>\n",
       "      <th></th>\n",
       "      <th></th>\n",
       "      <th></th>\n",
       "      <th></th>\n",
       "    </tr>\n",
       "  </thead>\n",
       "  <tbody>\n",
       "    <tr>\n",
       "      <th>C (all)</th>\n",
       "      <td>101300.000000</td>\n",
       "      <td>0.000000</td>\n",
       "      <td>0.000000</td>\n",
       "      <td>0.0</td>\n",
       "      <td>61636.545455</td>\n",
       "    </tr>\n",
       "    <tr>\n",
       "      <th>FV</th>\n",
       "      <td>194892.857143</td>\n",
       "      <td>328900.000000</td>\n",
       "      <td>158966.666667</td>\n",
       "      <td>183900.0</td>\n",
       "      <td>221524.772152</td>\n",
       "    </tr>\n",
       "    <tr>\n",
       "      <th>RH</th>\n",
       "      <td>105266.666667</td>\n",
       "      <td>0.000000</td>\n",
       "      <td>0.000000</td>\n",
       "      <td>0.0</td>\n",
       "      <td>139370.210526</td>\n",
       "    </tr>\n",
       "    <tr>\n",
       "      <th>RL</th>\n",
       "      <td>193450.046823</td>\n",
       "      <td>214506.895522</td>\n",
       "      <td>188702.142857</td>\n",
       "      <td>315000.0</td>\n",
       "      <td>186921.813830</td>\n",
       "    </tr>\n",
       "    <tr>\n",
       "      <th>RM</th>\n",
       "      <td>134600.865672</td>\n",
       "      <td>240000.000000</td>\n",
       "      <td>167511.700000</td>\n",
       "      <td>167500.0</td>\n",
       "      <td>126688.168033</td>\n",
       "    </tr>\n",
       "  </tbody>\n",
       "</table>\n",
       "</div>"
      ],
      "text/plain": [
       "           Property_Sale_Price                                          \\\n",
       "LotConfig               Corner        CulDSac            FR2       FR3   \n",
       "Zone_Class                                                               \n",
       "C (all)          101300.000000       0.000000       0.000000       0.0   \n",
       "FV               194892.857143  328900.000000  158966.666667  183900.0   \n",
       "RH               105266.666667       0.000000       0.000000       0.0   \n",
       "RL               193450.046823  214506.895522  188702.142857  315000.0   \n",
       "RM               134600.865672  240000.000000  167511.700000  167500.0   \n",
       "\n",
       "                           \n",
       "LotConfig          Inside  \n",
       "Zone_Class                 \n",
       "C (all)      61636.545455  \n",
       "FV          221524.772152  \n",
       "RH          139370.210526  \n",
       "RL          186921.813830  \n",
       "RM          126688.168033  "
      ]
     },
     "execution_count": 47,
     "metadata": {},
     "output_type": "execute_result"
    }
   ],
   "source": [
    "grouped_pivot = grouped_pivot.fillna(0)\n",
    "grouped_pivot"
   ]
  },
  {
   "cell_type": "code",
   "execution_count": 48,
   "metadata": {},
   "outputs": [
    {
     "data": {
      "image/png": "[encoded data removed]",
      "text/plain": [
       "<Figure size 360x360 with 2 Axes>"
      ]
     },
     "metadata": {},
     "output_type": "display_data"
    }
   ],
   "source": [
    "fig, ax = plt.subplots()\n",
    "im = ax.pcolor(grouped_pivot, cmap=\"RdBu\")\n",
    "\n",
    "#label names\n",
    "row_labels = grouped_pivot.columns.levels[1]\n",
    "col_labels = grouped_pivot.index\n",
    "\n",
    "#move ticks and labels to the center\n",
    "ax.set_xticks(np.arange(grouped_pivot.shape[1]) + 0.5, minor=False)\n",
    "ax.set_yticks(np.arange(grouped_pivot.shape[0]) + 0.5, minor=False)\n",
    "\n",
    "#insert labels\n",
    "ax.set_xticklabels(row_labels, minor=False)\n",
    "ax.set_yticklabels(col_labels, minor=False)\n",
    "\n",
    "#rotate label if too long\n",
    "plt.xticks(rotation=90)\n",
    "\n",
    "fig.colorbar(im)\n",
    "plt.show()\n",
    "\n",
    "#From the figure below; FR3, RL & CulDSac, FV has the highest price"
   ]
  },
  {
   "cell_type": "code",
   "execution_count": 49,
   "metadata": {},
   "outputs": [
    {
     "data": {
      "text/html": [
       "<div>\n",
       "<style scoped>\n",
       "    .dataframe tbody tr th:only-of-type {\n",
       "        vertical-align: middle;\n",
       "    }\n",
       "\n",
       "    .dataframe tbody tr th {\n",
       "        vertical-align: top;\n",
       "    }\n",
       "\n",
       "    .dataframe thead tr th {\n",
       "        text-align: left;\n",
       "    }\n",
       "\n",
       "    .dataframe thead tr:last-of-type th {\n",
       "        text-align: right;\n",
       "    }\n",
       "</style>\n",
       "<table border=\"1\" class=\"dataframe\">\n",
       "  <thead>\n",
       "    <tr>\n",
       "      <th></th>\n",
       "      <th colspan=\"8\" halign=\"left\">Property_Sale_Price</th>\n",
       "    </tr>\n",
       "    <tr>\n",
       "      <th>HouseStyle</th>\n",
       "      <th>1.5Fin</th>\n",
       "      <th>1.5Unf</th>\n",
       "      <th>1Story</th>\n",
       "      <th>2.5Fin</th>\n",
       "      <th>2.5Unf</th>\n",
       "      <th>2Story</th>\n",
       "      <th>SFoyer</th>\n",
       "      <th>SLvl</th>\n",
       "    </tr>\n",
       "    <tr>\n",
       "      <th>Neighborhood</th>\n",
       "      <th></th>\n",
       "      <th></th>\n",
       "      <th></th>\n",
       "      <th></th>\n",
       "      <th></th>\n",
       "      <th></th>\n",
       "      <th></th>\n",
       "      <th></th>\n",
       "    </tr>\n",
       "  </thead>\n",
       "  <tbody>\n",
       "    <tr>\n",
       "      <th>Blmngtn</th>\n",
       "      <td>0.000000</td>\n",
       "      <td>0.000000</td>\n",
       "      <td>190835.666667</td>\n",
       "      <td>0.000000</td>\n",
       "      <td>0.000000</td>\n",
       "      <td>0.000000</td>\n",
       "      <td>0.000000</td>\n",
       "      <td>0.000000</td>\n",
       "    </tr>\n",
       "    <tr>\n",
       "      <th>Blueste</th>\n",
       "      <td>0.000000</td>\n",
       "      <td>0.000000</td>\n",
       "      <td>0.000000</td>\n",
       "      <td>0.000000</td>\n",
       "      <td>0.000000</td>\n",
       "      <td>133000.000000</td>\n",
       "      <td>0.000000</td>\n",
       "      <td>0.000000</td>\n",
       "    </tr>\n",
       "    <tr>\n",
       "      <th>BrDale</th>\n",
       "      <td>0.000000</td>\n",
       "      <td>0.000000</td>\n",
       "      <td>0.000000</td>\n",
       "      <td>0.000000</td>\n",
       "      <td>0.000000</td>\n",
       "      <td>105288.235294</td>\n",
       "      <td>0.000000</td>\n",
       "      <td>0.000000</td>\n",
       "    </tr>\n",
       "    <tr>\n",
       "      <th>BrkSide</th>\n",
       "      <td>144812.903226</td>\n",
       "      <td>118750.000000</td>\n",
       "      <td>88933.333333</td>\n",
       "      <td>0.000000</td>\n",
       "      <td>214500.000000</td>\n",
       "      <td>160547.916667</td>\n",
       "      <td>0.000000</td>\n",
       "      <td>0.000000</td>\n",
       "    </tr>\n",
       "    <tr>\n",
       "      <th>ClearCr</th>\n",
       "      <td>206405.333333</td>\n",
       "      <td>0.000000</td>\n",
       "      <td>223681.818182</td>\n",
       "      <td>0.000000</td>\n",
       "      <td>0.000000</td>\n",
       "      <td>230169.230769</td>\n",
       "      <td>0.000000</td>\n",
       "      <td>155000.000000</td>\n",
       "    </tr>\n",
       "    <tr>\n",
       "      <th>CollgCr</th>\n",
       "      <td>193879.000000</td>\n",
       "      <td>383970.000000</td>\n",
       "      <td>188538.353846</td>\n",
       "      <td>0.000000</td>\n",
       "      <td>0.000000</td>\n",
       "      <td>225517.972603</td>\n",
       "      <td>135800.000000</td>\n",
       "      <td>161633.333333</td>\n",
       "    </tr>\n",
       "    <tr>\n",
       "      <th>Crawfor</th>\n",
       "      <td>215953.571429</td>\n",
       "      <td>96500.000000</td>\n",
       "      <td>223517.555556</td>\n",
       "      <td>191000.000000</td>\n",
       "      <td>164000.000000</td>\n",
       "      <td>205206.678571</td>\n",
       "      <td>0.000000</td>\n",
       "      <td>0.000000</td>\n",
       "    </tr>\n",
       "    <tr>\n",
       "      <th>Edwards</th>\n",
       "      <td>119037.037037</td>\n",
       "      <td>0.000000</td>\n",
       "      <td>125547.500000</td>\n",
       "      <td>0.000000</td>\n",
       "      <td>0.000000</td>\n",
       "      <td>146634.375000</td>\n",
       "      <td>141583.333333</td>\n",
       "      <td>167104.444444</td>\n",
       "    </tr>\n",
       "    <tr>\n",
       "      <th>Gilbert</th>\n",
       "      <td>175250.000000</td>\n",
       "      <td>0.000000</td>\n",
       "      <td>201538.105263</td>\n",
       "      <td>0.000000</td>\n",
       "      <td>0.000000</td>\n",
       "      <td>191615.137931</td>\n",
       "      <td>0.000000</td>\n",
       "      <td>172271.818182</td>\n",
       "    </tr>\n",
       "    <tr>\n",
       "      <th>IDOTRR</th>\n",
       "      <td>114825.052632</td>\n",
       "      <td>121933.333333</td>\n",
       "      <td>88395.952381</td>\n",
       "      <td>0.000000</td>\n",
       "      <td>101000.000000</td>\n",
       "      <td>80385.166667</td>\n",
       "      <td>0.000000</td>\n",
       "      <td>109900.000000</td>\n",
       "    </tr>\n",
       "    <tr>\n",
       "      <th>MeadowV</th>\n",
       "      <td>0.000000</td>\n",
       "      <td>0.000000</td>\n",
       "      <td>131266.666667</td>\n",
       "      <td>0.000000</td>\n",
       "      <td>0.000000</td>\n",
       "      <td>96408.333333</td>\n",
       "      <td>83875.000000</td>\n",
       "      <td>91000.000000</td>\n",
       "    </tr>\n",
       "    <tr>\n",
       "      <th>Mitchel</th>\n",
       "      <td>185971.555556</td>\n",
       "      <td>0.000000</td>\n",
       "      <td>148320.000000</td>\n",
       "      <td>0.000000</td>\n",
       "      <td>0.000000</td>\n",
       "      <td>171600.000000</td>\n",
       "      <td>156114.285714</td>\n",
       "      <td>158857.142857</td>\n",
       "    </tr>\n",
       "    <tr>\n",
       "      <th>NAmes</th>\n",
       "      <td>132114.285714</td>\n",
       "      <td>120250.000000</td>\n",
       "      <td>140851.556075</td>\n",
       "      <td>0.000000</td>\n",
       "      <td>128950.000000</td>\n",
       "      <td>166800.000000</td>\n",
       "      <td>149895.000000</td>\n",
       "      <td>160416.666667</td>\n",
       "    </tr>\n",
       "    <tr>\n",
       "      <th>NPkVill</th>\n",
       "      <td>0.000000</td>\n",
       "      <td>0.000000</td>\n",
       "      <td>137972.222222</td>\n",
       "      <td>0.000000</td>\n",
       "      <td>0.000000</td>\n",
       "      <td>151250.000000</td>\n",
       "      <td>0.000000</td>\n",
       "      <td>0.000000</td>\n",
       "    </tr>\n",
       "    <tr>\n",
       "      <th>NWAmes</th>\n",
       "      <td>229000.000000</td>\n",
       "      <td>0.000000</td>\n",
       "      <td>182390.576923</td>\n",
       "      <td>0.000000</td>\n",
       "      <td>205000.000000</td>\n",
       "      <td>205262.195122</td>\n",
       "      <td>176450.000000</td>\n",
       "      <td>179175.000000</td>\n",
       "    </tr>\n",
       "    <tr>\n",
       "      <th>NoRidge</th>\n",
       "      <td>347500.000000</td>\n",
       "      <td>0.000000</td>\n",
       "      <td>332971.428571</td>\n",
       "      <td>0.000000</td>\n",
       "      <td>0.000000</td>\n",
       "      <td>318068.464286</td>\n",
       "      <td>0.000000</td>\n",
       "      <td>0.000000</td>\n",
       "    </tr>\n",
       "    <tr>\n",
       "      <th>NridgHt</th>\n",
       "      <td>0.000000</td>\n",
       "      <td>0.000000</td>\n",
       "      <td>316639.451613</td>\n",
       "      <td>0.000000</td>\n",
       "      <td>0.000000</td>\n",
       "      <td>333362.108108</td>\n",
       "      <td>0.000000</td>\n",
       "      <td>0.000000</td>\n",
       "    </tr>\n",
       "    <tr>\n",
       "      <th>OldTown</th>\n",
       "      <td>117452.272727</td>\n",
       "      <td>95100.000000</td>\n",
       "      <td>105277.148936</td>\n",
       "      <td>291333.333333</td>\n",
       "      <td>152390.909091</td>\n",
       "      <td>129875.170213</td>\n",
       "      <td>142000.000000</td>\n",
       "      <td>0.000000</td>\n",
       "    </tr>\n",
       "    <tr>\n",
       "      <th>SWISU</th>\n",
       "      <td>139688.933333</td>\n",
       "      <td>0.000000</td>\n",
       "      <td>75500.000000</td>\n",
       "      <td>168416.666667</td>\n",
       "      <td>0.000000</td>\n",
       "      <td>149737.500000</td>\n",
       "      <td>0.000000</td>\n",
       "      <td>0.000000</td>\n",
       "    </tr>\n",
       "    <tr>\n",
       "      <th>Sawyer</th>\n",
       "      <td>135222.222222</td>\n",
       "      <td>0.000000</td>\n",
       "      <td>137051.106667</td>\n",
       "      <td>0.000000</td>\n",
       "      <td>0.000000</td>\n",
       "      <td>178086.555556</td>\n",
       "      <td>137862.111111</td>\n",
       "      <td>158416.666667</td>\n",
       "    </tr>\n",
       "    <tr>\n",
       "      <th>SawyerW</th>\n",
       "      <td>251200.000000</td>\n",
       "      <td>76000.000000</td>\n",
       "      <td>166000.042553</td>\n",
       "      <td>0.000000</td>\n",
       "      <td>0.000000</td>\n",
       "      <td>212534.828571</td>\n",
       "      <td>146056.166667</td>\n",
       "      <td>275000.000000</td>\n",
       "    </tr>\n",
       "    <tr>\n",
       "      <th>Somerst</th>\n",
       "      <td>0.000000</td>\n",
       "      <td>0.000000</td>\n",
       "      <td>243373.103448</td>\n",
       "      <td>0.000000</td>\n",
       "      <td>0.000000</td>\n",
       "      <td>209569.123077</td>\n",
       "      <td>0.000000</td>\n",
       "      <td>0.000000</td>\n",
       "    </tr>\n",
       "    <tr>\n",
       "      <th>StoneBr</th>\n",
       "      <td>0.000000</td>\n",
       "      <td>0.000000</td>\n",
       "      <td>269051.956522</td>\n",
       "      <td>0.000000</td>\n",
       "      <td>0.000000</td>\n",
       "      <td>417929.000000</td>\n",
       "      <td>0.000000</td>\n",
       "      <td>0.000000</td>\n",
       "    </tr>\n",
       "    <tr>\n",
       "      <th>Timber</th>\n",
       "      <td>201316.666667</td>\n",
       "      <td>0.000000</td>\n",
       "      <td>253663.900000</td>\n",
       "      <td>0.000000</td>\n",
       "      <td>0.000000</td>\n",
       "      <td>246078.923077</td>\n",
       "      <td>0.000000</td>\n",
       "      <td>161428.571429</td>\n",
       "    </tr>\n",
       "    <tr>\n",
       "      <th>Veenker</th>\n",
       "      <td>0.000000</td>\n",
       "      <td>0.000000</td>\n",
       "      <td>281375.000000</td>\n",
       "      <td>0.000000</td>\n",
       "      <td>0.000000</td>\n",
       "      <td>294000.000000</td>\n",
       "      <td>0.000000</td>\n",
       "      <td>190500.000000</td>\n",
       "    </tr>\n",
       "  </tbody>\n",
       "</table>\n",
       "</div>"
      ],
      "text/plain": [
       "             Property_Sale_Price                                               \\\n",
       "HouseStyle                1.5Fin         1.5Unf         1Story         2.5Fin   \n",
       "Neighborhood                                                                    \n",
       "Blmngtn                 0.000000       0.000000  190835.666667       0.000000   \n",
       "Blueste                 0.000000       0.000000       0.000000       0.000000   \n",
       "BrDale                  0.000000       0.000000       0.000000       0.000000   \n",
       "BrkSide            144812.903226  118750.000000   88933.333333       0.000000   \n",
       "ClearCr            206405.333333       0.000000  223681.818182       0.000000   \n",
       "CollgCr            193879.000000  383970.000000  188538.353846       0.000000   \n",
       "Crawfor            215953.571429   96500.000000  223517.555556  191000.000000   \n",
       "Edwards            119037.037037       0.000000  125547.500000       0.000000   \n",
       "Gilbert            175250.000000       0.000000  201538.105263       0.000000   \n",
       "IDOTRR             114825.052632  121933.333333   88395.952381       0.000000   \n",
       "MeadowV                 0.000000       0.000000  131266.666667       0.000000   \n",
       "Mitchel            185971.555556       0.000000  148320.000000       0.000000   \n",
       "NAmes              132114.285714  120250.000000  140851.556075       0.000000   \n",
       "NPkVill                 0.000000       0.000000  137972.222222       0.000000   \n",
       "NWAmes             229000.000000       0.000000  182390.576923       0.000000   \n",
       "NoRidge            347500.000000       0.000000  332971.428571       0.000000   \n",
       "NridgHt                 0.000000       0.000000  316639.451613       0.000000   \n",
       "OldTown            117452.272727   95100.000000  105277.148936  291333.333333   \n",
       "SWISU              139688.933333       0.000000   75500.000000  168416.666667   \n",
       "Sawyer             135222.222222       0.000000  137051.106667       0.000000   \n",
       "SawyerW            251200.000000   76000.000000  166000.042553       0.000000   \n",
       "Somerst                 0.000000       0.000000  243373.103448       0.000000   \n",
       "StoneBr                 0.000000       0.000000  269051.956522       0.000000   \n",
       "Timber             201316.666667       0.000000  253663.900000       0.000000   \n",
       "Veenker                 0.000000       0.000000  281375.000000       0.000000   \n",
       "\n",
       "                                                                          \n",
       "HouseStyle           2.5Unf         2Story         SFoyer           SLvl  \n",
       "Neighborhood                                                              \n",
       "Blmngtn            0.000000       0.000000       0.000000       0.000000  \n",
       "Blueste            0.000000  133000.000000       0.000000       0.000000  \n",
       "BrDale             0.000000  105288.235294       0.000000       0.000000  \n",
       "BrkSide       214500.000000  160547.916667       0.000000       0.000000  \n",
       "ClearCr            0.000000  230169.230769       0.000000  155000.000000  \n",
       "CollgCr            0.000000  225517.972603  135800.000000  161633.333333  \n",
       "Crawfor       164000.000000  205206.678571       0.000000       0.000000  \n",
       "Edwards            0.000000  146634.375000  141583.333333  167104.444444  \n",
       "Gilbert            0.000000  191615.137931       0.000000  172271.818182  \n",
       "IDOTRR        101000.000000   80385.166667       0.000000  109900.000000  \n",
       "MeadowV            0.000000   96408.333333   83875.000000   91000.000000  \n",
       "Mitchel            0.000000  171600.000000  156114.285714  158857.142857  \n",
       "NAmes         128950.000000  166800.000000  149895.000000  160416.666667  \n",
       "NPkVill            0.000000  151250.000000       0.000000       0.000000  \n",
       "NWAmes        205000.000000  205262.195122  176450.000000  179175.000000  \n",
       "NoRidge            0.000000  318068.464286       0.000000       0.000000  \n",
       "NridgHt            0.000000  333362.108108       0.000000       0.000000  \n",
       "OldTown       152390.909091  129875.170213  142000.000000       0.000000  \n",
       "SWISU              0.000000  149737.500000       0.000000       0.000000  \n",
       "Sawyer             0.000000  178086.555556  137862.111111  158416.666667  \n",
       "SawyerW            0.000000  212534.828571  146056.166667  275000.000000  \n",
       "Somerst            0.000000  209569.123077       0.000000       0.000000  \n",
       "StoneBr            0.000000  417929.000000       0.000000       0.000000  \n",
       "Timber             0.000000  246078.923077       0.000000  161428.571429  \n",
       "Veenker            0.000000  294000.000000       0.000000  190500.000000  "
      ]
     },
     "execution_count": 49,
     "metadata": {},
     "output_type": "execute_result"
    }
   ],
   "source": [
    "group_three = df[[\"Neighborhood\", \"HouseStyle\",\"Property_Sale_Price\"]]\n",
    "group_three = group_three.groupby([\"Neighborhood\",\"HouseStyle\"], as_index=False).mean()\n",
    "grouped_pivot1 = group_three.pivot(index=\"Neighborhood\", columns=\"HouseStyle\")\n",
    "grouped_pivot1 = grouped_pivot1.fillna(0)\n",
    "grouped_pivot1"
   ]
  },
  {
   "cell_type": "code",
   "execution_count": 50,
   "metadata": {},
   "outputs": [
    {
     "data": {
      "image/png": "[encoded data removed]",
      "text/plain": [
       "<Figure size 360x360 with 2 Axes>"
      ]
     },
     "metadata": {},
     "output_type": "display_data"
    }
   ],
   "source": [
    "fig, ax = plt.subplots()\n",
    "im = ax.pcolor(grouped_pivot1, cmap=\"RdBu\")\n",
    "\n",
    "#label names\n",
    "row_labels = grouped_pivot1.columns.levels[1]\n",
    "col_labels = grouped_pivot1.index\n",
    "\n",
    "#move ticks and labels to the center\n",
    "ax.set_xticks(np.arange(grouped_pivot1.shape[1]) + 0.5, minor=False)\n",
    "ax.set_yticks(np.arange(grouped_pivot1.shape[0]) + 0.5, minor=False)\n",
    "\n",
    "#insert labels\n",
    "ax.set_xticklabels(row_labels, minor=False)\n",
    "ax.set_yticklabels(col_labels, minor=False)\n",
    "\n",
    "#rotate label if too long\n",
    "plt.xticks(rotation=90)\n",
    "\n",
    "fig.colorbar(im)\n",
    "plt.show()"
   ]
  },
  {
   "cell_type": "code",
   "execution_count": 51,
   "metadata": {},
   "outputs": [],
   "source": [
    "# Pearson Correlation\n",
    "from scipy import stats"
   ]
  },
  {
   "cell_type": "code",
   "execution_count": 52,
   "metadata": {},
   "outputs": [
    {
     "name": "stdout",
     "output_type": "stream",
     "text": [
      "The Pearson Correlation Coefficient is 0.7109379883619803  with a P-value of P = 5.78166e-319\n"
     ]
    }
   ],
   "source": [
    "pearson_coef, p_value = stats.pearsonr(df[\"GrLivArea\"], df[\"Property_Sale_Price\"])\n",
    "print(\"The Pearson Correlation Coefficient is\", pearson_coef, \" with a P-value of P =\", p_value)  \n",
    "# Since the p-value is  <  0.001, the correlation between GrLivArea and price is statistically significant, and the \n",
    "# linear relationship is quite strong"
   ]
  },
  {
   "cell_type": "code",
   "execution_count": 53,
   "metadata": {},
   "outputs": [
    {
     "name": "stdout",
     "output_type": "stream",
     "text": [
      "The Pearson Correlation Coefficient is 0.6339513267913902  with a P-value of P = 1.9724233361648837e-233\n"
     ]
    }
   ],
   "source": [
    "pearson_coef, p_value = stats.pearsonr(df[\"GarageCars\"], df[\"Property_Sale_Price\"])\n",
    "print(\"The Pearson Correlation Coefficient is\", pearson_coef, \" with a P-value of P =\", p_value)  \n",
    "# Since the p-value is  <  0.001, the correlation between GarageCars and price is statistically significant, and the \n",
    "# linear relationship is moderately strong"
   ]
  },
  {
   "cell_type": "code",
   "execution_count": 54,
   "metadata": {},
   "outputs": [
    {
     "name": "stdout",
     "output_type": "stream",
     "text": [
      "The Pearson Correlation Coefficient is 0.6210489459391499  with a P-value of P = 2.075150264594714e-221\n"
     ]
    }
   ],
   "source": [
    "pearson_coef, p_value = stats.pearsonr(df[\"GarageArea\"], df[\"Property_Sale_Price\"])\n",
    "print(\"The Pearson Correlation Coefficient is\", pearson_coef, \" with a P-value of P =\", p_value)  \n",
    "# Since the p-value is  <  0.001, the correlation between GarageArea and price is statistically significant, and the \n",
    "# linear relationship is moderately strong"
   ]
  },
  {
   "cell_type": "code",
   "execution_count": 55,
   "metadata": {},
   "outputs": [
    {
     "name": "stdout",
     "output_type": "stream",
     "text": [
      "The Pearson Correlation Coefficient is 0.6188277580545808  with a P-value of P = 2.1390840069517737e-219\n"
     ]
    }
   ],
   "source": [
    "pearson_coef, p_value = stats.pearsonr(df[\"TotalBsmtSF\"], df[\"Property_Sale_Price\"])\n",
    "print(\"The Pearson Correlation Coefficient is\", pearson_coef, \" with a P-value of P =\", p_value)  "
   ]
  },
  {
   "cell_type": "code",
   "execution_count": 56,
   "metadata": {},
   "outputs": [
    {
     "name": "stdout",
     "output_type": "stream",
     "text": [
      "The Pearson Correlation Coefficient is 0.6001249993957659  with a P-value of P = 4.5616657279240316e-203\n"
     ]
    }
   ],
   "source": [
    "pearson_coef, p_value = stats.pearsonr(df[\"1stFlrSF\"], df[\"Property_Sale_Price\"])\n",
    "print(\"The Pearson Correlation Coefficient is\", pearson_coef, \" with a P-value of P =\", p_value)  "
   ]
  },
  {
   "cell_type": "code",
   "execution_count": 57,
   "metadata": {},
   "outputs": [],
   "source": [
    "# Since the p-value is  <  0.001, the correlation between 1stFlrSF, price & TotalBsmtSF, price is statistically \n",
    "# significant, and the linear relationship is moderately strong"
   ]
  },
  {
   "cell_type": "code",
   "execution_count": 58,
   "metadata": {},
   "outputs": [],
   "source": [
    "# Important Variables\n",
    "# GrLivArea\n",
    "# GarageCars\n",
    "# GarageArea\n",
    "# TotalBsmtSF\n",
    "# 1stFlrSF\n",
    "# FullBath\n",
    "# KitchenAbvGr\n",
    "# LandContour"
   ]
  },
  {
   "cell_type": "code",
   "execution_count": 92,
   "metadata": {},
   "outputs": [
    {
     "name": "stderr",
     "output_type": "stream",
     "text": [
      "/opt/anaconda3/lib/python3.8/site-packages/statsmodels/stats/outliers_influence.py:193: RuntimeWarning: divide by zero encountered in double_scalars\n",
      "  vif = 1. / (1. - r_squared_i)\n"
     ]
    },
    {
     "name": "stdout",
     "output_type": "stream",
     "text": [
      "[5.055543796538803, 1.2345030008829434, 28.853934281308852, 12.435079392047989, 3.2254656592079747, 256.8366257262625, 3.5689869056905525, 20.996235032199937, 1.2018726334361607, 4.972266420075211, 1.6016624751014756, 6.593394941349054, 7.214340489919679, 77.45457151700948, 1.9499465418155915, 6.453613707998193, 27.963178828761663, 17.984651632508307, 13198.511203031734, 24041.51277979725, 4.802588252274401, 5.009287515035797, 39.285974186683625, 36.54498743774008, 13.665963768048659, 2.6245027021233494, 38.00471572017443, 32.997905391277854, 9.344487381418455, 17.81902477190598, 22.51444241689737, 7.1776139576019675, 6.393862021566083, inf, 61.368190108924225, inf, inf, inf, 15.732062288531385, 2.995474290571007, 24.752799839298035, 18.60596979917932, inf, inf, inf, inf, 3.8266888062338125, 1.3256596418768392, 27.98682663942903, 3.637784124811868, 36.301221312334754, 35.47687612186459, 19.47228455529867, 89.02347228636606, 47.17888945260188, 3.6118119580175456, 11.840729377533938, 4.319237945901477, 18317.19402379702, 6.783592027918126, 40.90491393088852, 35.07699616608935, 74.1348324420112, 92.91873203079867, 23.12270115605435, 2.0045592507059053, 1.972293829061368, 1.406977252823455, 1.0645346923930847, 1.2782505880177681, 1.1191438497894504, 1.0715134200170984, 6.870977826574035, 29383.038320338597, 27.746035062545403, 14.62596713038206, 41.806283399663286]\n"
     ]
    }
   ],
   "source": [
    "X = np.array(df)\n",
    "from statsmodels.stats.outliers_influence import variance_inflation_factor\n",
    "\n",
    "vif = pd.DataFrame()\n",
    "vif = [variance_inflation_factor(X, i) for i in range(X.shape[1])]\n",
    "print(vif)"
   ]
  },
  {
   "cell_type": "code",
   "execution_count": 93,
   "metadata": {},
   "outputs": [],
   "source": [
    "from sklearn.preprocessing import LabelEncoder\n",
    "cols = ('Zone_Class','FireplaceQu','Road_Type','Property_Shape','LandContour','Utilities','LotConfig','LandSlope',\n",
    "        'Neighborhood','Condition1','Condition2','Dwelling_Type','HouseStyle','OverallCond','RoofStyle','RoofMatl',\n",
    "        'Exterior1st','Exterior2nd','MasVnrType','MasVnrArea','ExterQual','ExterCond','Foundation','BsmtQual','BsmtCond',\n",
    "        'BsmtExposure','BsmtFinType1','BsmtFinType2','Heating','HeatingQC','CentralAir','Electrical','KitchenQual',\n",
    "        'Functional','FireplaceQu','GarageType','GarageFinish','GarageQual','GarageCond','PavedDrive','SaleType','SaleCondition'\n",
    "       )\n",
    "\n",
    "# Process columns and apply LabelEncoder to categorical features\n",
    "for c in cols:\n",
    "    lbl = LabelEncoder() \n",
    "    lbl.fit(list(df[c].values)) \n",
    "    df[c] = lbl.transform(list(df[c].values))"
   ]
  },
  {
   "cell_type": "code",
   "execution_count": 94,
   "metadata": {},
   "outputs": [
    {
     "data": {
      "text/plain": [
       "(2073, 77)"
      ]
     },
     "execution_count": 94,
     "metadata": {},
     "output_type": "execute_result"
    }
   ],
   "source": [
    "df.shape"
   ]
  },
  {
   "cell_type": "code",
   "execution_count": 95,
   "metadata": {},
   "outputs": [],
   "source": [
    "y_data = df.iloc[:,76:]"
   ]
  },
  {
   "cell_type": "code",
   "execution_count": 96,
   "metadata": {},
   "outputs": [],
   "source": [
    "x_data = df.iloc[:,:76]"
   ]
  },
  {
   "cell_type": "code",
   "execution_count": 97,
   "metadata": {},
   "outputs": [],
   "source": [
    "from sklearn.model_selection import train_test_split"
   ]
  },
  {
   "cell_type": "code",
   "execution_count": 98,
   "metadata": {},
   "outputs": [],
   "source": [
    "x_train, x_test, y_train, y_test = train_test_split(x_data, y_data, test_size=0.2, random_state=45)"
   ]
  },
  {
   "cell_type": "code",
   "execution_count": 99,
   "metadata": {
    "scrolled": true
   },
   "outputs": [
    {
     "name": "stdout",
     "output_type": "stream",
     "text": [
      "(1658, 76) (415, 76)\n",
      "(1658, 1) (415, 1)\n"
     ]
    }
   ],
   "source": [
    "print(x_train.shape, x_test.shape)\n",
    "print(y_train.shape, y_test.shape)"
   ]
  },
  {
   "cell_type": "code",
   "execution_count": 100,
   "metadata": {},
   "outputs": [],
   "source": [
    "# Feature Selection\n",
    "# RFE "
   ]
  },
  {
   "cell_type": "code",
   "execution_count": 101,
   "metadata": {},
   "outputs": [],
   "source": [
    "from sklearn.linear_model import LinearRegression\n",
    "reg4 = LinearRegression()"
   ]
  },
  {
   "cell_type": "code",
   "execution_count": 102,
   "metadata": {},
   "outputs": [
    {
     "name": "stderr",
     "output_type": "stream",
     "text": [
      "/opt/anaconda3/lib/python3.8/site-packages/sklearn/utils/validation.py:67: FutureWarning: Pass n_features_to_select=76 as keyword args. From version 0.25 passing these as positional arguments will result in an error\n",
      "  warnings.warn(\"Pass {} as keyword args. From version 0.25 \"\n"
     ]
    },
    {
     "data": {
      "text/plain": [
       "LinearRegression()"
      ]
     },
     "execution_count": 102,
     "metadata": {},
     "output_type": "execute_result"
    }
   ],
   "source": [
    "from sklearn.feature_selection import RFE\n",
    "rfe = RFE(reg4,76)\n",
    "X_train_rfe = rfe.fit_transform(x_train,y_train)\n",
    "X_test_rfe = rfe.transform(x_test)\n",
    "reg4.fit(X_train_rfe,y_train)"
   ]
  },
  {
   "cell_type": "code",
   "execution_count": 103,
   "metadata": {},
   "outputs": [
    {
     "name": "stdout",
     "output_type": "stream",
     "text": [
      "The r-squared value is:  0.8436407214858938\n"
     ]
    }
   ],
   "source": [
    "print('The r-squared value is: ', reg4.score(X_train_rfe,y_train))"
   ]
  },
  {
   "cell_type": "code",
   "execution_count": 104,
   "metadata": {},
   "outputs": [],
   "source": [
    "y_pred = reg4.predict(X_test_rfe)"
   ]
  },
  {
   "cell_type": "code",
   "execution_count": 105,
   "metadata": {
    "scrolled": true
   },
   "outputs": [
    {
     "name": "stdout",
     "output_type": "stream",
     "text": [
      "The mean square error of price and predicted value is:  869711737.3266702\n"
     ]
    }
   ],
   "source": [
    "from sklearn.metrics import mean_squared_error\n",
    "mse = mean_squared_error(y_test, y_pred)\n",
    "print('The mean square error of price and predicted value is: ', mse)"
   ]
  },
  {
   "cell_type": "code",
   "execution_count": 106,
   "metadata": {},
   "outputs": [
    {
     "name": "stdout",
     "output_type": "stream",
     "text": [
      "[ True  True  True  True  True  True  True  True  True  True  True  True\n",
      "  True  True  True  True  True  True  True  True  True  True  True  True\n",
      "  True  True  True  True  True  True  True  True  True  True  True  True\n",
      "  True  True  True  True  True  True  True  True  True  True  True  True\n",
      "  True  True  True  True  True  True  True  True  True  True  True  True\n",
      "  True  True  True  True  True  True  True  True  True  True  True  True\n",
      "  True  True  True  True]\n",
      "[1 1 1 1 1 1 1 1 1 1 1 1 1 1 1 1 1 1 1 1 1 1 1 1 1 1 1 1 1 1 1 1 1 1 1 1 1\n",
      " 1 1 1 1 1 1 1 1 1 1 1 1 1 1 1 1 1 1 1 1 1 1 1 1 1 1 1 1 1 1 1 1 1 1 1 1 1\n",
      " 1 1]\n"
     ]
    }
   ],
   "source": [
    "print(rfe.support_)\n",
    "print(rfe.ranking_)"
   ]
  },
  {
   "cell_type": "code",
   "execution_count": 107,
   "metadata": {},
   "outputs": [],
   "source": [
    "# Univariate"
   ]
  },
  {
   "cell_type": "code",
   "execution_count": 108,
   "metadata": {},
   "outputs": [
    {
     "name": "stdout",
     "output_type": "stream",
     "text": [
      "['LotArea', 'BsmtFinSF1', 'BsmtFinSF2', 'BsmtUnfSF', 'TotalBsmtSF', '2ndFlrSF', 'LowQualFinSF', 'GrLivArea', 'WoodDeckSF', '3SsnPorch', 'PoolArea', 'MiscVal']\n"
     ]
    }
   ],
   "source": [
    "from sklearn.feature_selection import SelectKBest, chi2\n",
    "X_best= SelectKBest(chi2, k=12).fit(x_train, y_train)\n",
    "mask = X_best.get_support() #list of booleans for selected features\n",
    "new_feat = [] \n",
    "for bool, feature in zip(mask, x_train.columns):\n",
    "    if bool:\n",
    "        new_feat.append(feature)\n",
    "print(new_feat)"
   ]
  },
  {
   "cell_type": "markdown",
   "metadata": {},
   "source": [
    "#### MODEL 1"
   ]
  },
  {
   "cell_type": "code",
   "execution_count": 109,
   "metadata": {},
   "outputs": [],
   "source": [
    "from sklearn.linear_model import LinearRegression\n",
    "reg = LinearRegression().fit(x_train, y_train)"
   ]
  },
  {
   "cell_type": "code",
   "execution_count": 110,
   "metadata": {
    "scrolled": true
   },
   "outputs": [
    {
     "data": {
      "text/plain": [
       "array([[-3.42937080e+00, -5.03602367e+00, -1.55380856e+03,\n",
       "        -7.24034082e+01,  1.47641830e-01,  2.87823434e+04,\n",
       "        -1.55805127e+03,  3.37077804e+03, -4.10965645e+04,\n",
       "         7.42041245e+02,  6.33372989e+03,  5.36911024e+02,\n",
       "        -7.36422131e+02, -7.36305490e+03, -4.05409249e+03,\n",
       "        -5.82484962e+02,  2.25417196e+03,  3.08886703e+03,\n",
       "         2.02126145e+01,  7.06641045e+01,  2.03504481e+03,\n",
       "         5.28663139e+03, -1.10019204e+03,  7.23214211e+02,\n",
       "         5.35697954e+03,  5.57513697e+01, -1.36984638e+04,\n",
       "         6.52857009e+02,  1.12705227e+03, -9.10953403e+03,\n",
       "         2.34414363e+03, -3.63124122e+03, -3.69378640e+02,\n",
       "         6.38133466e+00,  1.72090392e+03,  7.89994213e+00,\n",
       "        -6.38036059e-02,  1.42174732e+01, -2.86484007e+03,\n",
       "        -1.11421046e+03,  6.60478496e+03,  6.32473921e+02,\n",
       "         2.23259202e+01,  1.81219398e+01, -2.14228221e+01,\n",
       "         1.90250380e+01,  8.30874201e+03, -7.83432681e+02,\n",
       "         8.86529217e+03,  4.71998578e+03, -2.87831914e+03,\n",
       "        -2.36585691e+04, -1.13174767e+04,  4.44506675e+03,\n",
       "         4.70104998e+03,  8.07644017e+03, -1.37594557e+03,\n",
       "        -8.80220278e+01, -2.85881060e+01, -1.00032188e+03,\n",
       "         9.59238186e+03,  1.15519766e+01, -5.16796533e+02,\n",
       "         4.41028699e+03,  2.42951346e+03,  1.88139786e+01,\n",
       "        -5.56685971e+00,  3.53905664e+00,  3.02117230e+01,\n",
       "         5.68606870e+01, -7.37536680e+00,  5.14908126e-01,\n",
       "        -4.27305248e+01, -5.78173051e+02, -5.81979579e+02,\n",
       "         2.70283664e+03]])"
      ]
     },
     "execution_count": 110,
     "metadata": {},
     "output_type": "execute_result"
    }
   ],
   "source": [
    "reg.coef_"
   ]
  },
  {
   "cell_type": "code",
   "execution_count": 111,
   "metadata": {},
   "outputs": [
    {
     "data": {
      "text/plain": [
       "array([1055546.37499239])"
      ]
     },
     "execution_count": 111,
     "metadata": {},
     "output_type": "execute_result"
    }
   ],
   "source": [
    "reg.intercept_"
   ]
  },
  {
   "cell_type": "code",
   "execution_count": 112,
   "metadata": {
    "scrolled": true
   },
   "outputs": [
    {
     "name": "stdout",
     "output_type": "stream",
     "text": [
      "The r-squared value is:  0.8436407214858938\n"
     ]
    }
   ],
   "source": [
    "print('The r-squared value is: ', reg.score(x_train,y_train))"
   ]
  },
  {
   "cell_type": "code",
   "execution_count": 113,
   "metadata": {},
   "outputs": [
    {
     "data": {
      "text/plain": [
       "array([[<AxesSubplot:title={'center':'Property_Sale_Price'}>]],\n",
       "      dtype=object)"
      ]
     },
     "execution_count": 113,
     "metadata": {},
     "output_type": "execute_result"
    },
    {
     "data": {
      "image/png": "[encoded data removed]",
      "text/plain": [
       "<Figure size 360x360 with 1 Axes>"
      ]
     },
     "metadata": {},
     "output_type": "display_data"
    }
   ],
   "source": [
    "y_train.hist()"
   ]
  },
  {
   "cell_type": "code",
   "execution_count": 114,
   "metadata": {
    "scrolled": true
   },
   "outputs": [
    {
     "data": {
      "text/plain": [
       "array([[<AxesSubplot:title={'center':'Property_Sale_Price'}>]],\n",
       "      dtype=object)"
      ]
     },
     "execution_count": 114,
     "metadata": {},
     "output_type": "execute_result"
    },
    {
     "data": {
      "image/png": "[encoded data removed]",
      "text/plain": [
       "<Figure size 360x360 with 1 Axes>"
      ]
     },
     "metadata": {},
     "output_type": "display_data"
    }
   ],
   "source": [
    "y_test.hist()"
   ]
  },
  {
   "cell_type": "code",
   "execution_count": 115,
   "metadata": {
    "scrolled": true
   },
   "outputs": [],
   "source": [
    "y_pred = reg.predict(x_test)"
   ]
  },
  {
   "cell_type": "code",
   "execution_count": 116,
   "metadata": {},
   "outputs": [
    {
     "data": {
      "text/plain": [
       "array([[162346.76281498],\n",
       "       [ 89468.34855387],\n",
       "       [319553.37580474],\n",
       "       [156491.05475339],\n",
       "       [206151.88987707],\n",
       "       [206942.11525226],\n",
       "       [121540.06267953],\n",
       "       [ 84127.63899829],\n",
       "       [137494.96553005],\n",
       "       [133898.07156776]])"
      ]
     },
     "execution_count": 116,
     "metadata": {},
     "output_type": "execute_result"
    }
   ],
   "source": [
    "y_pred[:10]"
   ]
  },
  {
   "cell_type": "code",
   "execution_count": 117,
   "metadata": {},
   "outputs": [],
   "source": [
    "from sklearn.metrics import mean_squared_error"
   ]
  },
  {
   "cell_type": "code",
   "execution_count": 118,
   "metadata": {
    "scrolled": true
   },
   "outputs": [
    {
     "name": "stdout",
     "output_type": "stream",
     "text": [
      "The mean square error of price and predicted value is:  869711737.3266702\n"
     ]
    }
   ],
   "source": [
    "mse = mean_squared_error(y_test, y_pred)\n",
    "print('The mean square error of price and predicted value is: ', mse)"
   ]
  },
  {
   "cell_type": "code",
   "execution_count": 119,
   "metadata": {},
   "outputs": [
    {
     "data": {
      "text/plain": [
       "<matplotlib.collections.PathCollection at 0x7fbf0cd83cd0>"
      ]
     },
     "execution_count": 119,
     "metadata": {},
     "output_type": "execute_result"
    },
    {
     "data": {
      "image/png": "[encoded data removed]",
      "text/plain": [
       "<Figure size 360x360 with 1 Axes>"
      ]
     },
     "metadata": {},
     "output_type": "display_data"
    }
   ],
   "source": [
    "plt.scatter(y_test, y_pred,  color='black')"
   ]
  },
  {
   "cell_type": "code",
   "execution_count": 120,
   "metadata": {},
   "outputs": [
    {
     "name": "stderr",
     "output_type": "stream",
     "text": [
      "/opt/anaconda3/lib/python3.8/site-packages/seaborn/distributions.py:2551: FutureWarning: `distplot` is a deprecated function and will be removed in a future version. Please adapt your code to use either `displot` (a figure-level function with similar flexibility) or `kdeplot` (an axes-level function for kernel density plots).\n",
      "  warnings.warn(msg, FutureWarning)\n",
      "/opt/anaconda3/lib/python3.8/site-packages/seaborn/distributions.py:2551: FutureWarning: `distplot` is a deprecated function and will be removed in a future version. Please adapt your code to use either `displot` (a figure-level function with similar flexibility) or `kdeplot` (an axes-level function for kernel density plots).\n",
      "  warnings.warn(msg, FutureWarning)\n"
     ]
    },
    {
     "data": {
      "image/png": "[encoded data removed]",
      "text/plain": [
       "<Figure size 576x432 with 1 Axes>"
      ]
     },
     "metadata": {},
     "output_type": "display_data"
    }
   ],
   "source": [
    "width = 8\n",
    "height = 6\n",
    "plt.figure(figsize=(width, height))\n",
    "\n",
    "ax1 = sns.distplot(y_test, hist=False, color=\"r\", label=\"Actual Value\")\n",
    "sns.distplot(y_pred, hist=False, color=\"b\", label=\"Fitted Values\" , ax=ax1)\n",
    "\n",
    "plt.title('Actual vs Fitted Values for Property Sales Price')\n",
    "plt.xlabel(\"Sales price\")\n",
    "plt.show()\n",
    "plt.close()"
   ]
  },
  {
   "cell_type": "markdown",
   "metadata": {},
   "source": [
    "#### MODEL 2"
   ]
  },
  {
   "cell_type": "code",
   "execution_count": 121,
   "metadata": {},
   "outputs": [],
   "source": [
    "from sklearn.tree import DecisionTreeRegressor\n",
    "reg2 = DecisionTreeRegressor().fit(x_train, y_train)"
   ]
  },
  {
   "cell_type": "code",
   "execution_count": 122,
   "metadata": {},
   "outputs": [
    {
     "name": "stdout",
     "output_type": "stream",
     "text": [
      "The r-squared value is:  1.0\n"
     ]
    }
   ],
   "source": [
    "print('The r-squared value is: ', reg2.score(x_train,y_train))"
   ]
  },
  {
   "cell_type": "code",
   "execution_count": 123,
   "metadata": {},
   "outputs": [],
   "source": [
    "y_pred2 = reg2.predict(x_test)"
   ]
  },
  {
   "cell_type": "code",
   "execution_count": 128,
   "metadata": {},
   "outputs": [
    {
     "data": {
      "text/plain": [
       "array([145000., 111000., 381000., 160000., 150000., 286000., 143750.,\n",
       "       129000., 138500., 128200., 186500.,  85000., 217500., 275000.,\n",
       "       115000., 437154., 440000., 194700., 217500., 310000., 383970.,\n",
       "       149500., 222000., 174000.,  91500., 239000., 130000., 183500.,\n",
       "       155000., 110000., 197000., 282922., 214500., 226000., 217500.,\n",
       "       146800.,  86000., 187500., 229456., 144152., 179540., 230000.,\n",
       "        75000., 154500., 228500., 118500., 148000., 319000., 118500.,\n",
       "       139400., 202665., 110500., 320000., 174000., 250000., 159000.,\n",
       "        91000., 154300., 437154., 138500., 103000., 145000., 174000.,\n",
       "       105000., 149500., 284000., 127000., 245350., 167500., 110000.,\n",
       "       319900., 136905., 187500., 113000., 153000., 127500., 177000.,\n",
       "       100000., 284000., 319000., 145000., 123000.,  85000., 207500.,\n",
       "       167000., 135000., 328000., 319900., 255900., 112000., 135000.,\n",
       "       236500., 159895., 168500., 143000., 144000., 114500., 154000.,\n",
       "       160000., 212000., 341000., 381000., 236500., 190000., 174000.,\n",
       "       118500.,  98000.,  98000., 162000., 138000., 145000., 245350.,\n",
       "       201000., 112000., 252000., 153575.,  35311.,  72500., 126000.,\n",
       "       195000., 194500., 255000., 230000., 174500., 120000., 208900.,\n",
       "       293077., 132500., 112000., 165000., 129000., 395192., 159000.,\n",
       "       174000., 185000., 119000.,  90000., 105000., 215000., 195000.,\n",
       "       119000., 139900., 186500.,  79000., 140000., 171900., 155000.,\n",
       "       192000., 227000., 319900., 145250., 284000., 155000., 238000.,\n",
       "       250000., 395192., 167000., 118000., 204900., 245000.,  84000.,\n",
       "       176000., 149900., 168000., 158900., 145000., 119900., 181000.,\n",
       "       243000., 142000.,  72500., 268000., 144000., 141000., 335000.,\n",
       "       174000.,  99500., 125000., 168000., 122000., 179900., 248900.,\n",
       "       121000., 149500., 144152., 225000., 178000., 138500., 176500.,\n",
       "       168500., 227000., 108000., 129000., 165000., 212000., 125000.,\n",
       "       257000., 173000., 179000., 142000., 144500., 271000., 145000.,\n",
       "       179200., 193500., 107000., 320000., 142000., 142000., 129000.,\n",
       "       290000., 127500., 150000., 169500., 169500., 285000., 132250.,\n",
       "       142000., 171000., 200100., 105900., 178740., 113000., 107000.,\n",
       "        75000., 248000., 143000., 128000., 290000., 144000., 266000.,\n",
       "       125500., 252000., 140000., 167900.,  98600., 144152., 196500.,\n",
       "       183500., 107900., 226000., 203000.,  92000., 325000., 193000.,\n",
       "       146800., 207000.,  85000., 270000., 163500., 133000., 119200.,\n",
       "       192140., 239000., 113000.,  85000., 124900., 485000., 148000.,\n",
       "       100000., 195000., 325300., 140000., 295493., 126000., 155000.,\n",
       "       140000., 175500.,  90350., 107000., 182900., 137500., 210000.,\n",
       "       196500., 290000., 265900., 107900., 150900., 149700.,  35311.,\n",
       "       136000., 142000., 160000., 246578., 164000., 239686.,  92000.,\n",
       "        66500., 152000., 140000., 185000., 236500., 149000., 239686.,\n",
       "       136500., 317000., 114500., 260400., 250000., 244400., 187500.,\n",
       "       249700., 162900., 171900., 143000., 117500., 146000., 319000.,\n",
       "       233000., 282922., 196000., 110000., 184100., 117000., 113000.,\n",
       "       214900., 232000.,  91300., 260000., 250000., 141000., 241000.,\n",
       "       104000., 187500., 135000., 184100., 162900., 374000., 268000.,\n",
       "       187100., 155000., 265900., 108000., 197000., 135000., 160000.,\n",
       "       315500., 134450., 127500., 275000., 125000., 119000., 144152.,\n",
       "       182900., 184900., 112000., 230000., 159000., 171000., 249700.,\n",
       "       348000., 114500., 179200., 155000., 220000., 193500., 130250.,\n",
       "       252000., 153337., 140000., 173000., 262500., 186500., 139000.,\n",
       "        90350., 197000., 143000., 147000., 140000., 253000., 266000.,\n",
       "       205000., 385000.,  90000., 135000., 204900., 142500.,  39300.,\n",
       "       193879.,  84900., 110000., 155000., 252000., 176000., 129900.,\n",
       "       103000., 189000., 315750., 144000., 210000., 193000., 116000.,\n",
       "       242000., 242000., 124000., 229456., 215200., 174500., 160000.,\n",
       "       113000., 181000., 199900., 125000., 178000., 143750., 335000.,\n",
       "       169000.,  98000., 176000., 140000.,  98000., 222000., 143000.,\n",
       "       122500., 190000.])"
      ]
     },
     "execution_count": 128,
     "metadata": {},
     "output_type": "execute_result"
    }
   ],
   "source": [
    "y_pred2"
   ]
  },
  {
   "cell_type": "code",
   "execution_count": 129,
   "metadata": {},
   "outputs": [
    {
     "name": "stdout",
     "output_type": "stream",
     "text": [
      "The mean square error of price and predicted value is:  1183203276.240964\n"
     ]
    }
   ],
   "source": [
    "from sklearn.metrics import mean_squared_error\n",
    "mse2 = mean_squared_error(y_test, y_pred2)\n",
    "print('The mean square error of price and predicted value is: ', mse2)"
   ]
  },
  {
   "cell_type": "code",
   "execution_count": 130,
   "metadata": {
    "scrolled": true
   },
   "outputs": [
    {
     "data": {
      "text/plain": [
       "<matplotlib.collections.PathCollection at 0x7fbf0ce62190>"
      ]
     },
     "execution_count": 130,
     "metadata": {},
     "output_type": "execute_result"
    },
    {
     "data": {
      "image/png": "[encoded data removed]",
      "text/plain": [
       "<Figure size 360x360 with 1 Axes>"
      ]
     },
     "metadata": {},
     "output_type": "display_data"
    }
   ],
   "source": [
    "plt.scatter(y_test, y_pred2,  color='black')"
   ]
  },
  {
   "cell_type": "code",
   "execution_count": 131,
   "metadata": {},
   "outputs": [
    {
     "name": "stderr",
     "output_type": "stream",
     "text": [
      "/opt/anaconda3/lib/python3.8/site-packages/seaborn/distributions.py:2551: FutureWarning: `distplot` is a deprecated function and will be removed in a future version. Please adapt your code to use either `displot` (a figure-level function with similar flexibility) or `kdeplot` (an axes-level function for kernel density plots).\n",
      "  warnings.warn(msg, FutureWarning)\n",
      "/opt/anaconda3/lib/python3.8/site-packages/seaborn/distributions.py:2551: FutureWarning: `distplot` is a deprecated function and will be removed in a future version. Please adapt your code to use either `displot` (a figure-level function with similar flexibility) or `kdeplot` (an axes-level function for kernel density plots).\n",
      "  warnings.warn(msg, FutureWarning)\n"
     ]
    },
    {
     "data": {
      "image/png": "[encoded data removed]",
      "text/plain": [
       "<Figure size 576x432 with 1 Axes>"
      ]
     },
     "metadata": {},
     "output_type": "display_data"
    }
   ],
   "source": [
    "width = 8\n",
    "height = 6\n",
    "plt.figure(figsize=(width, height))\n",
    "\n",
    "ax1 = sns.distplot(y_test, hist=False, color=\"r\", label=\"Actual Value\")\n",
    "sns.distplot(y_pred2, hist=False, color=\"b\", label=\"Fitted Values\" , ax=ax1)\n",
    "\n",
    "plt.title('Actual vs Fitted Values for Property Sales Price')\n",
    "plt.xlabel(\"Sales price\")\n",
    "plt.show()\n",
    "plt.close()"
   ]
  },
  {
   "cell_type": "code",
   "execution_count": 132,
   "metadata": {},
   "outputs": [],
   "source": [
    "# Model 2 has better r-squared value, and it is clear from the dist plot that this model is better as the fitted line \n",
    "# almost same as the actual line"
   ]
  }
 ],
 "metadata": {
  "kernelspec": {
   "display_name": "Python 3",
   "language": "python",
   "name": "python3"
  },
  "language_info": {
   "codemirror_mode": {
    "name": "ipython",
    "version": 3
   },
   "file_extension": ".py",
   "mimetype": "text/x-python",
   "name": "python",
   "nbconvert_exporter": "python",
   "pygments_lexer": "ipython3",
   "version": "3.8.5"
  }
 },
 "nbformat": 4,
 "nbformat_minor": 4
}
